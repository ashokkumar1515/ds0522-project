{
 "cells": [
  {
   "cell_type": "markdown",
   "id": "a62d42bf",
   "metadata": {},
   "source": [
    "# Importing requried libraries"
   ]
  },
  {
   "cell_type": "code",
   "execution_count": 1,
   "id": "62e50108",
   "metadata": {},
   "outputs": [],
   "source": [
    "import pandas as pd\n",
    "import numpy as np"
   ]
  },
  {
   "cell_type": "markdown",
   "id": "d77ae2bf",
   "metadata": {},
   "source": [
    "# Loading the dataset"
   ]
  },
  {
   "cell_type": "code",
   "execution_count": 2,
   "id": "068b5adc",
   "metadata": {},
   "outputs": [],
   "source": [
    "df=pd.read_csv(\"https://raw.githubusercontent.com/dsrscientist/dataset4/main/Japan_used_cars_datasets.csv\")"
   ]
  },
  {
   "cell_type": "code",
   "execution_count": 3,
   "id": "22a1d735",
   "metadata": {},
   "outputs": [
    {
     "data": {
      "text/html": [
       "<div>\n",
       "<style scoped>\n",
       "    .dataframe tbody tr th:only-of-type {\n",
       "        vertical-align: middle;\n",
       "    }\n",
       "\n",
       "    .dataframe tbody tr th {\n",
       "        vertical-align: top;\n",
       "    }\n",
       "\n",
       "    .dataframe thead th {\n",
       "        text-align: right;\n",
       "    }\n",
       "</style>\n",
       "<table border=\"1\" class=\"dataframe\">\n",
       "  <thead>\n",
       "    <tr style=\"text-align: right;\">\n",
       "      <th></th>\n",
       "      <th>id</th>\n",
       "      <th>price</th>\n",
       "      <th>mark</th>\n",
       "      <th>model</th>\n",
       "      <th>year</th>\n",
       "      <th>mileage</th>\n",
       "      <th>engine_capacity</th>\n",
       "      <th>transmission</th>\n",
       "      <th>drive</th>\n",
       "      <th>hand_drive</th>\n",
       "      <th>fuel</th>\n",
       "    </tr>\n",
       "  </thead>\n",
       "  <tbody>\n",
       "    <tr>\n",
       "      <th>0</th>\n",
       "      <td>0</td>\n",
       "      <td>80</td>\n",
       "      <td>nissan</td>\n",
       "      <td>march</td>\n",
       "      <td>2003</td>\n",
       "      <td>80000</td>\n",
       "      <td>1240</td>\n",
       "      <td>at</td>\n",
       "      <td>2wd</td>\n",
       "      <td>rhd</td>\n",
       "      <td>gasoline</td>\n",
       "    </tr>\n",
       "    <tr>\n",
       "      <th>1</th>\n",
       "      <td>1</td>\n",
       "      <td>110</td>\n",
       "      <td>nissan</td>\n",
       "      <td>march</td>\n",
       "      <td>2010</td>\n",
       "      <td>53000</td>\n",
       "      <td>1200</td>\n",
       "      <td>at</td>\n",
       "      <td>2wd</td>\n",
       "      <td>rhd</td>\n",
       "      <td>gasoline</td>\n",
       "    </tr>\n",
       "    <tr>\n",
       "      <th>2</th>\n",
       "      <td>2</td>\n",
       "      <td>165</td>\n",
       "      <td>nissan</td>\n",
       "      <td>lafesta</td>\n",
       "      <td>2005</td>\n",
       "      <td>47690</td>\n",
       "      <td>2000</td>\n",
       "      <td>at</td>\n",
       "      <td>2wd</td>\n",
       "      <td>rhd</td>\n",
       "      <td>gasoline</td>\n",
       "    </tr>\n",
       "    <tr>\n",
       "      <th>3</th>\n",
       "      <td>3</td>\n",
       "      <td>190</td>\n",
       "      <td>toyota</td>\n",
       "      <td>avensis</td>\n",
       "      <td>2008</td>\n",
       "      <td>130661</td>\n",
       "      <td>1990</td>\n",
       "      <td>at</td>\n",
       "      <td>2wd</td>\n",
       "      <td>rhd</td>\n",
       "      <td>gasoline</td>\n",
       "    </tr>\n",
       "    <tr>\n",
       "      <th>4</th>\n",
       "      <td>4</td>\n",
       "      <td>190</td>\n",
       "      <td>daihatsu</td>\n",
       "      <td>mira</td>\n",
       "      <td>2006</td>\n",
       "      <td>66300</td>\n",
       "      <td>660</td>\n",
       "      <td>at</td>\n",
       "      <td>2wd</td>\n",
       "      <td>rhd</td>\n",
       "      <td>gasoline</td>\n",
       "    </tr>\n",
       "    <tr>\n",
       "      <th>...</th>\n",
       "      <td>...</td>\n",
       "      <td>...</td>\n",
       "      <td>...</td>\n",
       "      <td>...</td>\n",
       "      <td>...</td>\n",
       "      <td>...</td>\n",
       "      <td>...</td>\n",
       "      <td>...</td>\n",
       "      <td>...</td>\n",
       "      <td>...</td>\n",
       "      <td>...</td>\n",
       "    </tr>\n",
       "    <tr>\n",
       "      <th>2313</th>\n",
       "      <td>2331</td>\n",
       "      <td>1400</td>\n",
       "      <td>toyota</td>\n",
       "      <td>vitz</td>\n",
       "      <td>2009</td>\n",
       "      <td>121000</td>\n",
       "      <td>996</td>\n",
       "      <td>at</td>\n",
       "      <td>2wd</td>\n",
       "      <td>rhd</td>\n",
       "      <td>gasoline</td>\n",
       "    </tr>\n",
       "    <tr>\n",
       "      <th>2314</th>\n",
       "      <td>2332</td>\n",
       "      <td>1400</td>\n",
       "      <td>toyota</td>\n",
       "      <td>estima</td>\n",
       "      <td>2003</td>\n",
       "      <td>101000</td>\n",
       "      <td>3000</td>\n",
       "      <td>at</td>\n",
       "      <td>2wd</td>\n",
       "      <td>rhd</td>\n",
       "      <td>gasoline</td>\n",
       "    </tr>\n",
       "    <tr>\n",
       "      <th>2315</th>\n",
       "      <td>2333</td>\n",
       "      <td>1400</td>\n",
       "      <td>subaru</td>\n",
       "      <td>r2</td>\n",
       "      <td>2005</td>\n",
       "      <td>101000</td>\n",
       "      <td>660</td>\n",
       "      <td>cvt</td>\n",
       "      <td>2wd</td>\n",
       "      <td>rhd</td>\n",
       "      <td>gasoline</td>\n",
       "    </tr>\n",
       "    <tr>\n",
       "      <th>2316</th>\n",
       "      <td>2334</td>\n",
       "      <td>1400</td>\n",
       "      <td>honda</td>\n",
       "      <td>z</td>\n",
       "      <td>2000</td>\n",
       "      <td>170000</td>\n",
       "      <td>660</td>\n",
       "      <td>at</td>\n",
       "      <td>4wd</td>\n",
       "      <td>rhd</td>\n",
       "      <td>gasoline</td>\n",
       "    </tr>\n",
       "    <tr>\n",
       "      <th>2317</th>\n",
       "      <td>2335</td>\n",
       "      <td>1400</td>\n",
       "      <td>toyota</td>\n",
       "      <td>estima t</td>\n",
       "      <td>2005</td>\n",
       "      <td>72320</td>\n",
       "      <td>3000</td>\n",
       "      <td>at</td>\n",
       "      <td>2wd</td>\n",
       "      <td>rhd</td>\n",
       "      <td>gasoline</td>\n",
       "    </tr>\n",
       "  </tbody>\n",
       "</table>\n",
       "<p>2318 rows × 11 columns</p>\n",
       "</div>"
      ],
      "text/plain": [
       "        id  price      mark     model  year  mileage  engine_capacity  \\\n",
       "0        0     80    nissan     march  2003    80000             1240   \n",
       "1        1    110    nissan     march  2010    53000             1200   \n",
       "2        2    165    nissan   lafesta  2005    47690             2000   \n",
       "3        3    190    toyota   avensis  2008   130661             1990   \n",
       "4        4    190  daihatsu      mira  2006    66300              660   \n",
       "...    ...    ...       ...       ...   ...      ...              ...   \n",
       "2313  2331   1400    toyota      vitz  2009   121000              996   \n",
       "2314  2332   1400    toyota    estima  2003   101000             3000   \n",
       "2315  2333   1400    subaru        r2  2005   101000              660   \n",
       "2316  2334   1400     honda         z  2000   170000              660   \n",
       "2317  2335   1400    toyota  estima t  2005    72320             3000   \n",
       "\n",
       "     transmission drive hand_drive      fuel  \n",
       "0              at   2wd        rhd  gasoline  \n",
       "1              at   2wd        rhd  gasoline  \n",
       "2              at   2wd        rhd  gasoline  \n",
       "3              at   2wd        rhd  gasoline  \n",
       "4              at   2wd        rhd  gasoline  \n",
       "...           ...   ...        ...       ...  \n",
       "2313           at   2wd        rhd  gasoline  \n",
       "2314           at   2wd        rhd  gasoline  \n",
       "2315          cvt   2wd        rhd  gasoline  \n",
       "2316           at   4wd        rhd  gasoline  \n",
       "2317           at   2wd        rhd  gasoline  \n",
       "\n",
       "[2318 rows x 11 columns]"
      ]
     },
     "execution_count": 3,
     "metadata": {},
     "output_type": "execute_result"
    }
   ],
   "source": [
    "df"
   ]
  },
  {
   "cell_type": "code",
   "execution_count": 4,
   "id": "ee268a83",
   "metadata": {},
   "outputs": [
    {
     "data": {
      "text/plain": [
       "Index(['id', 'price', 'mark', 'model', 'year', 'mileage', 'engine_capacity',\n",
       "       'transmission', 'drive', 'hand_drive', 'fuel'],\n",
       "      dtype='object')"
      ]
     },
     "execution_count": 4,
     "metadata": {},
     "output_type": "execute_result"
    }
   ],
   "source": [
    "df.columns"
   ]
  },
  {
   "cell_type": "code",
   "execution_count": 5,
   "id": "ec277141",
   "metadata": {},
   "outputs": [
    {
     "data": {
      "text/html": [
       "<div>\n",
       "<style scoped>\n",
       "    .dataframe tbody tr th:only-of-type {\n",
       "        vertical-align: middle;\n",
       "    }\n",
       "\n",
       "    .dataframe tbody tr th {\n",
       "        vertical-align: top;\n",
       "    }\n",
       "\n",
       "    .dataframe thead th {\n",
       "        text-align: right;\n",
       "    }\n",
       "</style>\n",
       "<table border=\"1\" class=\"dataframe\">\n",
       "  <thead>\n",
       "    <tr style=\"text-align: right;\">\n",
       "      <th></th>\n",
       "      <th>id</th>\n",
       "      <th>price</th>\n",
       "      <th>mark</th>\n",
       "      <th>model</th>\n",
       "      <th>year</th>\n",
       "      <th>mileage</th>\n",
       "      <th>engine_capacity</th>\n",
       "      <th>transmission</th>\n",
       "      <th>drive</th>\n",
       "      <th>hand_drive</th>\n",
       "      <th>fuel</th>\n",
       "    </tr>\n",
       "  </thead>\n",
       "  <tbody>\n",
       "    <tr>\n",
       "      <th>0</th>\n",
       "      <td>0</td>\n",
       "      <td>80</td>\n",
       "      <td>nissan</td>\n",
       "      <td>march</td>\n",
       "      <td>2003</td>\n",
       "      <td>80000</td>\n",
       "      <td>1240</td>\n",
       "      <td>at</td>\n",
       "      <td>2wd</td>\n",
       "      <td>rhd</td>\n",
       "      <td>gasoline</td>\n",
       "    </tr>\n",
       "    <tr>\n",
       "      <th>1</th>\n",
       "      <td>1</td>\n",
       "      <td>110</td>\n",
       "      <td>nissan</td>\n",
       "      <td>march</td>\n",
       "      <td>2010</td>\n",
       "      <td>53000</td>\n",
       "      <td>1200</td>\n",
       "      <td>at</td>\n",
       "      <td>2wd</td>\n",
       "      <td>rhd</td>\n",
       "      <td>gasoline</td>\n",
       "    </tr>\n",
       "    <tr>\n",
       "      <th>2</th>\n",
       "      <td>2</td>\n",
       "      <td>165</td>\n",
       "      <td>nissan</td>\n",
       "      <td>lafesta</td>\n",
       "      <td>2005</td>\n",
       "      <td>47690</td>\n",
       "      <td>2000</td>\n",
       "      <td>at</td>\n",
       "      <td>2wd</td>\n",
       "      <td>rhd</td>\n",
       "      <td>gasoline</td>\n",
       "    </tr>\n",
       "    <tr>\n",
       "      <th>3</th>\n",
       "      <td>3</td>\n",
       "      <td>190</td>\n",
       "      <td>toyota</td>\n",
       "      <td>avensis</td>\n",
       "      <td>2008</td>\n",
       "      <td>130661</td>\n",
       "      <td>1990</td>\n",
       "      <td>at</td>\n",
       "      <td>2wd</td>\n",
       "      <td>rhd</td>\n",
       "      <td>gasoline</td>\n",
       "    </tr>\n",
       "    <tr>\n",
       "      <th>4</th>\n",
       "      <td>4</td>\n",
       "      <td>190</td>\n",
       "      <td>daihatsu</td>\n",
       "      <td>mira</td>\n",
       "      <td>2006</td>\n",
       "      <td>66300</td>\n",
       "      <td>660</td>\n",
       "      <td>at</td>\n",
       "      <td>2wd</td>\n",
       "      <td>rhd</td>\n",
       "      <td>gasoline</td>\n",
       "    </tr>\n",
       "  </tbody>\n",
       "</table>\n",
       "</div>"
      ],
      "text/plain": [
       "   id  price      mark    model  year  mileage  engine_capacity transmission  \\\n",
       "0   0     80    nissan    march  2003    80000             1240           at   \n",
       "1   1    110    nissan    march  2010    53000             1200           at   \n",
       "2   2    165    nissan  lafesta  2005    47690             2000           at   \n",
       "3   3    190    toyota  avensis  2008   130661             1990           at   \n",
       "4   4    190  daihatsu     mira  2006    66300              660           at   \n",
       "\n",
       "  drive hand_drive      fuel  \n",
       "0   2wd        rhd  gasoline  \n",
       "1   2wd        rhd  gasoline  \n",
       "2   2wd        rhd  gasoline  \n",
       "3   2wd        rhd  gasoline  \n",
       "4   2wd        rhd  gasoline  "
      ]
     },
     "execution_count": 5,
     "metadata": {},
     "output_type": "execute_result"
    }
   ],
   "source": [
    "df.head()"
   ]
  },
  {
   "cell_type": "markdown",
   "id": "776a6a64",
   "metadata": {},
   "source": [
    "# Checking the null values in dataset:-"
   ]
  },
  {
   "cell_type": "code",
   "execution_count": 6,
   "id": "472d05a0",
   "metadata": {},
   "outputs": [
    {
     "data": {
      "text/plain": [
       "id                 0\n",
       "price              0\n",
       "mark               0\n",
       "model              0\n",
       "year               0\n",
       "mileage            0\n",
       "engine_capacity    0\n",
       "transmission       0\n",
       "drive              0\n",
       "hand_drive         0\n",
       "fuel               0\n",
       "dtype: int64"
      ]
     },
     "execution_count": 6,
     "metadata": {},
     "output_type": "execute_result"
    }
   ],
   "source": [
    "df.isnull().sum()"
   ]
  },
  {
   "cell_type": "markdown",
   "id": "866bd361",
   "metadata": {},
   "source": [
    "there is no null value in given data set."
   ]
  },
  {
   "cell_type": "markdown",
   "id": "274c19c8",
   "metadata": {},
   "source": [
    "# Non graphical analysis-"
   ]
  },
  {
   "cell_type": "markdown",
   "id": "dc819ec5",
   "metadata": {},
   "source": [
    "Checking the data type of the column"
   ]
  },
  {
   "cell_type": "code",
   "execution_count": 7,
   "id": "0c105855",
   "metadata": {},
   "outputs": [
    {
     "data": {
      "text/plain": [
       "id                  int64\n",
       "price               int64\n",
       "mark               object\n",
       "model              object\n",
       "year                int64\n",
       "mileage             int64\n",
       "engine_capacity     int64\n",
       "transmission       object\n",
       "drive              object\n",
       "hand_drive         object\n",
       "fuel               object\n",
       "dtype: object"
      ]
     },
     "execution_count": 7,
     "metadata": {},
     "output_type": "execute_result"
    }
   ],
   "source": [
    "df.dtypes"
   ]
  },
  {
   "cell_type": "markdown",
   "id": "78265100",
   "metadata": {},
   "source": [
    "we observe that \"price\" has catgorical data but is object type.let's handle this column."
   ]
  },
  {
   "cell_type": "code",
   "execution_count": 8,
   "id": "bd76f1e6",
   "metadata": {},
   "outputs": [
    {
     "data": {
      "text/plain": [
       "array([   0,    1,    2, ..., 2333, 2334, 2335], dtype=int64)"
      ]
     },
     "execution_count": 8,
     "metadata": {},
     "output_type": "execute_result"
    }
   ],
   "source": [
    "df[\"id\"].unique()"
   ]
  },
  {
   "cell_type": "code",
   "execution_count": 9,
   "id": "40a95c4c",
   "metadata": {},
   "outputs": [
    {
     "data": {
      "text/plain": [
       "array([  80,  110,  165,  190,  220,  230,  275,  283,  290,  300,  308,\n",
       "        310,  313,  320,  330,  336,  340,  345,  350,  355,  370,  373,\n",
       "        375,  378,  380,  381,  390,  398,  399,  400,  401,  420,  428,\n",
       "        429,  430,  440,  442,  448,  450,  457,  460,  465,  467,  471,\n",
       "        476,  480,  485,  489,  490,  495,  498,  500,  520,  526,  530,\n",
       "        540,  541,  550,  551,  560,  569,  570,  578,  579,  580,  587,\n",
       "        588,  590,  599,  600,  606,  607,  610,  616,  620,  623,  625,\n",
       "        626,  630,  635,  639,  640,  643,  649,  650,  653,  655,  660,\n",
       "        663,  670,  672,  679,  680,  681,  689,  690,  698,  699,  700,\n",
       "        707,  710,  715,  720,  725,  728,  730,  732,  740,  746,  747,\n",
       "        750,  756,  758,  760,  766,  770,  772,  774,  775,  779,  780,\n",
       "        783,  784,  790,  792,  793,  798,  799,  800,  803,  808,  810,\n",
       "        812,  820,  821,  824,  825,  830,  831,  835,  840,  841,  845,\n",
       "        848,  849,  850,  853,  854,  859,  860,  861,  866,  868,  870,\n",
       "        873,  875,  876,  877,  878,  880,  885,  887,  890,  891,  896,\n",
       "        898,  900,  903,  905,  910,  913,  915,  920,  922,  923,  924,\n",
       "        929,  930,  933,  935,  939,  940,  945,  950,  952,  953,  957,\n",
       "        960,  961,  963,  965,  968,  970,  971,  979,  980,  981,  990,\n",
       "        992,  994,  995,  998,  999, 1000, 1008, 1009, 1010, 1016, 1017,\n",
       "       1019, 1020, 1026, 1027, 1029, 1030, 1036, 1040, 1041, 1049, 1050,\n",
       "       1054, 1059, 1060, 1064, 1067, 1070, 1072, 1073, 1076, 1078, 1080,\n",
       "       1082, 1088, 1090, 1092, 1100, 1101, 1104, 1110, 1112, 1120, 1121,\n",
       "       1122, 1123, 1127, 1129, 1130, 1135, 1136, 1138, 1139, 1140, 1143,\n",
       "       1148, 1150, 1151, 1153, 1155, 1159, 1160, 1165, 1166, 1170, 1172,\n",
       "       1175, 1176, 1179, 1180, 1185, 1190, 1194, 1195, 1198, 1199, 1200,\n",
       "       1204, 1209, 1210, 1211, 1213, 1219, 1220, 1222, 1229, 1230, 1232,\n",
       "       1236, 1240, 1241, 1245, 1250, 1255, 1258, 1260, 1262, 1263, 1265,\n",
       "       1267, 1269, 1270, 1272, 1278, 1280, 1283, 1287, 1288, 1290, 1297,\n",
       "       1299, 1300, 1306, 1307, 1310, 1313, 1316, 1319, 1320, 1323, 1325,\n",
       "       1328, 1330, 1334, 1335, 1337, 1340, 1342, 1343, 1344, 1346, 1350,\n",
       "       1352, 1353, 1355, 1359, 1360, 1362, 1366, 1370, 1371, 1372, 1373,\n",
       "       1375, 1380, 1381, 1385, 1386, 1388, 1389, 1390, 1391, 1395, 1398,\n",
       "       1399, 1400], dtype=int64)"
      ]
     },
     "execution_count": 9,
     "metadata": {},
     "output_type": "execute_result"
    }
   ],
   "source": [
    "df[\"price\"].unique()"
   ]
  },
  {
   "cell_type": "code",
   "execution_count": 10,
   "id": "c5f84ca6",
   "metadata": {},
   "outputs": [
    {
     "data": {
      "text/plain": [
       "array(['nissan', 'toyota', 'daihatsu', 'volkswagen', 'mazda', 'honda',\n",
       "       'subaru', 'mercedes-benz', 'kubota', 'mitsubishi', 'suzuki', 'bmw',\n",
       "       'chrysler', 'smart', 'gm', 'opel', 'isuzu', 'land rover',\n",
       "       'peugeot', 'hyundai', 'kia motors', 'audi', 'citroen', 'mitsuoka',\n",
       "       'volvo', 'ford', 'hino', 'jaguar'], dtype=object)"
      ]
     },
     "execution_count": 10,
     "metadata": {},
     "output_type": "execute_result"
    }
   ],
   "source": [
    "df[\"mark\"].unique()"
   ]
  },
  {
   "cell_type": "code",
   "execution_count": 11,
   "id": "a2d80f89",
   "metadata": {},
   "outputs": [
    {
     "data": {
      "text/plain": [
       "array(['march', 'lafesta', 'avensis', 'mira', 'passat', 'bongo van',\n",
       "       'step wgn', 'sambar', 'inspire', 'mercedes-benz others', 'note',\n",
       "       'passo', 'impreza', 'kubota others', 'life', 'progres',\n",
       "       'cube cubic', 'cube', 'a-class', 'coltplus', 'mr wagon',\n",
       "       'pajero mini', 'fit', 'legacy b4', 'vitz', 'mark ii blit',\n",
       "       'insight', 'move', 'tanto', 'terios kid', 'az-wagon', 'coo',\n",
       "       'verisa', 'swift', 'delica d2', 'tiida', 'sienta', 'mini', 'colt',\n",
       "       'platz', 'bluebird sylphy', 'eclipse', 'bb', 'moco',\n",
       "       'clipper truck', 'esse', 'ek wagon', 'polo', 'x-trail',\n",
       "       'atenza sport', 'ad van', 'pixis space', 'freed spike', 'stream',\n",
       "       'alto', 'raum', 'wish', 'every', 'demio', 'jimny', 'premacy',\n",
       "       'cr-v', 'lapin', 'delica', 'wagon r', 'lancer', 'naked', 'odyssey',\n",
       "       'ractis', 'porte', 'corolla rumion', 'tiida latio', 'voxy',\n",
       "       'carol', 'sunny', 'bongo truck', 'boon', 's-mx', 'pt cruiser',\n",
       "       'golf', 'ad expert', 'fit hybrid', 'serena', 'edix', 'move custom',\n",
       "       'impreza anesis', 'estima', 'carry truck', 'solio', 'mpv',\n",
       "       'vanette van', 'accord', 'tribute', 'pajero io', 'noah',\n",
       "       'vanette truck', 'delica truck', 'lancer cargo', 'atenza wagon',\n",
       "       'atenza', 'vamos', 'r2', 'fun cargo', 'airwave', 'ipsum',\n",
       "       'verossa', 'forfour', 'elgrand', 'ist', 'mirage',\n",
       "       'chevrolet others', 'corolla spacio', 'aerio', 'altezza', 'vectra',\n",
       "       'minicab truck', 'outback', 'mark x', 'gaia', 'alphard', 'caldina',\n",
       "       'alphard g', 'brevis', 'axela sport', 'alphard v', 'pleo',\n",
       "       'minicab van', 'nv100clipper', 'sx4', 'legacy', 'aristo',\n",
       "       'palette', 'wizard', 'forester', 'grand escudo', 'jetta',\n",
       "       'corolla axio', 'discovery', 'stagea', 'dion', 'mira avy',\n",
       "       'mark ii', 'corolla runx', 'hijet cargo', 'biante', 'carol eco',\n",
       "       'axela', 'cami', 'hijet truck', 'e-class', 'hr-v', 'elysion',\n",
       "       'crown comfort', 'canter', 'impreza sportswagon', 'corolla ii',\n",
       "       '207', 'sx4 sedan', 'townace van', 'allion', 'passo sette',\n",
       "       'crown', 'civic ferio', 'fuga', 'legacy touring wagon', 'tucson',\n",
       "       'gloria hardtop', '3 series', 'x-trek', 'stella', 'bongo',\n",
       "       'bongo friendee', 'a4', 'a4 avant', 'fit shuttle', 'acty truck',\n",
       "       'sambar truck', 'freed', 'isis', 'exiga', 'skyline', 'allex',\n",
       "       'splash', 'titan dash', 'chaser', 'voltz', 'visto', 'civic hybrid',\n",
       "       'wingroad', 'murano', 'probox', 'c-class', 'corolla sedan',\n",
       "       'xsara picasso', 'rx-8', 'corona premio', 'comfort', 'miragino',\n",
       "       'new beetle', 'viewt', 'canter guts', 'regius wagon', 'v70',\n",
       "       'mira es', 'acty van', 'duet', 'b-class', '307', 'belta', 'otti',\n",
       "       'mini cooper', 'ek sport', 'escudo', 'succeed van', 'atrai wagon',\n",
       "       'atrai', 'zest', 'mdx', 'galant fortis', 'terios', 'clipper van',\n",
       "       '1 series', 'townace noah', 'premio', 'outlander', 'opa',\n",
       "       'bongo brawny truck', 'masterace surf', 'move latte', 'santa fe',\n",
       "       'terracan', 'teana', 'cima', 'auris', 'corolla fielder', 'ad',\n",
       "       'freelander', 'town box', 'probox van', 'golf variant', 'windom',\n",
       "       'cerato', 'pride', 'escape', 'landy', 'vivio', 'spade', 'clipper',\n",
       "       'dutro', 'elf truck', 'carina', 'wagon r rr', 'x-type', 'trajet',\n",
       "       'minica', 'c30', 'z', 'estima t'], dtype=object)"
      ]
     },
     "execution_count": 11,
     "metadata": {},
     "output_type": "execute_result"
    }
   ],
   "source": [
    "df[\"model\"].unique()"
   ]
  },
  {
   "cell_type": "code",
   "execution_count": 12,
   "id": "8f66b111",
   "metadata": {},
   "outputs": [
    {
     "data": {
      "text/plain": [
       "array([2003, 2010, 2005, 2008, 2006, 2004, 2002, 2011, 2007, 2009, 1979,\n",
       "       2012, 1998, 1999, 2001, 2000, 2013, 1982, 1994, 1997, 1996, 1995,\n",
       "       2014, 1990, 1991, 1993, 2015, 1992, 1987, 1988], dtype=int64)"
      ]
     },
     "execution_count": 12,
     "metadata": {},
     "output_type": "execute_result"
    }
   ],
   "source": [
    "df[\"year\"].unique()"
   ]
  },
  {
   "cell_type": "code",
   "execution_count": 13,
   "id": "12392095",
   "metadata": {},
   "outputs": [
    {
     "data": {
      "text/plain": [
       "array([ 80000,  53000,  47690, ..., 111670, 101874,  72320], dtype=int64)"
      ]
     },
     "execution_count": 13,
     "metadata": {},
     "output_type": "execute_result"
    }
   ],
   "source": [
    "df[\"mileage\"].unique()"
   ]
  },
  {
   "cell_type": "code",
   "execution_count": 14,
   "id": "322fcab6",
   "metadata": {
    "scrolled": true
   },
   "outputs": [
    {
     "data": {
      "text/plain": [
       "array([ 1240,  1200,  2000,  1990,   660,  3190,  1800,   650,  2490,\n",
       "        2030,  1500,  1000,     9,   990,  2390,  1700,  1290,  2990,\n",
       "        1980,  1300,  1330,  1600,  2970,  1400,  1430,  2320,  1790,\n",
       "        1490,  1460,  1320,  2400,  1380,  2200,  3000,  2300,  1296,\n",
       "        1496,  1297,  2500,   690,  3500,  2190,  2450,  1590,  2499,\n",
       "        1799,  1780,  3100,  2730,  1480,  3530,  1970,  1794,  3200,\n",
       "        2260,  2350,  1190,  2180,  1660,  1991,   550,  1410,  1242,\n",
       "        1498,  1986,   798,  1587,  1998,  1270,  2700,  2520,  2360,\n",
       "        1997,  1830,  1762,  2480,  3470,  3690,  3490,  3160,  1340,\n",
       "        2476,   996, 12340,  4500,  1390,  1599,  1493,  4890,  3050,\n",
       "        2100,  2497,  1999], dtype=int64)"
      ]
     },
     "execution_count": 14,
     "metadata": {},
     "output_type": "execute_result"
    }
   ],
   "source": [
    "df[\"engine_capacity\"].unique()"
   ]
  },
  {
   "cell_type": "code",
   "execution_count": 15,
   "id": "91c001f2",
   "metadata": {},
   "outputs": [
    {
     "data": {
      "text/plain": [
       "array(['at', 'mt', 'cvt'], dtype=object)"
      ]
     },
     "execution_count": 15,
     "metadata": {},
     "output_type": "execute_result"
    }
   ],
   "source": [
    "df[\"transmission\"].unique()"
   ]
  },
  {
   "cell_type": "code",
   "execution_count": 16,
   "id": "45b51f35",
   "metadata": {},
   "outputs": [
    {
     "data": {
      "text/plain": [
       "array(['2wd', '4wd', 'awd'], dtype=object)"
      ]
     },
     "execution_count": 16,
     "metadata": {},
     "output_type": "execute_result"
    }
   ],
   "source": [
    "df[\"drive\"].unique()"
   ]
  },
  {
   "cell_type": "code",
   "execution_count": 17,
   "id": "42fea761",
   "metadata": {},
   "outputs": [
    {
     "data": {
      "text/plain": [
       "array(['rhd', 'center', 'lhd'], dtype=object)"
      ]
     },
     "execution_count": 17,
     "metadata": {},
     "output_type": "execute_result"
    }
   ],
   "source": [
    "df[\"hand_drive\"].unique()"
   ]
  },
  {
   "cell_type": "code",
   "execution_count": 18,
   "id": "d6e28a72",
   "metadata": {},
   "outputs": [
    {
     "data": {
      "text/plain": [
       "array(['gasoline', 'diesel', 'hybrid', 'lpg', 'cng'], dtype=object)"
      ]
     },
     "execution_count": 18,
     "metadata": {},
     "output_type": "execute_result"
    }
   ],
   "source": [
    "df[\"fuel\"].unique()"
   ]
  },
  {
   "cell_type": "code",
   "execution_count": 19,
   "id": "3d9c37b6",
   "metadata": {},
   "outputs": [
    {
     "data": {
      "text/plain": [
       "2318"
      ]
     },
     "execution_count": 19,
     "metadata": {},
     "output_type": "execute_result"
    }
   ],
   "source": [
    "df[\"id\"].nunique()"
   ]
  },
  {
   "cell_type": "code",
   "execution_count": 20,
   "id": "adcc03d2",
   "metadata": {},
   "outputs": [
    {
     "data": {
      "text/plain": [
       "354"
      ]
     },
     "execution_count": 20,
     "metadata": {},
     "output_type": "execute_result"
    }
   ],
   "source": [
    "df[\"price\"].nunique()"
   ]
  },
  {
   "cell_type": "code",
   "execution_count": 21,
   "id": "809b8ce6",
   "metadata": {},
   "outputs": [
    {
     "data": {
      "text/plain": [
       "28"
      ]
     },
     "execution_count": 21,
     "metadata": {},
     "output_type": "execute_result"
    }
   ],
   "source": [
    "df[\"mark\"].nunique()"
   ]
  },
  {
   "cell_type": "code",
   "execution_count": 22,
   "id": "88ba9785",
   "metadata": {},
   "outputs": [
    {
     "data": {
      "text/plain": [
       "258"
      ]
     },
     "execution_count": 22,
     "metadata": {},
     "output_type": "execute_result"
    }
   ],
   "source": [
    "df[\"model\"].nunique()"
   ]
  },
  {
   "cell_type": "code",
   "execution_count": 23,
   "id": "1cbee299",
   "metadata": {},
   "outputs": [
    {
     "data": {
      "text/plain": [
       "30"
      ]
     },
     "execution_count": 23,
     "metadata": {},
     "output_type": "execute_result"
    }
   ],
   "source": [
    "df[\"year\"].nunique()"
   ]
  },
  {
   "cell_type": "code",
   "execution_count": 24,
   "id": "303bc284",
   "metadata": {},
   "outputs": [
    {
     "data": {
      "text/plain": [
       "1367"
      ]
     },
     "execution_count": 24,
     "metadata": {},
     "output_type": "execute_result"
    }
   ],
   "source": [
    "df[\"mileage\"].nunique()"
   ]
  },
  {
   "cell_type": "code",
   "execution_count": 25,
   "id": "5fb30ff1",
   "metadata": {},
   "outputs": [
    {
     "data": {
      "text/plain": [
       "93"
      ]
     },
     "execution_count": 25,
     "metadata": {},
     "output_type": "execute_result"
    }
   ],
   "source": [
    "df[\"engine_capacity\"].nunique()"
   ]
  },
  {
   "cell_type": "code",
   "execution_count": 26,
   "id": "cf466670",
   "metadata": {},
   "outputs": [
    {
     "data": {
      "text/plain": [
       "3"
      ]
     },
     "execution_count": 26,
     "metadata": {},
     "output_type": "execute_result"
    }
   ],
   "source": [
    "df[\"transmission\"].nunique()"
   ]
  },
  {
   "cell_type": "code",
   "execution_count": 27,
   "id": "e1f99d51",
   "metadata": {},
   "outputs": [
    {
     "data": {
      "text/plain": [
       "3"
      ]
     },
     "execution_count": 27,
     "metadata": {},
     "output_type": "execute_result"
    }
   ],
   "source": [
    "df[\"drive\"].nunique()"
   ]
  },
  {
   "cell_type": "code",
   "execution_count": 28,
   "id": "1ad28d98",
   "metadata": {},
   "outputs": [
    {
     "data": {
      "text/plain": [
       "3"
      ]
     },
     "execution_count": 28,
     "metadata": {},
     "output_type": "execute_result"
    }
   ],
   "source": [
    "df[\"hand_drive\"].nunique()"
   ]
  },
  {
   "cell_type": "code",
   "execution_count": 29,
   "id": "2d27a56c",
   "metadata": {},
   "outputs": [
    {
     "data": {
      "text/plain": [
       "5"
      ]
     },
     "execution_count": 29,
     "metadata": {},
     "output_type": "execute_result"
    }
   ],
   "source": [
    "df[\"fuel\"].nunique()"
   ]
  },
  {
   "cell_type": "code",
   "execution_count": 30,
   "id": "59c579ec",
   "metadata": {},
   "outputs": [
    {
     "data": {
      "text/html": [
       "<div>\n",
       "<style scoped>\n",
       "    .dataframe tbody tr th:only-of-type {\n",
       "        vertical-align: middle;\n",
       "    }\n",
       "\n",
       "    .dataframe tbody tr th {\n",
       "        vertical-align: top;\n",
       "    }\n",
       "\n",
       "    .dataframe thead th {\n",
       "        text-align: right;\n",
       "    }\n",
       "</style>\n",
       "<table border=\"1\" class=\"dataframe\">\n",
       "  <thead>\n",
       "    <tr style=\"text-align: right;\">\n",
       "      <th></th>\n",
       "      <th>id</th>\n",
       "      <th>price</th>\n",
       "      <th>year</th>\n",
       "      <th>mileage</th>\n",
       "      <th>engine_capacity</th>\n",
       "    </tr>\n",
       "  </thead>\n",
       "  <tbody>\n",
       "    <tr>\n",
       "      <th>count</th>\n",
       "      <td>2318.000000</td>\n",
       "      <td>2318.000000</td>\n",
       "      <td>2318.000000</td>\n",
       "      <td>2318.000000</td>\n",
       "      <td>2318.000000</td>\n",
       "    </tr>\n",
       "    <tr>\n",
       "      <th>mean</th>\n",
       "      <td>1169.047023</td>\n",
       "      <td>971.522433</td>\n",
       "      <td>2005.972390</td>\n",
       "      <td>100013.194996</td>\n",
       "      <td>1507.010785</td>\n",
       "    </tr>\n",
       "    <tr>\n",
       "      <th>std</th>\n",
       "      <td>674.460724</td>\n",
       "      <td>288.673112</td>\n",
       "      <td>3.698863</td>\n",
       "      <td>52512.478883</td>\n",
       "      <td>549.585170</td>\n",
       "    </tr>\n",
       "    <tr>\n",
       "      <th>min</th>\n",
       "      <td>0.000000</td>\n",
       "      <td>80.000000</td>\n",
       "      <td>1979.000000</td>\n",
       "      <td>2000.000000</td>\n",
       "      <td>9.000000</td>\n",
       "    </tr>\n",
       "    <tr>\n",
       "      <th>25%</th>\n",
       "      <td>583.250000</td>\n",
       "      <td>776.000000</td>\n",
       "      <td>2004.000000</td>\n",
       "      <td>67000.000000</td>\n",
       "      <td>1300.000000</td>\n",
       "    </tr>\n",
       "    <tr>\n",
       "      <th>50%</th>\n",
       "      <td>1168.500000</td>\n",
       "      <td>1000.000000</td>\n",
       "      <td>2006.000000</td>\n",
       "      <td>94000.000000</td>\n",
       "      <td>1490.000000</td>\n",
       "    </tr>\n",
       "    <tr>\n",
       "      <th>75%</th>\n",
       "      <td>1753.750000</td>\n",
       "      <td>1213.000000</td>\n",
       "      <td>2009.000000</td>\n",
       "      <td>124000.000000</td>\n",
       "      <td>1800.000000</td>\n",
       "    </tr>\n",
       "    <tr>\n",
       "      <th>max</th>\n",
       "      <td>2335.000000</td>\n",
       "      <td>1400.000000</td>\n",
       "      <td>2015.000000</td>\n",
       "      <td>790000.000000</td>\n",
       "      <td>12340.000000</td>\n",
       "    </tr>\n",
       "  </tbody>\n",
       "</table>\n",
       "</div>"
      ],
      "text/plain": [
       "                id        price         year        mileage  engine_capacity\n",
       "count  2318.000000  2318.000000  2318.000000    2318.000000      2318.000000\n",
       "mean   1169.047023   971.522433  2005.972390  100013.194996      1507.010785\n",
       "std     674.460724   288.673112     3.698863   52512.478883       549.585170\n",
       "min       0.000000    80.000000  1979.000000    2000.000000         9.000000\n",
       "25%     583.250000   776.000000  2004.000000   67000.000000      1300.000000\n",
       "50%    1168.500000  1000.000000  2006.000000   94000.000000      1490.000000\n",
       "75%    1753.750000  1213.000000  2009.000000  124000.000000      1800.000000\n",
       "max    2335.000000  1400.000000  2015.000000  790000.000000     12340.000000"
      ]
     },
     "execution_count": 30,
     "metadata": {},
     "output_type": "execute_result"
    }
   ],
   "source": [
    "df.describe()"
   ]
  },
  {
   "cell_type": "code",
   "execution_count": 31,
   "id": "1f61cdd3",
   "metadata": {},
   "outputs": [
    {
     "data": {
      "text/plain": [
       "(2318, 11)"
      ]
     },
     "execution_count": 31,
     "metadata": {},
     "output_type": "execute_result"
    }
   ],
   "source": [
    "df.shape #checking the data dimensions."
   ]
  },
  {
   "cell_type": "markdown",
   "id": "6d24d3ea",
   "metadata": {},
   "source": [
    "we have 2318 row and 11 columns include the target column."
   ]
  },
  {
   "cell_type": "code",
   "execution_count": null,
   "id": "c66607bc",
   "metadata": {},
   "outputs": [],
   "source": []
  },
  {
   "cell_type": "code",
   "execution_count": 32,
   "id": "38b0cf3c",
   "metadata": {},
   "outputs": [
    {
     "data": {
      "text/html": [
       "<div>\n",
       "<style scoped>\n",
       "    .dataframe tbody tr th:only-of-type {\n",
       "        vertical-align: middle;\n",
       "    }\n",
       "\n",
       "    .dataframe tbody tr th {\n",
       "        vertical-align: top;\n",
       "    }\n",
       "\n",
       "    .dataframe thead th {\n",
       "        text-align: right;\n",
       "    }\n",
       "</style>\n",
       "<table border=\"1\" class=\"dataframe\">\n",
       "  <thead>\n",
       "    <tr style=\"text-align: right;\">\n",
       "      <th></th>\n",
       "      <th>mark</th>\n",
       "      <th>model</th>\n",
       "      <th>transmission</th>\n",
       "      <th>drive</th>\n",
       "      <th>hand_drive</th>\n",
       "      <th>fuel</th>\n",
       "    </tr>\n",
       "  </thead>\n",
       "  <tbody>\n",
       "    <tr>\n",
       "      <th>count</th>\n",
       "      <td>2318</td>\n",
       "      <td>2318</td>\n",
       "      <td>2318</td>\n",
       "      <td>2318</td>\n",
       "      <td>2318</td>\n",
       "      <td>2318</td>\n",
       "    </tr>\n",
       "    <tr>\n",
       "      <th>unique</th>\n",
       "      <td>28</td>\n",
       "      <td>258</td>\n",
       "      <td>3</td>\n",
       "      <td>3</td>\n",
       "      <td>3</td>\n",
       "      <td>5</td>\n",
       "    </tr>\n",
       "    <tr>\n",
       "      <th>top</th>\n",
       "      <td>toyota</td>\n",
       "      <td>fit</td>\n",
       "      <td>at</td>\n",
       "      <td>2wd</td>\n",
       "      <td>rhd</td>\n",
       "      <td>gasoline</td>\n",
       "    </tr>\n",
       "    <tr>\n",
       "      <th>freq</th>\n",
       "      <td>1047</td>\n",
       "      <td>270</td>\n",
       "      <td>2171</td>\n",
       "      <td>2121</td>\n",
       "      <td>2301</td>\n",
       "      <td>2290</td>\n",
       "    </tr>\n",
       "  </tbody>\n",
       "</table>\n",
       "</div>"
      ],
      "text/plain": [
       "          mark model transmission drive hand_drive      fuel\n",
       "count     2318  2318         2318  2318       2318      2318\n",
       "unique      28   258            3     3          3         5\n",
       "top     toyota   fit           at   2wd        rhd  gasoline\n",
       "freq      1047   270         2171  2121       2301      2290"
      ]
     },
     "execution_count": 32,
     "metadata": {},
     "output_type": "execute_result"
    }
   ],
   "source": [
    "df.describe(include=['O'])"
   ]
  },
  {
   "cell_type": "code",
   "execution_count": 33,
   "id": "305c49f5",
   "metadata": {},
   "outputs": [],
   "source": [
    "pd.set_option('display.max_columns',500)"
   ]
  },
  {
   "cell_type": "markdown",
   "id": "b8f136c7",
   "metadata": {},
   "source": [
    "there are 11 columns so all are not getting displayed here.we will check for outliers and skewness seperately in future step. "
   ]
  },
  {
   "cell_type": "code",
   "execution_count": 34,
   "id": "69288066",
   "metadata": {},
   "outputs": [
    {
     "data": {
      "image/png": "[encoded data removed]",
      "text/plain": [
       "<Figure size 432x288 with 2 Axes>"
      ]
     },
     "metadata": {
      "needs_background": "light"
     },
     "output_type": "display_data"
    }
   ],
   "source": [
    "import seaborn as sns\n",
    "import matplotlib.pyplot as plt\n",
    "sns.heatmap(df.isnull())\n",
    "plt.title(\"Null values\")\n",
    "plt.show()"
   ]
  },
  {
   "cell_type": "code",
   "execution_count": 35,
   "id": "1c5f90c5",
   "metadata": {},
   "outputs": [
    {
     "data": {
      "text/plain": [
       "id                 0\n",
       "price              0\n",
       "mark               0\n",
       "model              0\n",
       "year               0\n",
       "mileage            0\n",
       "engine_capacity    0\n",
       "transmission       0\n",
       "drive              0\n",
       "hand_drive         0\n",
       "fuel               0\n",
       "dtype: int64"
      ]
     },
     "execution_count": 35,
     "metadata": {},
     "output_type": "execute_result"
    }
   ],
   "source": [
    " df.isnull().sum()"
   ]
  },
  {
   "cell_type": "code",
   "execution_count": 36,
   "id": "98487914",
   "metadata": {},
   "outputs": [
    {
     "data": {
      "text/plain": [
       "0"
      ]
     },
     "execution_count": 36,
     "metadata": {},
     "output_type": "execute_result"
    }
   ],
   "source": [
    "df.isnull().sum().sum()"
   ]
  },
  {
   "cell_type": "markdown",
   "id": "30149028",
   "metadata": {},
   "source": [
    "there is no null values in the dataset."
   ]
  },
  {
   "cell_type": "markdown",
   "id": "3d969af3",
   "metadata": {},
   "source": [
    "# Target variable"
   ]
  },
  {
   "cell_type": "code",
   "execution_count": 37,
   "id": "1e591c67",
   "metadata": {},
   "outputs": [
    {
     "data": {
      "image/png": "[encoded data removed]",
      "text/plain": [
       "<Figure size 432x288 with 1 Axes>"
      ]
     },
     "metadata": {
      "needs_background": "light"
     },
     "output_type": "display_data"
    }
   ],
   "source": [
    "df[\"price\"].hist(grid=False)\n",
    "plt.show()"
   ]
  },
  {
   "cell_type": "code",
   "execution_count": 38,
   "id": "eb8d3efe",
   "metadata": {},
   "outputs": [
    {
     "data": {
      "text/html": [
       "<div>\n",
       "<style scoped>\n",
       "    .dataframe tbody tr th:only-of-type {\n",
       "        vertical-align: middle;\n",
       "    }\n",
       "\n",
       "    .dataframe tbody tr th {\n",
       "        vertical-align: top;\n",
       "    }\n",
       "\n",
       "    .dataframe thead th {\n",
       "        text-align: right;\n",
       "    }\n",
       "</style>\n",
       "<table border=\"1\" class=\"dataframe\">\n",
       "  <thead>\n",
       "    <tr style=\"text-align: right;\">\n",
       "      <th></th>\n",
       "    </tr>\n",
       "  </thead>\n",
       "  <tbody>\n",
       "  </tbody>\n",
       "</table>\n",
       "</div>"
      ],
      "text/plain": [
       "Empty DataFrame\n",
       "Columns: []\n",
       "Index: []"
      ]
     },
     "execution_count": 38,
     "metadata": {},
     "output_type": "execute_result"
    }
   ],
   "source": [
    "pd.DataFrame()"
   ]
  },
  {
   "cell_type": "code",
   "execution_count": 39,
   "id": "1f851f63",
   "metadata": {},
   "outputs": [
    {
     "data": {
      "text/plain": [
       "850     71\n",
       "790     58\n",
       "1306    57\n",
       "1120    56\n",
       "1220    45\n",
       "        ..\n",
       "1121     1\n",
       "1122     1\n",
       "1123     1\n",
       "1127     1\n",
       "80       1\n",
       "Name: price, Length: 354, dtype: int64"
      ]
     },
     "execution_count": 39,
     "metadata": {},
     "output_type": "execute_result"
    }
   ],
   "source": [
    "df[\"price\"].value_counts()"
   ]
  },
  {
   "cell_type": "code",
   "execution_count": 40,
   "id": "d9061d82",
   "metadata": {},
   "outputs": [
    {
     "data": {
      "text/plain": [
       "850     3.062985\n",
       "790     2.502157\n",
       "1306    2.459016\n",
       "1120    2.415876\n",
       "1220    1.941329\n",
       "          ...   \n",
       "1121    0.043141\n",
       "1122    0.043141\n",
       "1123    0.043141\n",
       "1127    0.043141\n",
       "80      0.043141\n",
       "Name: price, Length: 354, dtype: float64"
      ]
     },
     "execution_count": 40,
     "metadata": {},
     "output_type": "execute_result"
    }
   ],
   "source": [
    "df[\"price\"].value_counts(normalize=True)*100"
   ]
  },
  {
   "cell_type": "markdown",
   "id": "28e8d737",
   "metadata": {},
   "source": [
    "There is no sign imbalance."
   ]
  },
  {
   "cell_type": "markdown",
   "id": "89f422b1",
   "metadata": {},
   "source": [
    "# Let's check the data distribution among all the columns"
   ]
  },
  {
   "cell_type": "code",
   "execution_count": 41,
   "id": "79cf4560",
   "metadata": {},
   "outputs": [
    {
     "data": {
      "image/png": "[encoded data removed]",
      "text/plain": [
       "<Figure size 1296x864 with 66 Axes>"
      ]
     },
     "metadata": {
      "needs_background": "light"
     },
     "output_type": "display_data"
    }
   ],
   "source": [
    "df.plot(kind='density',subplots=True, layout=(6,11), sharex=False,legend=False ,fontsize=1,figsize=(18,12))\n",
    "plt.show()"
   ]
  },
  {
   "cell_type": "markdown",
   "id": "e4949720",
   "metadata": {},
   "source": [
    "we can see skewness in data for columns,will handle the skewness in further steps."
   ]
  },
  {
   "cell_type": "markdown",
   "id": "41f14bf6",
   "metadata": {},
   "source": [
    "# scatter plot:-"
   ]
  },
  {
   "cell_type": "code",
   "execution_count": 42,
   "id": "d8026888",
   "metadata": {},
   "outputs": [],
   "source": [
    "import seaborn as sns"
   ]
  },
  {
   "cell_type": "code",
   "execution_count": 43,
   "id": "3265b5ed",
   "metadata": {},
   "outputs": [
    {
     "data": {
      "text/plain": [
       "<AxesSubplot:xlabel='id', ylabel='price'>"
      ]
     },
     "execution_count": 43,
     "metadata": {},
     "output_type": "execute_result"
    },
    {
     "data": {
      "image/png": "[encoded data removed]",
      "text/plain": [
       "<Figure size 432x288 with 1 Axes>"
      ]
     },
     "metadata": {
      "needs_background": "light"
     },
     "output_type": "display_data"
    }
   ],
   "source": [
    "sns.scatterplot(x='id',y='price',data=df)"
   ]
  },
  {
   "cell_type": "code",
   "execution_count": 44,
   "id": "0e26b649",
   "metadata": {},
   "outputs": [
    {
     "data": {
      "text/plain": [
       "<AxesSubplot:xlabel='mark', ylabel='price'>"
      ]
     },
     "execution_count": 44,
     "metadata": {},
     "output_type": "execute_result"
    },
    {
     "data": {
      "image/png": "[encoded data removed]",
      "text/plain": [
       "<Figure size 432x288 with 1 Axes>"
      ]
     },
     "metadata": {
      "needs_background": "light"
     },
     "output_type": "display_data"
    }
   ],
   "source": [
    "sns.scatterplot(x='mark',y='price',data=df)"
   ]
  },
  {
   "cell_type": "code",
   "execution_count": 45,
   "id": "f730c9f2",
   "metadata": {},
   "outputs": [
    {
     "data": {
      "text/plain": [
       "<AxesSubplot:xlabel='model', ylabel='price'>"
      ]
     },
     "execution_count": 45,
     "metadata": {},
     "output_type": "execute_result"
    },
    {
     "data": {
      "image/png": "[encoded data removed]",
      "text/plain": [
       "<Figure size 432x288 with 1 Axes>"
      ]
     },
     "metadata": {
      "needs_background": "light"
     },
     "output_type": "display_data"
    }
   ],
   "source": [
    "sns.scatterplot(x='model',y='price',data=df)"
   ]
  },
  {
   "cell_type": "code",
   "execution_count": 46,
   "id": "d8142550",
   "metadata": {},
   "outputs": [
    {
     "data": {
      "text/plain": [
       "<AxesSubplot:xlabel='year', ylabel='price'>"
      ]
     },
     "execution_count": 46,
     "metadata": {},
     "output_type": "execute_result"
    },
    {
     "data": {
      "image/png": "[encoded data removed]",
      "text/plain": [
       "<Figure size 432x288 with 1 Axes>"
      ]
     },
     "metadata": {
      "needs_background": "light"
     },
     "output_type": "display_data"
    }
   ],
   "source": [
    "sns.scatterplot(x='year',y='price',data=df)"
   ]
  },
  {
   "cell_type": "code",
   "execution_count": 47,
   "id": "a51b7453",
   "metadata": {},
   "outputs": [
    {
     "data": {
      "text/plain": [
       "<AxesSubplot:xlabel='mileage', ylabel='price'>"
      ]
     },
     "execution_count": 47,
     "metadata": {},
     "output_type": "execute_result"
    },
    {
     "data": {
      "image/png": "[encoded data removed]",
      "text/plain": [
       "<Figure size 432x288 with 1 Axes>"
      ]
     },
     "metadata": {
      "needs_background": "light"
     },
     "output_type": "display_data"
    }
   ],
   "source": [
    "sns.scatterplot(x='mileage',y='price',data=df)"
   ]
  },
  {
   "cell_type": "code",
   "execution_count": 48,
   "id": "17a82df6",
   "metadata": {},
   "outputs": [
    {
     "data": {
      "text/plain": [
       "<AxesSubplot:xlabel='engine_capacity', ylabel='price'>"
      ]
     },
     "execution_count": 48,
     "metadata": {},
     "output_type": "execute_result"
    },
    {
     "data": {
      "image/png": "[encoded data removed]",
      "text/plain": [
       "<Figure size 432x288 with 1 Axes>"
      ]
     },
     "metadata": {
      "needs_background": "light"
     },
     "output_type": "display_data"
    }
   ],
   "source": [
    "sns.scatterplot(x='engine_capacity',y='price',data=df)"
   ]
  },
  {
   "cell_type": "code",
   "execution_count": 49,
   "id": "942cfaef",
   "metadata": {},
   "outputs": [
    {
     "data": {
      "text/plain": [
       "<AxesSubplot:xlabel='transmission', ylabel='price'>"
      ]
     },
     "execution_count": 49,
     "metadata": {},
     "output_type": "execute_result"
    },
    {
     "data": {
      "image/png": "[encoded data removed]",
      "text/plain": [
       "<Figure size 432x288 with 1 Axes>"
      ]
     },
     "metadata": {
      "needs_background": "light"
     },
     "output_type": "display_data"
    }
   ],
   "source": [
    "sns.scatterplot(x='transmission',y='price',data=df)"
   ]
  },
  {
   "cell_type": "code",
   "execution_count": 50,
   "id": "994c56f3",
   "metadata": {},
   "outputs": [
    {
     "data": {
      "text/plain": [
       "<AxesSubplot:xlabel='drive', ylabel='price'>"
      ]
     },
     "execution_count": 50,
     "metadata": {},
     "output_type": "execute_result"
    },
    {
     "data": {
      "image/png": "[encoded data removed]",
      "text/plain": [
       "<Figure size 432x288 with 1 Axes>"
      ]
     },
     "metadata": {
      "needs_background": "light"
     },
     "output_type": "display_data"
    }
   ],
   "source": [
    "sns.scatterplot(x='drive',y='price',data=df)"
   ]
  },
  {
   "cell_type": "code",
   "execution_count": 51,
   "id": "f346c465",
   "metadata": {},
   "outputs": [
    {
     "data": {
      "text/plain": [
       "<AxesSubplot:xlabel='hand_drive', ylabel='price'>"
      ]
     },
     "execution_count": 51,
     "metadata": {},
     "output_type": "execute_result"
    },
    {
     "data": {
      "image/png": "[encoded data removed]",
      "text/plain": [
       "<Figure size 432x288 with 1 Axes>"
      ]
     },
     "metadata": {
      "needs_background": "light"
     },
     "output_type": "display_data"
    }
   ],
   "source": [
    "sns.scatterplot(x='hand_drive',y='price',data=df)"
   ]
  },
  {
   "cell_type": "code",
   "execution_count": 52,
   "id": "b590a561",
   "metadata": {},
   "outputs": [
    {
     "data": {
      "text/plain": [
       "<AxesSubplot:xlabel='fuel', ylabel='price'>"
      ]
     },
     "execution_count": 52,
     "metadata": {},
     "output_type": "execute_result"
    },
    {
     "data": {
      "image/png": "[encoded data removed]",
      "text/plain": [
       "<Figure size 432x288 with 1 Axes>"
      ]
     },
     "metadata": {
      "needs_background": "light"
     },
     "output_type": "display_data"
    }
   ],
   "source": [
    "sns.scatterplot(x='fuel',y='price',data=df)"
   ]
  },
  {
   "cell_type": "markdown",
   "id": "ee561821",
   "metadata": {},
   "source": [
    "# making dataframe for the nominal data"
   ]
  },
  {
   "cell_type": "code",
   "execution_count": 53,
   "id": "303f6b00",
   "metadata": {},
   "outputs": [],
   "source": [
    "import matplotlib.pyplot as plt"
   ]
  },
  {
   "cell_type": "code",
   "execution_count": 54,
   "id": "51f15cab",
   "metadata": {},
   "outputs": [],
   "source": [
    "df_visualization_nominal=df[['id', 'price', 'mark', 'model', 'year', 'mileage', 'engine_capacity',\n",
    "       'transmission', 'drive', 'hand_drive', 'fuel']].copy()"
   ]
  },
  {
   "cell_type": "code",
   "execution_count": 55,
   "id": "7ea90fca",
   "metadata": {},
   "outputs": [
    {
     "data": {
      "text/plain": [
       "Index(['id', 'price', 'mark', 'model', 'year', 'mileage', 'engine_capacity',\n",
       "       'transmission', 'drive', 'hand_drive', 'fuel'],\n",
       "      dtype='object')"
      ]
     },
     "execution_count": 55,
     "metadata": {},
     "output_type": "execute_result"
    }
   ],
   "source": [
    "df_visualization_nominal.columns"
   ]
  },
  {
   "cell_type": "markdown",
   "id": "afabfa8b",
   "metadata": {},
   "source": [
    "# Visualization of the Data"
   ]
  },
  {
   "cell_type": "code",
   "execution_count": 56,
   "id": "a09d6de5",
   "metadata": {},
   "outputs": [],
   "source": [
    "import seaborn as sns"
   ]
  },
  {
   "cell_type": "code",
   "execution_count": 57,
   "id": "5de790a7",
   "metadata": {},
   "outputs": [
    {
     "name": "stdout",
     "output_type": "stream",
     "text": [
      "850     71\n",
      "790     58\n",
      "1306    57\n",
      "1120    56\n",
      "1220    45\n",
      "        ..\n",
      "1121     1\n",
      "1122     1\n",
      "1123     1\n",
      "1127     1\n",
      "80       1\n",
      "Name: price, Length: 354, dtype: int64\n"
     ]
    },
    {
     "data": {
      "image/png": "[encoded data removed]",
      "text/plain": [
       "<Figure size 432x288 with 1 Axes>"
      ]
     },
     "metadata": {
      "needs_background": "light"
     },
     "output_type": "display_data"
    }
   ],
   "source": [
    "ax=sns.countplot(x='price',data=df_visualization_nominal)\n",
    "print(df_visualization_nominal['price'].value_counts())"
   ]
  },
  {
   "cell_type": "code",
   "execution_count": 58,
   "id": "a29dd1b0",
   "metadata": {},
   "outputs": [
    {
     "name": "stdout",
     "output_type": "stream",
     "text": [
      "2005    365\n",
      "2007    318\n",
      "2003    248\n",
      "2006    199\n",
      "2009    199\n",
      "2004    194\n",
      "2011    173\n",
      "2010    153\n",
      "2008     91\n",
      "2002     82\n",
      "2001     77\n",
      "2013     52\n",
      "2012     42\n",
      "1999     32\n",
      "2000     27\n",
      "1998     13\n",
      "1997     13\n",
      "1996      6\n",
      "1995      6\n",
      "1993      5\n",
      "1994      4\n",
      "2014      4\n",
      "1990      4\n",
      "1991      3\n",
      "1992      3\n",
      "1979      1\n",
      "1982      1\n",
      "2015      1\n",
      "1987      1\n",
      "1988      1\n",
      "Name: year, dtype: int64\n"
     ]
    },
    {
     "data": {
      "image/png": "[encoded data removed]",
      "text/plain": [
       "<Figure size 432x288 with 1 Axes>"
      ]
     },
     "metadata": {
      "needs_background": "light"
     },
     "output_type": "display_data"
    }
   ],
   "source": [
    "ax=sns.countplot(x='year',data=df_visualization_nominal)\n",
    "print(df_visualization_nominal['year'].value_counts())"
   ]
  },
  {
   "cell_type": "code",
   "execution_count": 59,
   "id": "3cfba672",
   "metadata": {},
   "outputs": [
    {
     "name": "stdout",
     "output_type": "stream",
     "text": [
      "112000    18\n",
      "81000     17\n",
      "68000     16\n",
      "92000     16\n",
      "94000     15\n",
      "          ..\n",
      "52600      1\n",
      "157802     1\n",
      "101977     1\n",
      "147272     1\n",
      "72320      1\n",
      "Name: mileage, Length: 1367, dtype: int64\n"
     ]
    },
    {
     "data": {
      "image/png": "[encoded data removed]",
      "text/plain": [
       "<Figure size 432x288 with 1 Axes>"
      ]
     },
     "metadata": {
      "needs_background": "light"
     },
     "output_type": "display_data"
    }
   ],
   "source": [
    "ax=sns.countplot(x='mileage',data=df_visualization_nominal)\n",
    "print(df_visualization_nominal['mileage'].value_counts())"
   ]
  },
  {
   "cell_type": "code",
   "execution_count": 60,
   "id": "15c66700",
   "metadata": {},
   "outputs": [
    {
     "name": "stdout",
     "output_type": "stream",
     "text": [
      "gasoline    2290\n",
      "diesel        18\n",
      "lpg            7\n",
      "hybrid         2\n",
      "cng            1\n",
      "Name: fuel, dtype: int64\n"
     ]
    },
    {
     "data": {
      "image/png": "[encoded data removed]",
      "text/plain": [
       "<Figure size 432x288 with 1 Axes>"
      ]
     },
     "metadata": {
      "needs_background": "light"
     },
     "output_type": "display_data"
    }
   ],
   "source": [
    "ax=sns.countplot(x='fuel',data=df_visualization_nominal)\n",
    "print(df_visualization_nominal['fuel'].value_counts())"
   ]
  },
  {
   "cell_type": "code",
   "execution_count": 61,
   "id": "761371a9",
   "metadata": {},
   "outputs": [
    {
     "name": "stdout",
     "output_type": "stream",
     "text": [
      "1300    468\n",
      "1500    433\n",
      "2000    197\n",
      "1000    168\n",
      "660     159\n",
      "       ... \n",
      "1986      1\n",
      "798       1\n",
      "1587      1\n",
      "1270      1\n",
      "1999      1\n",
      "Name: engine_capacity, Length: 93, dtype: int64\n"
     ]
    },
    {
     "data": {
      "image/png": "[encoded data removed]",
      "text/plain": [
       "<Figure size 432x288 with 1 Axes>"
      ]
     },
     "metadata": {
      "needs_background": "light"
     },
     "output_type": "display_data"
    }
   ],
   "source": [
    "ax=sns.countplot(x='engine_capacity',data=df_visualization_nominal)\n",
    "print(df_visualization_nominal['engine_capacity'].value_counts())"
   ]
  },
  {
   "cell_type": "code",
   "execution_count": 62,
   "id": "77318bf2",
   "metadata": {},
   "outputs": [
    {
     "name": "stdout",
     "output_type": "stream",
     "text": [
      "at     2171\n",
      "mt      117\n",
      "cvt      30\n",
      "Name: transmission, dtype: int64\n"
     ]
    },
    {
     "data": {
      "image/png": "[encoded data removed]",
      "text/plain": [
       "<Figure size 432x288 with 1 Axes>"
      ]
     },
     "metadata": {
      "needs_background": "light"
     },
     "output_type": "display_data"
    }
   ],
   "source": [
    "ax=sns.countplot(x='transmission',data=df_visualization_nominal)\n",
    "print(df_visualization_nominal['transmission'].value_counts())"
   ]
  },
  {
   "cell_type": "code",
   "execution_count": 63,
   "id": "c839e890",
   "metadata": {},
   "outputs": [
    {
     "name": "stdout",
     "output_type": "stream",
     "text": [
      "2wd    2121\n",
      "4wd     192\n",
      "awd       5\n",
      "Name: drive, dtype: int64\n"
     ]
    },
    {
     "data": {
      "image/png": "[encoded data removed]",
      "text/plain": [
       "<Figure size 432x288 with 1 Axes>"
      ]
     },
     "metadata": {
      "needs_background": "light"
     },
     "output_type": "display_data"
    }
   ],
   "source": [
    "ax=sns.countplot(x='drive',data=df_visualization_nominal)\n",
    "print(df_visualization_nominal['drive'].value_counts())"
   ]
  },
  {
   "cell_type": "code",
   "execution_count": 64,
   "id": "99cccb71",
   "metadata": {},
   "outputs": [
    {
     "name": "stdout",
     "output_type": "stream",
     "text": [
      "rhd       2301\n",
      "lhd         16\n",
      "center       1\n",
      "Name: hand_drive, dtype: int64\n"
     ]
    },
    {
     "data": {
      "image/png": "[encoded data removed]",
      "text/plain": [
       "<Figure size 432x288 with 1 Axes>"
      ]
     },
     "metadata": {
      "needs_background": "light"
     },
     "output_type": "display_data"
    }
   ],
   "source": [
    "ax=sns.countplot(x='hand_drive',data=df_visualization_nominal)\n",
    "print(df_visualization_nominal['hand_drive'].value_counts())"
   ]
  },
  {
   "cell_type": "code",
   "execution_count": 65,
   "id": "27eb7d4a",
   "metadata": {},
   "outputs": [
    {
     "name": "stdout",
     "output_type": "stream",
     "text": [
      "toyota           1047\n",
      "honda             382\n",
      "nissan            320\n",
      "mazda             148\n",
      "suzuki            126\n",
      "mitsubishi         65\n",
      "daihatsu           56\n",
      "subaru             54\n",
      "volkswagen         52\n",
      "bmw                27\n",
      "hyundai             9\n",
      "mercedes-benz       5\n",
      "kia motors          4\n",
      "isuzu               3\n",
      "audi                3\n",
      "smart               2\n",
      "volvo               2\n",
      "land rover          2\n",
      "peugeot             2\n",
      "hino                1\n",
      "mitsuoka            1\n",
      "ford                1\n",
      "gm                  1\n",
      "citroen             1\n",
      "opel                1\n",
      "chrysler            1\n",
      "kubota              1\n",
      "jaguar              1\n",
      "Name: mark, dtype: int64\n"
     ]
    },
    {
     "data": {
      "image/png": "[encoded data removed]",
      "text/plain": [
       "<Figure size 432x288 with 1 Axes>"
      ]
     },
     "metadata": {
      "needs_background": "light"
     },
     "output_type": "display_data"
    }
   ],
   "source": [
    "ax=sns.countplot(x='mark',data=df_visualization_nominal)\n",
    "print(df_visualization_nominal['mark'].value_counts())"
   ]
  },
  {
   "cell_type": "code",
   "execution_count": 66,
   "id": "b432110b",
   "metadata": {},
   "outputs": [
    {
     "name": "stdout",
     "output_type": "stream",
     "text": [
      "fit                    270\n",
      "vitz                   179\n",
      "passo                  127\n",
      "ist                     93\n",
      "ractis                  85\n",
      "                      ... \n",
      "sx4 sedan                1\n",
      "207                      1\n",
      "corolla ii               1\n",
      "impreza sportswagon      1\n",
      "estima t                 1\n",
      "Name: model, Length: 258, dtype: int64\n"
     ]
    },
    {
     "data": {
      "image/png": "[encoded data removed]",
      "text/plain": [
       "<Figure size 432x288 with 1 Axes>"
      ]
     },
     "metadata": {
      "needs_background": "light"
     },
     "output_type": "display_data"
    }
   ],
   "source": [
    "ax=sns.countplot(x='model',data=df_visualization_nominal)\n",
    "print(df_visualization_nominal['model'].value_counts())"
   ]
  },
  {
   "cell_type": "markdown",
   "id": "368cf2b0",
   "metadata": {},
   "source": [
    "# Encoding of DataFrame"
   ]
  },
  {
   "cell_type": "code",
   "execution_count": 67,
   "id": "86b04c49",
   "metadata": {},
   "outputs": [],
   "source": [
    "from sklearn.preprocessing import OrdinalEncoder\n",
    "enc=OrdinalEncoder()"
   ]
  },
  {
   "cell_type": "code",
   "execution_count": 68,
   "id": "7abf89c3",
   "metadata": {},
   "outputs": [],
   "source": [
    "for i in df.columns:\n",
    "    if df[i].dtypes==\"object\":\n",
    "        df[i]=enc.fit_transform(df[i].values.reshape(-1,1))"
   ]
  },
  {
   "cell_type": "code",
   "execution_count": 69,
   "id": "e05dbaac",
   "metadata": {},
   "outputs": [
    {
     "data": {
      "text/html": [
       "<div>\n",
       "<style scoped>\n",
       "    .dataframe tbody tr th:only-of-type {\n",
       "        vertical-align: middle;\n",
       "    }\n",
       "\n",
       "    .dataframe tbody tr th {\n",
       "        vertical-align: top;\n",
       "    }\n",
       "\n",
       "    .dataframe thead th {\n",
       "        text-align: right;\n",
       "    }\n",
       "</style>\n",
       "<table border=\"1\" class=\"dataframe\">\n",
       "  <thead>\n",
       "    <tr style=\"text-align: right;\">\n",
       "      <th></th>\n",
       "      <th>id</th>\n",
       "      <th>price</th>\n",
       "      <th>mark</th>\n",
       "      <th>model</th>\n",
       "      <th>year</th>\n",
       "      <th>mileage</th>\n",
       "      <th>engine_capacity</th>\n",
       "      <th>transmission</th>\n",
       "      <th>drive</th>\n",
       "      <th>hand_drive</th>\n",
       "      <th>fuel</th>\n",
       "    </tr>\n",
       "  </thead>\n",
       "  <tbody>\n",
       "    <tr>\n",
       "      <th>0</th>\n",
       "      <td>0</td>\n",
       "      <td>80</td>\n",
       "      <td>19.0</td>\n",
       "      <td>143.0</td>\n",
       "      <td>2003</td>\n",
       "      <td>80000</td>\n",
       "      <td>1240</td>\n",
       "      <td>0.0</td>\n",
       "      <td>0.0</td>\n",
       "      <td>2.0</td>\n",
       "      <td>2.0</td>\n",
       "    </tr>\n",
       "    <tr>\n",
       "      <th>1</th>\n",
       "      <td>1</td>\n",
       "      <td>110</td>\n",
       "      <td>19.0</td>\n",
       "      <td>143.0</td>\n",
       "      <td>2010</td>\n",
       "      <td>53000</td>\n",
       "      <td>1200</td>\n",
       "      <td>0.0</td>\n",
       "      <td>0.0</td>\n",
       "      <td>2.0</td>\n",
       "      <td>2.0</td>\n",
       "    </tr>\n",
       "    <tr>\n",
       "      <th>2</th>\n",
       "      <td>2</td>\n",
       "      <td>165</td>\n",
       "      <td>19.0</td>\n",
       "      <td>134.0</td>\n",
       "      <td>2005</td>\n",
       "      <td>47690</td>\n",
       "      <td>2000</td>\n",
       "      <td>0.0</td>\n",
       "      <td>0.0</td>\n",
       "      <td>2.0</td>\n",
       "      <td>2.0</td>\n",
       "    </tr>\n",
       "    <tr>\n",
       "      <th>3</th>\n",
       "      <td>3</td>\n",
       "      <td>190</td>\n",
       "      <td>25.0</td>\n",
       "      <td>29.0</td>\n",
       "      <td>2008</td>\n",
       "      <td>130661</td>\n",
       "      <td>1990</td>\n",
       "      <td>0.0</td>\n",
       "      <td>0.0</td>\n",
       "      <td>2.0</td>\n",
       "      <td>2.0</td>\n",
       "    </tr>\n",
       "    <tr>\n",
       "      <th>4</th>\n",
       "      <td>4</td>\n",
       "      <td>190</td>\n",
       "      <td>4.0</td>\n",
       "      <td>155.0</td>\n",
       "      <td>2006</td>\n",
       "      <td>66300</td>\n",
       "      <td>660</td>\n",
       "      <td>0.0</td>\n",
       "      <td>0.0</td>\n",
       "      <td>2.0</td>\n",
       "      <td>2.0</td>\n",
       "    </tr>\n",
       "    <tr>\n",
       "      <th>...</th>\n",
       "      <td>...</td>\n",
       "      <td>...</td>\n",
       "      <td>...</td>\n",
       "      <td>...</td>\n",
       "      <td>...</td>\n",
       "      <td>...</td>\n",
       "      <td>...</td>\n",
       "      <td>...</td>\n",
       "      <td>...</td>\n",
       "      <td>...</td>\n",
       "      <td>...</td>\n",
       "    </tr>\n",
       "    <tr>\n",
       "      <th>2313</th>\n",
       "      <td>2331</td>\n",
       "      <td>1400</td>\n",
       "      <td>25.0</td>\n",
       "      <td>242.0</td>\n",
       "      <td>2009</td>\n",
       "      <td>121000</td>\n",
       "      <td>996</td>\n",
       "      <td>0.0</td>\n",
       "      <td>0.0</td>\n",
       "      <td>2.0</td>\n",
       "      <td>2.0</td>\n",
       "    </tr>\n",
       "    <tr>\n",
       "      <th>2314</th>\n",
       "      <td>2332</td>\n",
       "      <td>1400</td>\n",
       "      <td>25.0</td>\n",
       "      <td>100.0</td>\n",
       "      <td>2003</td>\n",
       "      <td>101000</td>\n",
       "      <td>3000</td>\n",
       "      <td>0.0</td>\n",
       "      <td>0.0</td>\n",
       "      <td>2.0</td>\n",
       "      <td>2.0</td>\n",
       "    </tr>\n",
       "    <tr>\n",
       "      <th>2315</th>\n",
       "      <td>2333</td>\n",
       "      <td>1400</td>\n",
       "      <td>23.0</td>\n",
       "      <td>195.0</td>\n",
       "      <td>2005</td>\n",
       "      <td>101000</td>\n",
       "      <td>660</td>\n",
       "      <td>1.0</td>\n",
       "      <td>0.0</td>\n",
       "      <td>2.0</td>\n",
       "      <td>2.0</td>\n",
       "    </tr>\n",
       "    <tr>\n",
       "      <th>2316</th>\n",
       "      <td>2334</td>\n",
       "      <td>1400</td>\n",
       "      <td>8.0</td>\n",
       "      <td>256.0</td>\n",
       "      <td>2000</td>\n",
       "      <td>170000</td>\n",
       "      <td>660</td>\n",
       "      <td>0.0</td>\n",
       "      <td>1.0</td>\n",
       "      <td>2.0</td>\n",
       "      <td>2.0</td>\n",
       "    </tr>\n",
       "    <tr>\n",
       "      <th>2317</th>\n",
       "      <td>2335</td>\n",
       "      <td>1400</td>\n",
       "      <td>25.0</td>\n",
       "      <td>101.0</td>\n",
       "      <td>2005</td>\n",
       "      <td>72320</td>\n",
       "      <td>3000</td>\n",
       "      <td>0.0</td>\n",
       "      <td>0.0</td>\n",
       "      <td>2.0</td>\n",
       "      <td>2.0</td>\n",
       "    </tr>\n",
       "  </tbody>\n",
       "</table>\n",
       "<p>2318 rows × 11 columns</p>\n",
       "</div>"
      ],
      "text/plain": [
       "        id  price  mark  model  year  mileage  engine_capacity  transmission  \\\n",
       "0        0     80  19.0  143.0  2003    80000             1240           0.0   \n",
       "1        1    110  19.0  143.0  2010    53000             1200           0.0   \n",
       "2        2    165  19.0  134.0  2005    47690             2000           0.0   \n",
       "3        3    190  25.0   29.0  2008   130661             1990           0.0   \n",
       "4        4    190   4.0  155.0  2006    66300              660           0.0   \n",
       "...    ...    ...   ...    ...   ...      ...              ...           ...   \n",
       "2313  2331   1400  25.0  242.0  2009   121000              996           0.0   \n",
       "2314  2332   1400  25.0  100.0  2003   101000             3000           0.0   \n",
       "2315  2333   1400  23.0  195.0  2005   101000              660           1.0   \n",
       "2316  2334   1400   8.0  256.0  2000   170000              660           0.0   \n",
       "2317  2335   1400  25.0  101.0  2005    72320             3000           0.0   \n",
       "\n",
       "      drive  hand_drive  fuel  \n",
       "0       0.0         2.0   2.0  \n",
       "1       0.0         2.0   2.0  \n",
       "2       0.0         2.0   2.0  \n",
       "3       0.0         2.0   2.0  \n",
       "4       0.0         2.0   2.0  \n",
       "...     ...         ...   ...  \n",
       "2313    0.0         2.0   2.0  \n",
       "2314    0.0         2.0   2.0  \n",
       "2315    0.0         2.0   2.0  \n",
       "2316    1.0         2.0   2.0  \n",
       "2317    0.0         2.0   2.0  \n",
       "\n",
       "[2318 rows x 11 columns]"
      ]
     },
     "execution_count": 69,
     "metadata": {},
     "output_type": "execute_result"
    }
   ],
   "source": [
    "df"
   ]
  },
  {
   "cell_type": "markdown",
   "id": "724947ad",
   "metadata": {},
   "source": [
    "# Describe the dataset"
   ]
  },
  {
   "cell_type": "code",
   "execution_count": 70,
   "id": "e928a23f",
   "metadata": {},
   "outputs": [
    {
     "data": {
      "text/html": [
       "<div>\n",
       "<style scoped>\n",
       "    .dataframe tbody tr th:only-of-type {\n",
       "        vertical-align: middle;\n",
       "    }\n",
       "\n",
       "    .dataframe tbody tr th {\n",
       "        vertical-align: top;\n",
       "    }\n",
       "\n",
       "    .dataframe thead th {\n",
       "        text-align: right;\n",
       "    }\n",
       "</style>\n",
       "<table border=\"1\" class=\"dataframe\">\n",
       "  <thead>\n",
       "    <tr style=\"text-align: right;\">\n",
       "      <th></th>\n",
       "      <th>id</th>\n",
       "      <th>price</th>\n",
       "      <th>mark</th>\n",
       "      <th>model</th>\n",
       "      <th>year</th>\n",
       "      <th>mileage</th>\n",
       "      <th>engine_capacity</th>\n",
       "      <th>transmission</th>\n",
       "      <th>drive</th>\n",
       "      <th>hand_drive</th>\n",
       "      <th>fuel</th>\n",
       "    </tr>\n",
       "  </thead>\n",
       "  <tbody>\n",
       "    <tr>\n",
       "      <th>count</th>\n",
       "      <td>2318.000000</td>\n",
       "      <td>2318.000000</td>\n",
       "      <td>2318.000000</td>\n",
       "      <td>2318.000000</td>\n",
       "      <td>2318.000000</td>\n",
       "      <td>2318.000000</td>\n",
       "      <td>2318.000000</td>\n",
       "      <td>2318.000000</td>\n",
       "      <td>2318.000000</td>\n",
       "      <td>2318.000000</td>\n",
       "      <td>2318.000000</td>\n",
       "    </tr>\n",
       "    <tr>\n",
       "      <th>mean</th>\n",
       "      <td>1169.047023</td>\n",
       "      <td>971.522433</td>\n",
       "      <td>19.411993</td>\n",
       "      <td>147.894305</td>\n",
       "      <td>2005.972390</td>\n",
       "      <td>100013.194996</td>\n",
       "      <td>1507.010785</td>\n",
       "      <td>0.113891</td>\n",
       "      <td>0.087144</td>\n",
       "      <td>1.992235</td>\n",
       "      <td>1.998274</td>\n",
       "    </tr>\n",
       "    <tr>\n",
       "      <th>std</th>\n",
       "      <td>674.460724</td>\n",
       "      <td>288.673112</td>\n",
       "      <td>7.132919</td>\n",
       "      <td>68.563361</td>\n",
       "      <td>3.698863</td>\n",
       "      <td>52512.478883</td>\n",
       "      <td>549.585170</td>\n",
       "      <td>0.449395</td>\n",
       "      <td>0.289655</td>\n",
       "      <td>0.092583</td>\n",
       "      <td>0.149799</td>\n",
       "    </tr>\n",
       "    <tr>\n",
       "      <th>min</th>\n",
       "      <td>0.000000</td>\n",
       "      <td>80.000000</td>\n",
       "      <td>0.000000</td>\n",
       "      <td>0.000000</td>\n",
       "      <td>1979.000000</td>\n",
       "      <td>2000.000000</td>\n",
       "      <td>9.000000</td>\n",
       "      <td>0.000000</td>\n",
       "      <td>0.000000</td>\n",
       "      <td>0.000000</td>\n",
       "      <td>0.000000</td>\n",
       "    </tr>\n",
       "    <tr>\n",
       "      <th>25%</th>\n",
       "      <td>583.250000</td>\n",
       "      <td>776.000000</td>\n",
       "      <td>15.000000</td>\n",
       "      <td>104.000000</td>\n",
       "      <td>2004.000000</td>\n",
       "      <td>67000.000000</td>\n",
       "      <td>1300.000000</td>\n",
       "      <td>0.000000</td>\n",
       "      <td>0.000000</td>\n",
       "      <td>2.000000</td>\n",
       "      <td>2.000000</td>\n",
       "    </tr>\n",
       "    <tr>\n",
       "      <th>50%</th>\n",
       "      <td>1168.500000</td>\n",
       "      <td>1000.000000</td>\n",
       "      <td>24.000000</td>\n",
       "      <td>146.000000</td>\n",
       "      <td>2006.000000</td>\n",
       "      <td>94000.000000</td>\n",
       "      <td>1490.000000</td>\n",
       "      <td>0.000000</td>\n",
       "      <td>0.000000</td>\n",
       "      <td>2.000000</td>\n",
       "      <td>2.000000</td>\n",
       "    </tr>\n",
       "    <tr>\n",
       "      <th>75%</th>\n",
       "      <td>1753.750000</td>\n",
       "      <td>1213.000000</td>\n",
       "      <td>25.000000</td>\n",
       "      <td>204.000000</td>\n",
       "      <td>2009.000000</td>\n",
       "      <td>124000.000000</td>\n",
       "      <td>1800.000000</td>\n",
       "      <td>0.000000</td>\n",
       "      <td>0.000000</td>\n",
       "      <td>2.000000</td>\n",
       "      <td>2.000000</td>\n",
       "    </tr>\n",
       "    <tr>\n",
       "      <th>max</th>\n",
       "      <td>2335.000000</td>\n",
       "      <td>1400.000000</td>\n",
       "      <td>27.000000</td>\n",
       "      <td>257.000000</td>\n",
       "      <td>2015.000000</td>\n",
       "      <td>790000.000000</td>\n",
       "      <td>12340.000000</td>\n",
       "      <td>2.000000</td>\n",
       "      <td>2.000000</td>\n",
       "      <td>2.000000</td>\n",
       "      <td>4.000000</td>\n",
       "    </tr>\n",
       "  </tbody>\n",
       "</table>\n",
       "</div>"
      ],
      "text/plain": [
       "                id        price         mark        model         year  \\\n",
       "count  2318.000000  2318.000000  2318.000000  2318.000000  2318.000000   \n",
       "mean   1169.047023   971.522433    19.411993   147.894305  2005.972390   \n",
       "std     674.460724   288.673112     7.132919    68.563361     3.698863   \n",
       "min       0.000000    80.000000     0.000000     0.000000  1979.000000   \n",
       "25%     583.250000   776.000000    15.000000   104.000000  2004.000000   \n",
       "50%    1168.500000  1000.000000    24.000000   146.000000  2006.000000   \n",
       "75%    1753.750000  1213.000000    25.000000   204.000000  2009.000000   \n",
       "max    2335.000000  1400.000000    27.000000   257.000000  2015.000000   \n",
       "\n",
       "             mileage  engine_capacity  transmission        drive   hand_drive  \\\n",
       "count    2318.000000      2318.000000   2318.000000  2318.000000  2318.000000   \n",
       "mean   100013.194996      1507.010785      0.113891     0.087144     1.992235   \n",
       "std     52512.478883       549.585170      0.449395     0.289655     0.092583   \n",
       "min      2000.000000         9.000000      0.000000     0.000000     0.000000   \n",
       "25%     67000.000000      1300.000000      0.000000     0.000000     2.000000   \n",
       "50%     94000.000000      1490.000000      0.000000     0.000000     2.000000   \n",
       "75%    124000.000000      1800.000000      0.000000     0.000000     2.000000   \n",
       "max    790000.000000     12340.000000      2.000000     2.000000     2.000000   \n",
       "\n",
       "              fuel  \n",
       "count  2318.000000  \n",
       "mean      1.998274  \n",
       "std       0.149799  \n",
       "min       0.000000  \n",
       "25%       2.000000  \n",
       "50%       2.000000  \n",
       "75%       2.000000  \n",
       "max       4.000000  "
      ]
     },
     "execution_count": 70,
     "metadata": {},
     "output_type": "execute_result"
    }
   ],
   "source": [
    "df.describe()"
   ]
  },
  {
   "cell_type": "markdown",
   "id": "fe7311e2",
   "metadata": {},
   "source": [
    "# Correlation of the columns with the target columns:"
   ]
  },
  {
   "cell_type": "code",
   "execution_count": 71,
   "id": "dce599f4",
   "metadata": {},
   "outputs": [
    {
     "data": {
      "text/plain": [
       "year              -0.211092\n",
       "model             -0.041376\n",
       "hand_drive        -0.036473\n",
       "fuel              -0.016337\n",
       "mileage            0.021581\n",
       "transmission       0.043679\n",
       "drive              0.046591\n",
       "mark               0.090245\n",
       "engine_capacity    0.173748\n",
       "id                 0.985100\n",
       "price              1.000000\n",
       "Name: price, dtype: float64"
      ]
     },
     "execution_count": 71,
     "metadata": {},
     "output_type": "execute_result"
    }
   ],
   "source": [
    "df.corr()['price'].sort_values()"
   ]
  },
  {
   "cell_type": "markdown",
   "id": "ab7c1438",
   "metadata": {},
   "source": [
    "Correlation of the columns with the target columns:"
   ]
  },
  {
   "cell_type": "code",
   "execution_count": 72,
   "id": "d7e682f3",
   "metadata": {},
   "outputs": [
    {
     "data": {
      "text/plain": [
       "<AxesSubplot:>"
      ]
     },
     "execution_count": 72,
     "metadata": {},
     "output_type": "execute_result"
    },
    {
     "data": {
      "image/png": "[encoded data removed]",
      "text/plain": [
       "<Figure size 1584x504 with 2 Axes>"
      ]
     },
     "metadata": {
      "needs_background": "light"
     },
     "output_type": "display_data"
    }
   ],
   "source": [
    "plt.figure(figsize=(22,7))\n",
    "sns.heatmap(df.corr(),annot=True,linewidths=0.1,linecolor='black',fmt=\"0.2f\")"
   ]
  },
  {
   "cell_type": "markdown",
   "id": "3110eee4",
   "metadata": {},
   "source": [
    "# Checking the columns which are positive and negative corrlelated with the target columns:"
   ]
  },
  {
   "cell_type": "code",
   "execution_count": 73,
   "id": "40af2b91",
   "metadata": {},
   "outputs": [
    {
     "data": {
      "image/png": "[encoded data removed]",
      "text/plain": [
       "<Figure size 1584x504 with 1 Axes>"
      ]
     },
     "metadata": {
      "needs_background": "light"
     },
     "output_type": "display_data"
    }
   ],
   "source": [
    "plt.figure(figsize=(22,7))\n",
    "df.corr()['price'].sort_values(ascending=False).drop(['price']).plot(kind='bar',color='c')\n",
    "plt.xlabel('feature',fontsize=14)\n",
    "plt.ylabel('column with target names',fontsize=14)\n",
    "plt.title('correlation',fontsize=18)\n",
    "plt.show()"
   ]
  },
  {
   "cell_type": "code",
   "execution_count": 74,
   "id": "efa2ba45",
   "metadata": {},
   "outputs": [
    {
     "name": "stderr",
     "output_type": "stream",
     "text": [
      "C:\\Users\\hp\\anaconda3\\lib\\site-packages\\seaborn\\_decorators.py:36: FutureWarning: Pass the following variable as a keyword arg: x. From version 0.12, the only valid positional argument will be `data`, and passing other arguments without an explicit keyword will result in an error or misinterpretation.\n",
      "  warnings.warn(\n",
      "C:\\Users\\hp\\anaconda3\\lib\\site-packages\\seaborn\\_decorators.py:36: FutureWarning: Pass the following variable as a keyword arg: x. From version 0.12, the only valid positional argument will be `data`, and passing other arguments without an explicit keyword will result in an error or misinterpretation.\n",
      "  warnings.warn(\n",
      "C:\\Users\\hp\\anaconda3\\lib\\site-packages\\seaborn\\_decorators.py:36: FutureWarning: Pass the following variable as a keyword arg: x. From version 0.12, the only valid positional argument will be `data`, and passing other arguments without an explicit keyword will result in an error or misinterpretation.\n",
      "  warnings.warn(\n",
      "C:\\Users\\hp\\anaconda3\\lib\\site-packages\\seaborn\\_decorators.py:36: FutureWarning: Pass the following variable as a keyword arg: x. From version 0.12, the only valid positional argument will be `data`, and passing other arguments without an explicit keyword will result in an error or misinterpretation.\n",
      "  warnings.warn(\n",
      "C:\\Users\\hp\\anaconda3\\lib\\site-packages\\seaborn\\_decorators.py:36: FutureWarning: Pass the following variable as a keyword arg: x. From version 0.12, the only valid positional argument will be `data`, and passing other arguments without an explicit keyword will result in an error or misinterpretation.\n",
      "  warnings.warn(\n",
      "C:\\Users\\hp\\anaconda3\\lib\\site-packages\\seaborn\\_decorators.py:36: FutureWarning: Pass the following variable as a keyword arg: x. From version 0.12, the only valid positional argument will be `data`, and passing other arguments without an explicit keyword will result in an error or misinterpretation.\n",
      "  warnings.warn(\n",
      "C:\\Users\\hp\\anaconda3\\lib\\site-packages\\seaborn\\_decorators.py:36: FutureWarning: Pass the following variable as a keyword arg: x. From version 0.12, the only valid positional argument will be `data`, and passing other arguments without an explicit keyword will result in an error or misinterpretation.\n",
      "  warnings.warn(\n",
      "C:\\Users\\hp\\anaconda3\\lib\\site-packages\\seaborn\\_decorators.py:36: FutureWarning: Pass the following variable as a keyword arg: x. From version 0.12, the only valid positional argument will be `data`, and passing other arguments without an explicit keyword will result in an error or misinterpretation.\n",
      "  warnings.warn(\n",
      "C:\\Users\\hp\\anaconda3\\lib\\site-packages\\seaborn\\_decorators.py:36: FutureWarning: Pass the following variable as a keyword arg: x. From version 0.12, the only valid positional argument will be `data`, and passing other arguments without an explicit keyword will result in an error or misinterpretation.\n",
      "  warnings.warn(\n",
      "C:\\Users\\hp\\anaconda3\\lib\\site-packages\\seaborn\\_decorators.py:36: FutureWarning: Pass the following variable as a keyword arg: x. From version 0.12, the only valid positional argument will be `data`, and passing other arguments without an explicit keyword will result in an error or misinterpretation.\n",
      "  warnings.warn(\n",
      "C:\\Users\\hp\\anaconda3\\lib\\site-packages\\seaborn\\_decorators.py:36: FutureWarning: Pass the following variable as a keyword arg: x. From version 0.12, the only valid positional argument will be `data`, and passing other arguments without an explicit keyword will result in an error or misinterpretation.\n",
      "  warnings.warn(\n"
     ]
    },
    {
     "data": {
      "image/png": "[encoded data removed]",
      "text/plain": [
       "<Figure size 2160x6480 with 11 Axes>"
      ]
     },
     "metadata": {
      "needs_background": "light"
     },
     "output_type": "display_data"
    }
   ],
   "source": [
    "import matplotlib.pyplot as plt\n",
    "import seaborn as sns\n",
    "collist=df.columns.values\n",
    "ncol=30\n",
    "nrows=14\n",
    "plt.figure(figsize=(ncol,3*ncol))\n",
    "for i in range(0,len(collist)):\n",
    "    plt.subplot(nrows,ncol,i+1)\n",
    "    sns.boxplot(df[collist[i]],color=\"green\",orient=\"h\")\n",
    "    plt.tight_layout()"
   ]
  },
  {
   "cell_type": "code",
   "execution_count": 75,
   "id": "5e3d438c",
   "metadata": {},
   "outputs": [
    {
     "data": {
      "text/plain": [
       "id                 -0.002276\n",
       "price              -0.466780\n",
       "mark               -0.947938\n",
       "model              -0.267060\n",
       "year               -0.845917\n",
       "mileage             3.089142\n",
       "engine_capacity     4.038892\n",
       "transmission        3.820441\n",
       "drive               3.193137\n",
       "hand_drive        -12.811470\n",
       "fuel                4.146744\n",
       "dtype: float64"
      ]
     },
     "execution_count": 75,
     "metadata": {},
     "output_type": "execute_result"
    }
   ],
   "source": [
    "df.skew()"
   ]
  },
  {
   "cell_type": "markdown",
   "id": "7c4bff27",
   "metadata": {},
   "source": [
    "Keeping +/-4 as the range for skewness,here are the columns which does not lie within this range -residual sugar - categorical -chlorides - categorical\n",
    "-free sulfur dioxide - categorical -total sulfur dioxide- categorical sulphates - categorical quality - target variable\n",
    "\n",
    "since,no column has skewness,we will not treat that"
   ]
  },
  {
   "cell_type": "markdown",
   "id": "e97458d9",
   "metadata": {},
   "source": [
    "# normal distribution curve"
   ]
  },
  {
   "cell_type": "code",
   "execution_count": 76,
   "id": "ff42c137",
   "metadata": {},
   "outputs": [
    {
     "name": "stderr",
     "output_type": "stream",
     "text": [
      "C:\\Users\\hp\\anaconda3\\lib\\site-packages\\seaborn\\distributions.py:2619: FutureWarning: `distplot` is a deprecated function and will be removed in a future version. Please adapt your code to use either `displot` (a figure-level function with similar flexibility) or `histplot` (an axes-level function for histograms).\n",
      "  warnings.warn(msg, FutureWarning)\n"
     ]
    },
    {
     "data": {
      "text/plain": [
       "<AxesSubplot:xlabel='id', ylabel='Density'>"
      ]
     },
     "execution_count": 76,
     "metadata": {},
     "output_type": "execute_result"
    },
    {
     "data": {
      "image/png": "[encoded data removed]",
      "text/plain": [
       "<Figure size 432x288 with 1 Axes>"
      ]
     },
     "metadata": {
      "needs_background": "light"
     },
     "output_type": "display_data"
    }
   ],
   "source": [
    "sns.distplot(df[\"id\"])"
   ]
  },
  {
   "cell_type": "code",
   "execution_count": 77,
   "id": "e1da88c9",
   "metadata": {},
   "outputs": [
    {
     "name": "stderr",
     "output_type": "stream",
     "text": [
      "C:\\Users\\hp\\anaconda3\\lib\\site-packages\\seaborn\\distributions.py:2619: FutureWarning: `distplot` is a deprecated function and will be removed in a future version. Please adapt your code to use either `displot` (a figure-level function with similar flexibility) or `histplot` (an axes-level function for histograms).\n",
      "  warnings.warn(msg, FutureWarning)\n"
     ]
    },
    {
     "data": {
      "text/plain": [
       "<AxesSubplot:xlabel='price', ylabel='Density'>"
      ]
     },
     "execution_count": 77,
     "metadata": {},
     "output_type": "execute_result"
    },
    {
     "data": {
      "image/png": "[encoded data removed]",
      "text/plain": [
       "<Figure size 432x288 with 1 Axes>"
      ]
     },
     "metadata": {
      "needs_background": "light"
     },
     "output_type": "display_data"
    }
   ],
   "source": [
    "sns.distplot(df[\"price\"])"
   ]
  },
  {
   "cell_type": "code",
   "execution_count": 78,
   "id": "2ad5df40",
   "metadata": {},
   "outputs": [
    {
     "name": "stderr",
     "output_type": "stream",
     "text": [
      "C:\\Users\\hp\\anaconda3\\lib\\site-packages\\seaborn\\distributions.py:2619: FutureWarning: `distplot` is a deprecated function and will be removed in a future version. Please adapt your code to use either `displot` (a figure-level function with similar flexibility) or `histplot` (an axes-level function for histograms).\n",
      "  warnings.warn(msg, FutureWarning)\n"
     ]
    },
    {
     "data": {
      "text/plain": [
       "<AxesSubplot:xlabel='year', ylabel='Density'>"
      ]
     },
     "execution_count": 78,
     "metadata": {},
     "output_type": "execute_result"
    },
    {
     "data": {
      "image/png": "[encoded data removed]",
      "text/plain": [
       "<Figure size 432x288 with 1 Axes>"
      ]
     },
     "metadata": {
      "needs_background": "light"
     },
     "output_type": "display_data"
    }
   ],
   "source": [
    "sns.distplot(df[\"year\"])"
   ]
  },
  {
   "cell_type": "code",
   "execution_count": 79,
   "id": "2cc4f81b",
   "metadata": {},
   "outputs": [
    {
     "name": "stderr",
     "output_type": "stream",
     "text": [
      "C:\\Users\\hp\\anaconda3\\lib\\site-packages\\seaborn\\distributions.py:2619: FutureWarning: `distplot` is a deprecated function and will be removed in a future version. Please adapt your code to use either `displot` (a figure-level function with similar flexibility) or `histplot` (an axes-level function for histograms).\n",
      "  warnings.warn(msg, FutureWarning)\n"
     ]
    },
    {
     "data": {
      "text/plain": [
       "<AxesSubplot:xlabel='mileage', ylabel='Density'>"
      ]
     },
     "execution_count": 79,
     "metadata": {},
     "output_type": "execute_result"
    },
    {
     "data": {
      "image/png": "[encoded data removed]",
      "text/plain": [
       "<Figure size 432x288 with 1 Axes>"
      ]
     },
     "metadata": {
      "needs_background": "light"
     },
     "output_type": "display_data"
    }
   ],
   "source": [
    "sns.distplot(df[\"mileage\"])"
   ]
  },
  {
   "cell_type": "code",
   "execution_count": 80,
   "id": "f394a8f2",
   "metadata": {},
   "outputs": [
    {
     "name": "stderr",
     "output_type": "stream",
     "text": [
      "C:\\Users\\hp\\anaconda3\\lib\\site-packages\\seaborn\\distributions.py:2619: FutureWarning: `distplot` is a deprecated function and will be removed in a future version. Please adapt your code to use either `displot` (a figure-level function with similar flexibility) or `histplot` (an axes-level function for histograms).\n",
      "  warnings.warn(msg, FutureWarning)\n"
     ]
    },
    {
     "data": {
      "text/plain": [
       "<AxesSubplot:xlabel='engine_capacity', ylabel='Density'>"
      ]
     },
     "execution_count": 80,
     "metadata": {},
     "output_type": "execute_result"
    },
    {
     "data": {
      "image/png": "[encoded data removed]",
      "text/plain": [
       "<Figure size 432x288 with 1 Axes>"
      ]
     },
     "metadata": {
      "needs_background": "light"
     },
     "output_type": "display_data"
    }
   ],
   "source": [
    "sns.distplot(df[\"engine_capacity\"])"
   ]
  },
  {
   "cell_type": "markdown",
   "id": "4d236679",
   "metadata": {},
   "source": [
    "# Data preprocessing"
   ]
  },
  {
   "cell_type": "markdown",
   "id": "2b3c2cdf",
   "metadata": {},
   "source": [
    "Data cleaning"
   ]
  },
  {
   "cell_type": "code",
   "execution_count": 81,
   "id": "e718f65f",
   "metadata": {},
   "outputs": [
    {
     "data": {
      "text/plain": [
       "id                 0.985100\n",
       "price              1.000000\n",
       "mark               0.090245\n",
       "model             -0.041376\n",
       "year              -0.211092\n",
       "mileage            0.021581\n",
       "engine_capacity    0.173748\n",
       "transmission       0.043679\n",
       "drive              0.046591\n",
       "hand_drive        -0.036473\n",
       "fuel              -0.016337\n",
       "Name: price, dtype: float64"
      ]
     },
     "execution_count": 81,
     "metadata": {},
     "output_type": "execute_result"
    }
   ],
   "source": [
    "df.corr()['price']"
   ]
  },
  {
   "cell_type": "code",
   "execution_count": 82,
   "id": "80dd7646",
   "metadata": {},
   "outputs": [
    {
     "name": "stdout",
     "output_type": "stream",
     "text": [
      "<class 'pandas.core.frame.DataFrame'>\n",
      "RangeIndex: 2318 entries, 0 to 2317\n",
      "Data columns (total 11 columns):\n",
      " #   Column           Non-Null Count  Dtype  \n",
      "---  ------           --------------  -----  \n",
      " 0   id               2318 non-null   int64  \n",
      " 1   price            2318 non-null   int64  \n",
      " 2   mark             2318 non-null   float64\n",
      " 3   model            2318 non-null   float64\n",
      " 4   year             2318 non-null   int64  \n",
      " 5   mileage          2318 non-null   int64  \n",
      " 6   engine_capacity  2318 non-null   int64  \n",
      " 7   transmission     2318 non-null   float64\n",
      " 8   drive            2318 non-null   float64\n",
      " 9   hand_drive       2318 non-null   float64\n",
      " 10  fuel             2318 non-null   float64\n",
      "dtypes: float64(6), int64(5)\n",
      "memory usage: 199.3 KB\n"
     ]
    }
   ],
   "source": [
    "df.info()"
   ]
  },
  {
   "cell_type": "markdown",
   "id": "ba129911",
   "metadata": {},
   "source": [
    "# outliers check:"
   ]
  },
  {
   "cell_type": "code",
   "execution_count": 83,
   "id": "88df31c9",
   "metadata": {},
   "outputs": [
    {
     "data": {
      "text/plain": [
       "id                   int64\n",
       "price                int64\n",
       "mark               float64\n",
       "model              float64\n",
       "year                 int64\n",
       "mileage              int64\n",
       "engine_capacity      int64\n",
       "transmission       float64\n",
       "drive              float64\n",
       "hand_drive         float64\n",
       "fuel               float64\n",
       "dtype: object"
      ]
     },
     "execution_count": 83,
     "metadata": {},
     "output_type": "execute_result"
    }
   ],
   "source": [
    "df.dtypes"
   ]
  },
  {
   "cell_type": "markdown",
   "id": "1f084bf4",
   "metadata": {},
   "source": [
    "checking the outliers on the int and float type of columns"
   ]
  },
  {
   "cell_type": "code",
   "execution_count": null,
   "id": "228f2c35",
   "metadata": {},
   "outputs": [],
   "source": []
  },
  {
   "cell_type": "code",
   "execution_count": 84,
   "id": "23db0e45",
   "metadata": {},
   "outputs": [
    {
     "data": {
      "text/plain": [
       "<AxesSubplot:>"
      ]
     },
     "execution_count": 84,
     "metadata": {},
     "output_type": "execute_result"
    },
    {
     "data": {
      "image/png": "[encoded data removed]",
      "text/plain": [
       "<Figure size 432x288 with 1 Axes>"
      ]
     },
     "metadata": {
      "needs_background": "light"
     },
     "output_type": "display_data"
    }
   ],
   "source": [
    "df['id'].plot.box()"
   ]
  },
  {
   "cell_type": "code",
   "execution_count": 85,
   "id": "f98de0ee",
   "metadata": {},
   "outputs": [
    {
     "data": {
      "text/plain": [
       "<AxesSubplot:>"
      ]
     },
     "execution_count": 85,
     "metadata": {},
     "output_type": "execute_result"
    },
    {
     "data": {
      "image/png": "[encoded data removed]",
      "text/plain": [
       "<Figure size 432x288 with 1 Axes>"
      ]
     },
     "metadata": {
      "needs_background": "light"
     },
     "output_type": "display_data"
    }
   ],
   "source": [
    "df['price'].plot.box()"
   ]
  },
  {
   "cell_type": "code",
   "execution_count": 86,
   "id": "88806fd7",
   "metadata": {},
   "outputs": [
    {
     "data": {
      "text/plain": [
       "<AxesSubplot:>"
      ]
     },
     "execution_count": 86,
     "metadata": {},
     "output_type": "execute_result"
    },
    {
     "data": {
      "image/png": "[encoded data removed]",
      "text/plain": [
       "<Figure size 432x288 with 1 Axes>"
      ]
     },
     "metadata": {
      "needs_background": "light"
     },
     "output_type": "display_data"
    }
   ],
   "source": [
    "df['mark'].plot.box()"
   ]
  },
  {
   "cell_type": "code",
   "execution_count": 87,
   "id": "d6e4d559",
   "metadata": {},
   "outputs": [
    {
     "data": {
      "text/plain": [
       "<AxesSubplot:>"
      ]
     },
     "execution_count": 87,
     "metadata": {},
     "output_type": "execute_result"
    },
    {
     "data": {
      "image/png": "[encoded data removed]",
      "text/plain": [
       "<Figure size 432x288 with 1 Axes>"
      ]
     },
     "metadata": {
      "needs_background": "light"
     },
     "output_type": "display_data"
    }
   ],
   "source": [
    "df['model'].plot.box()"
   ]
  },
  {
   "cell_type": "code",
   "execution_count": 88,
   "id": "dae812e0",
   "metadata": {},
   "outputs": [
    {
     "data": {
      "text/plain": [
       "<AxesSubplot:>"
      ]
     },
     "execution_count": 88,
     "metadata": {},
     "output_type": "execute_result"
    },
    {
     "data": {
      "image/png": "[encoded data removed]",
      "text/plain": [
       "<Figure size 432x288 with 1 Axes>"
      ]
     },
     "metadata": {
      "needs_background": "light"
     },
     "output_type": "display_data"
    }
   ],
   "source": [
    "df['year'].plot.box()"
   ]
  },
  {
   "cell_type": "code",
   "execution_count": 89,
   "id": "4ec2d9f9",
   "metadata": {},
   "outputs": [
    {
     "data": {
      "text/plain": [
       "<AxesSubplot:>"
      ]
     },
     "execution_count": 89,
     "metadata": {},
     "output_type": "execute_result"
    },
    {
     "data": {
      "image/png": "[encoded data removed]",
      "text/plain": [
       "<Figure size 432x288 with 1 Axes>"
      ]
     },
     "metadata": {
      "needs_background": "light"
     },
     "output_type": "display_data"
    }
   ],
   "source": [
    "df['mileage'].plot.box()"
   ]
  },
  {
   "cell_type": "code",
   "execution_count": 90,
   "id": "b166bd51",
   "metadata": {},
   "outputs": [
    {
     "data": {
      "text/plain": [
       "<AxesSubplot:>"
      ]
     },
     "execution_count": 90,
     "metadata": {},
     "output_type": "execute_result"
    },
    {
     "data": {
      "image/png": "[encoded data removed]",
      "text/plain": [
       "<Figure size 432x288 with 1 Axes>"
      ]
     },
     "metadata": {
      "needs_background": "light"
     },
     "output_type": "display_data"
    }
   ],
   "source": [
    "df['engine_capacity'].plot.box()"
   ]
  },
  {
   "cell_type": "code",
   "execution_count": 91,
   "id": "c1bd3e1c",
   "metadata": {},
   "outputs": [
    {
     "data": {
      "text/plain": [
       "<AxesSubplot:>"
      ]
     },
     "execution_count": 91,
     "metadata": {},
     "output_type": "execute_result"
    },
    {
     "data": {
      "image/png": "[encoded data removed]",
      "text/plain": [
       "<Figure size 432x288 with 1 Axes>"
      ]
     },
     "metadata": {
      "needs_background": "light"
     },
     "output_type": "display_data"
    }
   ],
   "source": [
    "df['transmission'].plot.box()"
   ]
  },
  {
   "cell_type": "code",
   "execution_count": 92,
   "id": "a84bd1b5",
   "metadata": {},
   "outputs": [
    {
     "data": {
      "text/plain": [
       "<AxesSubplot:>"
      ]
     },
     "execution_count": 92,
     "metadata": {},
     "output_type": "execute_result"
    },
    {
     "data": {
      "image/png": "[encoded data removed]",
      "text/plain": [
       "<Figure size 432x288 with 1 Axes>"
      ]
     },
     "metadata": {
      "needs_background": "light"
     },
     "output_type": "display_data"
    }
   ],
   "source": [
    "df['drive'].plot.box()"
   ]
  },
  {
   "cell_type": "code",
   "execution_count": 93,
   "id": "f6fa404f",
   "metadata": {},
   "outputs": [
    {
     "data": {
      "text/plain": [
       "<AxesSubplot:>"
      ]
     },
     "execution_count": 93,
     "metadata": {},
     "output_type": "execute_result"
    },
    {
     "data": {
      "image/png": "[encoded data removed]",
      "text/plain": [
       "<Figure size 432x288 with 1 Axes>"
      ]
     },
     "metadata": {
      "needs_background": "light"
     },
     "output_type": "display_data"
    }
   ],
   "source": [
    "df['hand_drive'].plot.box()"
   ]
  },
  {
   "cell_type": "code",
   "execution_count": 94,
   "id": "8ca2a58d",
   "metadata": {},
   "outputs": [
    {
     "data": {
      "text/plain": [
       "<AxesSubplot:>"
      ]
     },
     "execution_count": 94,
     "metadata": {},
     "output_type": "execute_result"
    },
    {
     "data": {
      "image/png": "[encoded data removed]",
      "text/plain": [
       "<Figure size 432x288 with 1 Axes>"
      ]
     },
     "metadata": {
      "needs_background": "light"
     },
     "output_type": "display_data"
    }
   ],
   "source": [
    "df['fuel'].plot.box()"
   ]
  },
  {
   "cell_type": "markdown",
   "id": "3969f6cf",
   "metadata": {},
   "source": [
    "# Considering the outlier removel"
   ]
  },
  {
   "cell_type": "code",
   "execution_count": 95,
   "id": "52450917",
   "metadata": {},
   "outputs": [
    {
     "data": {
      "text/plain": [
       "(2318, 11)"
      ]
     },
     "execution_count": 95,
     "metadata": {},
     "output_type": "execute_result"
    }
   ],
   "source": [
    "df.shape"
   ]
  },
  {
   "cell_type": "code",
   "execution_count": 96,
   "id": "e34f2363",
   "metadata": {},
   "outputs": [
    {
     "data": {
      "text/plain": [
       "(array([   0,    7,    7,    8,   10,   23,   23,   23,   23,   23,   52,\n",
       "          54,   75,   87,  103,  111,  111,  132,  134,  138,  145,  146,\n",
       "         160,  171,  171,  186,  196,  198,  243,  246,  247,  249,  249,\n",
       "         253,  259,  268,  274,  293,  309,  312,  312,  314,  334,  353,\n",
       "         359,  401,  401,  404,  406,  409,  414,  416,  432,  441,  444,\n",
       "         446,  456,  466,  467,  472,  485,  492,  495,  495,  502,  503,\n",
       "         507,  507,  508,  529,  533,  549,  551,  580,  594,  674,  675,\n",
       "         681,  691,  693,  696,  696,  700,  723,  724,  729,  732,  738,\n",
       "         739,  740,  740,  741,  741,  742,  743,  749,  750,  750,  751,\n",
       "         752,  753,  811,  818,  818,  820,  823,  829,  834,  841,  842,\n",
       "         842,  854,  862,  862,  869,  877,  879,  883,  891,  908,  913,\n",
       "         926,  927,  927,  938,  940,  941,  954,  956,  956,  958,  970,\n",
       "         971,  971,  973,  979, 1001, 1003, 1004, 1006, 1006, 1006, 1012,\n",
       "        1019, 1024, 1036, 1046, 1065, 1065, 1066, 1066, 1076, 1077, 1078,\n",
       "        1079, 1080, 1080, 1083, 1083, 1084, 1084, 1091, 1091, 1091, 1092,\n",
       "        1092, 1094, 1110, 1113, 1114, 1125, 1125, 1125, 1126, 1126, 1128,\n",
       "        1128, 1128, 1129, 1130, 1131, 1132, 1136, 1142, 1147, 1160, 1160,\n",
       "        1171, 1171, 1172, 1172, 1172, 1201, 1213, 1236, 1250, 1258, 1267,\n",
       "        1270, 1281, 1291, 1305, 1315, 1328, 1329, 1341, 1343, 1352, 1353,\n",
       "        1353, 1356, 1356, 1380, 1387, 1393, 1408, 1412, 1425, 1441, 1451,\n",
       "        1455, 1459, 1459, 1466, 1467, 1473, 1477, 1488, 1488, 1500, 1516,\n",
       "        1520, 1521, 1551, 1553, 1571, 1572, 1572, 1573, 1576, 1576, 1576,\n",
       "        1581, 1582, 1587, 1592, 1592, 1607, 1607, 1609, 1609, 1609, 1610,\n",
       "        1610, 1611, 1617, 1627, 1633, 1633, 1656, 1656, 1659, 1662, 1664,\n",
       "        1665, 1665, 1668, 1668, 1670, 1672, 1676, 1681, 1681, 1682, 1682,\n",
       "        1682, 1703, 1703, 1706, 1706, 1707, 1713, 1719, 1719, 1726, 1726,\n",
       "        1727, 1727, 1729, 1729, 1730, 1733, 1736, 1771, 1772, 1772, 1775,\n",
       "        1779, 1780, 1781, 1811, 1836, 1840, 1848, 1857, 1860, 1877, 1877,\n",
       "        1889, 1922, 1922, 1941, 1941, 1941, 1942, 1947, 1947, 1949, 1953,\n",
       "        1956, 1961, 1962, 1966, 1966, 1966, 1978, 1979, 1980, 1980, 1981,\n",
       "        1982, 1984, 1984, 1988, 1988, 1989, 1989, 1990, 1990, 1990, 1990,\n",
       "        2017, 2021, 2026, 2032, 2032, 2033, 2037, 2038, 2039, 2042, 2049,\n",
       "        2055, 2058, 2065, 2069, 2070, 2093, 2094, 2097, 2100, 2107, 2117,\n",
       "        2131, 2132, 2132, 2133, 2133, 2134, 2134, 2135, 2135, 2135, 2153,\n",
       "        2154, 2154, 2157, 2172, 2175, 2175, 2177, 2178, 2188, 2202, 2202,\n",
       "        2210, 2210, 2210, 2210, 2213, 2220, 2239, 2245, 2249, 2251, 2264,\n",
       "        2264, 2265, 2265, 2268, 2268, 2276, 2277, 2282, 2283, 2290, 2292,\n",
       "        2298, 2305, 2306, 2307, 2307, 2308, 2308, 2310, 2310, 2316],\n",
       "       dtype=int64),\n",
       " array([ 1,  6,  8,  7,  7,  4,  7,  8,  9, 10,  7,  8,  8,  8,  5,  7,  8,\n",
       "         8,  8,  7,  7,  9,  8,  7,  8,  8,  8,  8,  8,  8,  8,  4,  7,  8,\n",
       "         8,  5,  8,  8,  8,  4,  7,  8,  8,  8,  5,  7,  8,  8,  7,  8,  7,\n",
       "         8,  8,  8,  7,  8,  8,  7,  7,  7,  8,  8,  7,  8,  8,  8,  6,  8,\n",
       "         6,  8,  7,  7,  8,  8, 10,  7,  8,  8,  8,  8,  7,  8,  8,  8,  8,\n",
       "         7,  8,  8,  8,  4,  7,  7, 10,  8,  8,  7,  4,  7,  8,  8,  8,  5,\n",
       "         8, 10,  8,  8,  7,  8,  7,  4,  6,  8,  4,  7,  8,  8,  8,  8,  8,\n",
       "        10,  8,  8,  7,  8,  8,  7,  8,  8,  7,  8,  6,  8,  5, 10,  8, 10,\n",
       "         5,  7,  7,  7,  8, 10,  7,  8,  8,  8,  7,  7,  8,  7,  8,  7,  7,\n",
       "         8,  8,  9, 10,  7,  8,  6,  8,  4,  7,  8,  9, 10,  7,  8,  8,  8,\n",
       "         4,  7,  8,  7,  8,  4,  7,  8,  8,  8,  7,  7,  8,  9,  8,  4,  7,\n",
       "         4,  7,  4,  7,  8,  7,  7,  8,  8,  7,  8,  8,  8,  7,  8,  9,  8,\n",
       "         8,  7,  8, 10,  7,  8,  7,  8,  7,  7, 10,  7,  7,  8,  7,  8,  8,\n",
       "         5, 10,  8,  8,  8, 10,  7,  8,  8,  8,  7,  8,  8,  8,  8,  5,  7,\n",
       "         8,  4,  7,  8,  7,  6,  5,  7,  8,  4,  7,  5,  9, 10,  7,  8,  7,\n",
       "         8,  8,  7,  8,  7,  8,  8,  8,  7,  7,  8,  5,  8,  6,  6,  7,  7,\n",
       "         8,  4,  7,  8,  4,  7,  7, 10,  8,  5,  7,  8,  7,  8,  7,  8,  5,\n",
       "         7,  8,  8,  7,  8,  6,  8,  8,  6,  8,  8,  8,  8,  8,  8,  8,  8,\n",
       "         7,  8,  7,  7,  8,  4,  7,  8,  6,  7,  8,  8,  8,  8,  8,  8,  4,\n",
       "         7,  8,  8,  7,  7,  8,  7,  4,  6,  8,  9, 10,  9, 10,  7,  8,  9,\n",
       "        10,  8,  8,  6,  7,  8,  7,  6,  8,  7,  8,  8,  7,  7,  7,  7,  5,\n",
       "         8,  8,  8,  8,  8,  8,  9,  9, 10,  9, 10,  9, 10,  4,  7,  8,  7,\n",
       "         7,  8,  7,  8,  4,  7,  8,  8,  6,  7,  8,  5,  6,  7, 10, 10,  8,\n",
       "         8,  7,  8,  8,  9, 10,  9, 10,  9, 10,  7,  4,  8,  8,  7,  8,  8,\n",
       "         8,  6,  7,  8,  7,  8,  5, 10,  8], dtype=int64))"
      ]
     },
     "execution_count": 96,
     "metadata": {},
     "output_type": "execute_result"
    }
   ],
   "source": [
    "from scipy.stats import zscore\n",
    "import numpy as np\n",
    "z=np.abs(zscore(df))\n",
    "threshold=3\n",
    "np.where(z>3)"
   ]
  },
  {
   "cell_type": "code",
   "execution_count": 97,
   "id": "6659f380",
   "metadata": {},
   "outputs": [
    {
     "name": "stdout",
     "output_type": "stream",
     "text": [
      "old DataFrame (2318, 11)\n",
      "new DataFrame (2000, 11)\n",
      "total_dropped_rows 318\n"
     ]
    }
   ],
   "source": [
    "df_new=df[(z<3).all(axis=1)]\n",
    "print(\"old DataFrame\",df.shape)\n",
    "print(\"new DataFrame\",df_new.shape)\n",
    "print(\"total_dropped_rows\",df.shape[0]-df_new.shape[0])"
   ]
  },
  {
   "cell_type": "code",
   "execution_count": 98,
   "id": "f67ba5f3",
   "metadata": {},
   "outputs": [
    {
     "data": {
      "text/html": [
       "<div>\n",
       "<style scoped>\n",
       "    .dataframe tbody tr th:only-of-type {\n",
       "        vertical-align: middle;\n",
       "    }\n",
       "\n",
       "    .dataframe tbody tr th {\n",
       "        vertical-align: top;\n",
       "    }\n",
       "\n",
       "    .dataframe thead th {\n",
       "        text-align: right;\n",
       "    }\n",
       "</style>\n",
       "<table border=\"1\" class=\"dataframe\">\n",
       "  <thead>\n",
       "    <tr style=\"text-align: right;\">\n",
       "      <th></th>\n",
       "      <th>id</th>\n",
       "      <th>price</th>\n",
       "      <th>mark</th>\n",
       "      <th>model</th>\n",
       "      <th>year</th>\n",
       "      <th>mileage</th>\n",
       "      <th>engine_capacity</th>\n",
       "      <th>transmission</th>\n",
       "      <th>drive</th>\n",
       "      <th>hand_drive</th>\n",
       "      <th>fuel</th>\n",
       "    </tr>\n",
       "  </thead>\n",
       "  <tbody>\n",
       "    <tr>\n",
       "      <th>1</th>\n",
       "      <td>1</td>\n",
       "      <td>110</td>\n",
       "      <td>19.0</td>\n",
       "      <td>143.0</td>\n",
       "      <td>2010</td>\n",
       "      <td>53000</td>\n",
       "      <td>1200</td>\n",
       "      <td>0.0</td>\n",
       "      <td>0.0</td>\n",
       "      <td>2.0</td>\n",
       "      <td>2.0</td>\n",
       "    </tr>\n",
       "    <tr>\n",
       "      <th>2</th>\n",
       "      <td>2</td>\n",
       "      <td>165</td>\n",
       "      <td>19.0</td>\n",
       "      <td>134.0</td>\n",
       "      <td>2005</td>\n",
       "      <td>47690</td>\n",
       "      <td>2000</td>\n",
       "      <td>0.0</td>\n",
       "      <td>0.0</td>\n",
       "      <td>2.0</td>\n",
       "      <td>2.0</td>\n",
       "    </tr>\n",
       "    <tr>\n",
       "      <th>3</th>\n",
       "      <td>3</td>\n",
       "      <td>190</td>\n",
       "      <td>25.0</td>\n",
       "      <td>29.0</td>\n",
       "      <td>2008</td>\n",
       "      <td>130661</td>\n",
       "      <td>1990</td>\n",
       "      <td>0.0</td>\n",
       "      <td>0.0</td>\n",
       "      <td>2.0</td>\n",
       "      <td>2.0</td>\n",
       "    </tr>\n",
       "    <tr>\n",
       "      <th>4</th>\n",
       "      <td>4</td>\n",
       "      <td>190</td>\n",
       "      <td>4.0</td>\n",
       "      <td>155.0</td>\n",
       "      <td>2006</td>\n",
       "      <td>66300</td>\n",
       "      <td>660</td>\n",
       "      <td>0.0</td>\n",
       "      <td>0.0</td>\n",
       "      <td>2.0</td>\n",
       "      <td>2.0</td>\n",
       "    </tr>\n",
       "    <tr>\n",
       "      <th>5</th>\n",
       "      <td>5</td>\n",
       "      <td>190</td>\n",
       "      <td>4.0</td>\n",
       "      <td>155.0</td>\n",
       "      <td>2004</td>\n",
       "      <td>81400</td>\n",
       "      <td>660</td>\n",
       "      <td>0.0</td>\n",
       "      <td>0.0</td>\n",
       "      <td>2.0</td>\n",
       "      <td>2.0</td>\n",
       "    </tr>\n",
       "    <tr>\n",
       "      <th>...</th>\n",
       "      <td>...</td>\n",
       "      <td>...</td>\n",
       "      <td>...</td>\n",
       "      <td>...</td>\n",
       "      <td>...</td>\n",
       "      <td>...</td>\n",
       "      <td>...</td>\n",
       "      <td>...</td>\n",
       "      <td>...</td>\n",
       "      <td>...</td>\n",
       "      <td>...</td>\n",
       "    </tr>\n",
       "    <tr>\n",
       "      <th>2312</th>\n",
       "      <td>2330</td>\n",
       "      <td>1400</td>\n",
       "      <td>15.0</td>\n",
       "      <td>84.0</td>\n",
       "      <td>2007</td>\n",
       "      <td>112000</td>\n",
       "      <td>1300</td>\n",
       "      <td>0.0</td>\n",
       "      <td>0.0</td>\n",
       "      <td>2.0</td>\n",
       "      <td>2.0</td>\n",
       "    </tr>\n",
       "    <tr>\n",
       "      <th>2313</th>\n",
       "      <td>2331</td>\n",
       "      <td>1400</td>\n",
       "      <td>25.0</td>\n",
       "      <td>242.0</td>\n",
       "      <td>2009</td>\n",
       "      <td>121000</td>\n",
       "      <td>996</td>\n",
       "      <td>0.0</td>\n",
       "      <td>0.0</td>\n",
       "      <td>2.0</td>\n",
       "      <td>2.0</td>\n",
       "    </tr>\n",
       "    <tr>\n",
       "      <th>2314</th>\n",
       "      <td>2332</td>\n",
       "      <td>1400</td>\n",
       "      <td>25.0</td>\n",
       "      <td>100.0</td>\n",
       "      <td>2003</td>\n",
       "      <td>101000</td>\n",
       "      <td>3000</td>\n",
       "      <td>0.0</td>\n",
       "      <td>0.0</td>\n",
       "      <td>2.0</td>\n",
       "      <td>2.0</td>\n",
       "    </tr>\n",
       "    <tr>\n",
       "      <th>2315</th>\n",
       "      <td>2333</td>\n",
       "      <td>1400</td>\n",
       "      <td>23.0</td>\n",
       "      <td>195.0</td>\n",
       "      <td>2005</td>\n",
       "      <td>101000</td>\n",
       "      <td>660</td>\n",
       "      <td>1.0</td>\n",
       "      <td>0.0</td>\n",
       "      <td>2.0</td>\n",
       "      <td>2.0</td>\n",
       "    </tr>\n",
       "    <tr>\n",
       "      <th>2317</th>\n",
       "      <td>2335</td>\n",
       "      <td>1400</td>\n",
       "      <td>25.0</td>\n",
       "      <td>101.0</td>\n",
       "      <td>2005</td>\n",
       "      <td>72320</td>\n",
       "      <td>3000</td>\n",
       "      <td>0.0</td>\n",
       "      <td>0.0</td>\n",
       "      <td>2.0</td>\n",
       "      <td>2.0</td>\n",
       "    </tr>\n",
       "  </tbody>\n",
       "</table>\n",
       "<p>2000 rows × 11 columns</p>\n",
       "</div>"
      ],
      "text/plain": [
       "        id  price  mark  model  year  mileage  engine_capacity  transmission  \\\n",
       "1        1    110  19.0  143.0  2010    53000             1200           0.0   \n",
       "2        2    165  19.0  134.0  2005    47690             2000           0.0   \n",
       "3        3    190  25.0   29.0  2008   130661             1990           0.0   \n",
       "4        4    190   4.0  155.0  2006    66300              660           0.0   \n",
       "5        5    190   4.0  155.0  2004    81400              660           0.0   \n",
       "...    ...    ...   ...    ...   ...      ...              ...           ...   \n",
       "2312  2330   1400  15.0   84.0  2007   112000             1300           0.0   \n",
       "2313  2331   1400  25.0  242.0  2009   121000              996           0.0   \n",
       "2314  2332   1400  25.0  100.0  2003   101000             3000           0.0   \n",
       "2315  2333   1400  23.0  195.0  2005   101000              660           1.0   \n",
       "2317  2335   1400  25.0  101.0  2005    72320             3000           0.0   \n",
       "\n",
       "      drive  hand_drive  fuel  \n",
       "1       0.0         2.0   2.0  \n",
       "2       0.0         2.0   2.0  \n",
       "3       0.0         2.0   2.0  \n",
       "4       0.0         2.0   2.0  \n",
       "5       0.0         2.0   2.0  \n",
       "...     ...         ...   ...  \n",
       "2312    0.0         2.0   2.0  \n",
       "2313    0.0         2.0   2.0  \n",
       "2314    0.0         2.0   2.0  \n",
       "2315    0.0         2.0   2.0  \n",
       "2317    0.0         2.0   2.0  \n",
       "\n",
       "[2000 rows x 11 columns]"
      ]
     },
     "execution_count": 98,
     "metadata": {},
     "output_type": "execute_result"
    }
   ],
   "source": [
    "df_new_z=df[(z<3).all(axis=1)]\n",
    "df_new_z"
   ]
  },
  {
   "cell_type": "code",
   "execution_count": 99,
   "id": "1d079170",
   "metadata": {},
   "outputs": [
    {
     "data": {
      "text/plain": [
       "(2000, 11)"
      ]
     },
     "execution_count": 99,
     "metadata": {},
     "output_type": "execute_result"
    }
   ],
   "source": [
    "df_new_z.shape"
   ]
  },
  {
   "cell_type": "markdown",
   "id": "6351c48b",
   "metadata": {},
   "source": [
    "# percentage loss of data"
   ]
  },
  {
   "cell_type": "code",
   "execution_count": 100,
   "id": "978e1630",
   "metadata": {},
   "outputs": [],
   "source": [
    "data_loss=((2318-2000)/2318)*100"
   ]
  },
  {
   "cell_type": "code",
   "execution_count": 101,
   "id": "34c1ab27",
   "metadata": {},
   "outputs": [
    {
     "data": {
      "text/plain": [
       "13.718723037100949"
      ]
     },
     "execution_count": 101,
     "metadata": {},
     "output_type": "execute_result"
    }
   ],
   "source": [
    "data_loss"
   ]
  },
  {
   "cell_type": "markdown",
   "id": "492329be",
   "metadata": {},
   "source": [
    "# Separating the columns into features and target:"
   ]
  },
  {
   "cell_type": "code",
   "execution_count": 102,
   "id": "f9ae0d76",
   "metadata": {},
   "outputs": [],
   "source": [
    "features=df.drop('price',axis=1)\n",
    "target=df['price']"
   ]
  },
  {
   "cell_type": "markdown",
   "id": "f0433813",
   "metadata": {},
   "source": [
    "# Scaling the data using Min=Max scaler:"
   ]
  },
  {
   "cell_type": "code",
   "execution_count": 103,
   "id": "d2d84b0b",
   "metadata": {},
   "outputs": [],
   "source": [
    "from sklearn.preprocessing import MinMaxScaler\n",
    "nms=MinMaxScaler()\n",
    "from sklearn.linear_model import LinearRegression\n",
    "lr=LinearRegression()\n",
    "from sklearn.metrics import r2_score\n",
    "from sklearn.model_selection import train_test_split"
   ]
  },
  {
   "cell_type": "code",
   "execution_count": 104,
   "id": "c3076c88",
   "metadata": {},
   "outputs": [],
   "source": [
    "import warnings\n",
    "warnings.filterwarnings('ignore')"
   ]
  },
  {
   "cell_type": "code",
   "execution_count": 105,
   "id": "2966f06d",
   "metadata": {},
   "outputs": [
    {
     "name": "stdout",
     "output_type": "stream",
     "text": [
      "At random state 0,the training accuracy is:- 0.9727444661671112\n",
      "At random state 0,the testing accuracy is:- 0.9652562021629291\n",
      "\n",
      "\n",
      "At random state 1,the training accuracy is:- 0.9723319021191262\n",
      "At random state 1,the testing accuracy is:- 0.9673771382878168\n",
      "\n",
      "\n",
      "At random state 2,the training accuracy is:- 0.9707800301375428\n",
      "At random state 2,the testing accuracy is:- 0.9740213832394455\n",
      "\n",
      "\n",
      "At random state 3,the training accuracy is:- 0.9711348974029285\n",
      "At random state 3,the testing accuracy is:- 0.9724634538554866\n",
      "\n",
      "\n",
      "At random state 4,the training accuracy is:- 0.9708762184533815\n",
      "At random state 4,the testing accuracy is:- 0.9734622508959788\n",
      "\n",
      "\n",
      "At random state 5,the training accuracy is:- 0.9723763284576016\n",
      "At random state 5,the testing accuracy is:- 0.9677721403449728\n",
      "\n",
      "\n",
      "At random state 6,the training accuracy is:- 0.9714973501019846\n",
      "At random state 6,the testing accuracy is:- 0.9709289080932847\n",
      "\n",
      "\n",
      "At random state 7,the training accuracy is:- 0.9716425764454424\n",
      "At random state 7,the testing accuracy is:- 0.9704110217778062\n",
      "\n",
      "\n",
      "At random state 8,the training accuracy is:- 0.9700143433157256\n",
      "At random state 8,the testing accuracy is:- 0.9773967164390834\n",
      "\n",
      "\n",
      "At random state 9,the training accuracy is:- 0.9708125599477095\n",
      "At random state 9,the testing accuracy is:- 0.9740194165827666\n",
      "\n",
      "\n",
      "At random state 10,the training accuracy is:- 0.9728538024217382\n",
      "At random state 10,the testing accuracy is:- 0.9662351910614163\n",
      "\n",
      "\n",
      "At random state 11,the training accuracy is:- 0.9720434297014058\n",
      "At random state 11,the testing accuracy is:- 0.9688140124636817\n",
      "\n",
      "\n",
      "At random state 12,the training accuracy is:- 0.9710106214397809\n",
      "At random state 12,the testing accuracy is:- 0.9728983871864664\n",
      "\n",
      "\n",
      "At random state 13,the training accuracy is:- 0.9725398046158931\n",
      "At random state 13,the testing accuracy is:- 0.9669687823107748\n",
      "\n",
      "\n",
      "At random state 14,the training accuracy is:- 0.9711638932725762\n",
      "At random state 14,the testing accuracy is:- 0.9721545269235666\n",
      "\n",
      "\n",
      "At random state 15,the training accuracy is:- 0.9723012639873245\n",
      "At random state 15,the testing accuracy is:- 0.9677831115433292\n",
      "\n",
      "\n",
      "At random state 16,the training accuracy is:- 0.971937690749595\n",
      "At random state 16,the testing accuracy is:- 0.9692001170836347\n",
      "\n",
      "\n",
      "At random state 17,the training accuracy is:- 0.9718328858240421\n",
      "At random state 17,the testing accuracy is:- 0.9695430818462799\n",
      "\n",
      "\n",
      "At random state 18,the training accuracy is:- 0.972033729097348\n",
      "At random state 18,the testing accuracy is:- 0.9688224823047799\n",
      "\n",
      "\n",
      "At random state 19,the training accuracy is:- 0.9707521724986924\n",
      "At random state 19,the testing accuracy is:- 0.9741092171568436\n",
      "\n",
      "\n",
      "At random state 20,the training accuracy is:- 0.9712502538170354\n",
      "At random state 20,the testing accuracy is:- 0.9718670138629473\n",
      "\n",
      "\n",
      "At random state 21,the training accuracy is:- 0.9709971360082201\n",
      "At random state 21,the testing accuracy is:- 0.973079600364837\n",
      "\n",
      "\n",
      "At random state 22,the training accuracy is:- 0.972781718254995\n",
      "At random state 22,the testing accuracy is:- 0.9659093002736228\n",
      "\n",
      "\n",
      "At random state 23,the training accuracy is:- 0.9712889627520327\n",
      "At random state 23,the testing accuracy is:- 0.9717757942152511\n",
      "\n",
      "\n",
      "At random state 24,the training accuracy is:- 0.9715811370981102\n",
      "At random state 24,the testing accuracy is:- 0.9704585689575174\n",
      "\n",
      "\n",
      "At random state 25,the training accuracy is:- 0.971298730113824\n",
      "At random state 25,the testing accuracy is:- 0.9718706299373471\n",
      "\n",
      "\n",
      "At random state 26,the training accuracy is:- 0.9723514996702597\n",
      "At random state 26,the testing accuracy is:- 0.9675918739850466\n",
      "\n",
      "\n",
      "At random state 27,the training accuracy is:- 0.971720485364465\n",
      "At random state 27,the testing accuracy is:- 0.9692626608522732\n",
      "\n",
      "\n",
      "At random state 28,the training accuracy is:- 0.9706281768799844\n",
      "At random state 28,the testing accuracy is:- 0.9743076790817524\n",
      "\n",
      "\n",
      "At random state 29,the training accuracy is:- 0.9720471805106692\n",
      "At random state 29,the testing accuracy is:- 0.9686664469275265\n",
      "\n",
      "\n",
      "At random state 30,the training accuracy is:- 0.9704353408951243\n",
      "At random state 30,the testing accuracy is:- 0.975724927589551\n",
      "\n",
      "\n",
      "At random state 31,the training accuracy is:- 0.971254968635341\n",
      "At random state 31,the testing accuracy is:- 0.9718798101882608\n",
      "\n",
      "\n",
      "At random state 32,the training accuracy is:- 0.9708885012888799\n",
      "At random state 32,the testing accuracy is:- 0.9736843905598016\n",
      "\n",
      "\n",
      "At random state 33,the training accuracy is:- 0.970800172122353\n",
      "At random state 33,the testing accuracy is:- 0.9738520973678596\n",
      "\n",
      "\n",
      "At random state 34,the training accuracy is:- 0.9712013748806493\n",
      "At random state 34,the testing accuracy is:- 0.9723612792695214\n",
      "\n",
      "\n",
      "At random state 35,the training accuracy is:- 0.9710338952711115\n",
      "At random state 35,the testing accuracy is:- 0.9729053597498092\n",
      "\n",
      "\n",
      "At random state 36,the training accuracy is:- 0.9710842994516431\n",
      "At random state 36,the testing accuracy is:- 0.9727468212277786\n",
      "\n",
      "\n",
      "At random state 37,the training accuracy is:- 0.9719000428469702\n",
      "At random state 37,the testing accuracy is:- 0.9694636043920745\n",
      "\n",
      "\n",
      "At random state 38,the training accuracy is:- 0.9721360880020391\n",
      "At random state 38,the testing accuracy is:- 0.9685737288757285\n",
      "\n",
      "\n",
      "At random state 39,the training accuracy is:- 0.9711826494910586\n",
      "At random state 39,the testing accuracy is:- 0.9721290772314809\n",
      "\n",
      "\n",
      "At random state 40,the training accuracy is:- 0.9718417718854471\n",
      "At random state 40,the testing accuracy is:- 0.9695623989431841\n",
      "\n",
      "\n",
      "At random state 41,the training accuracy is:- 0.9719333151151127\n",
      "At random state 41,the testing accuracy is:- 0.9693107686870222\n",
      "\n",
      "\n",
      "At random state 42,the training accuracy is:- 0.9703616138344964\n",
      "At random state 42,the testing accuracy is:- 0.975308860128015\n",
      "\n",
      "\n",
      "At random state 43,the training accuracy is:- 0.9706788601326717\n",
      "At random state 43,the testing accuracy is:- 0.9742562368020528\n",
      "\n",
      "\n",
      "At random state 44,the training accuracy is:- 0.9708611124029127\n",
      "At random state 44,the testing accuracy is:- 0.9736441772249119\n",
      "\n",
      "\n",
      "At random state 45,the training accuracy is:- 0.9734439857027785\n",
      "At random state 45,the testing accuracy is:- 0.9635285789471739\n",
      "\n",
      "\n",
      "At random state 46,the training accuracy is:- 0.9696490293429084\n",
      "At random state 46,the testing accuracy is:- 0.9776052422157283\n",
      "\n",
      "\n",
      "At random state 47,the training accuracy is:- 0.9723438695748647\n",
      "At random state 47,the testing accuracy is:- 0.967707189526932\n",
      "\n",
      "\n",
      "At random state 48,the training accuracy is:- 0.9716714644369356\n",
      "At random state 48,the testing accuracy is:- 0.9701653942781105\n",
      "\n",
      "\n",
      "At random state 49,the training accuracy is:- 0.9720818613155537\n",
      "At random state 49,the testing accuracy is:- 0.9685964777533576\n",
      "\n",
      "\n",
      "At random state 50,the training accuracy is:- 0.9717516446612647\n",
      "At random state 50,the testing accuracy is:- 0.9700621801234277\n",
      "\n",
      "\n",
      "At random state 51,the training accuracy is:- 0.9708849386560059\n",
      "At random state 51,the testing accuracy is:- 0.9734188806455096\n",
      "\n",
      "\n",
      "At random state 52,the training accuracy is:- 0.9721981341218764\n",
      "At random state 52,the testing accuracy is:- 0.9682325575956294\n",
      "\n",
      "\n",
      "At random state 53,the training accuracy is:- 0.9713305072262488\n",
      "At random state 53,the testing accuracy is:- 0.9717356543941259\n",
      "\n",
      "\n",
      "At random state 54,the training accuracy is:- 0.971680898778995\n",
      "At random state 54,the testing accuracy is:- 0.9702938271203545\n",
      "\n",
      "\n",
      "At random state 55,the training accuracy is:- 0.9704227364257313\n",
      "At random state 55,the testing accuracy is:- 0.9755470785599665\n",
      "\n",
      "\n",
      "At random state 56,the training accuracy is:- 0.9711620016602627\n",
      "At random state 56,the testing accuracy is:- 0.9721579620654222\n",
      "\n",
      "\n",
      "At random state 57,the training accuracy is:- 0.9708180165875779\n",
      "At random state 57,the testing accuracy is:- 0.9739084889896702\n",
      "\n",
      "\n",
      "At random state 58,the training accuracy is:- 0.9711841331396662\n",
      "At random state 58,the testing accuracy is:- 0.9719405074573991\n",
      "\n",
      "\n",
      "At random state 59,the training accuracy is:- 0.9725133669063728\n",
      "At random state 59,the testing accuracy is:- 0.9671576183785269\n",
      "\n",
      "\n",
      "At random state 60,the training accuracy is:- 0.9711740858121212\n",
      "At random state 60,the testing accuracy is:- 0.9719788109203802\n",
      "\n",
      "\n",
      "At random state 61,the training accuracy is:- 0.971324930992698\n",
      "At random state 61,the testing accuracy is:- 0.9716974230171175\n",
      "\n",
      "\n",
      "At random state 62,the training accuracy is:- 0.9718625598931193\n",
      "At random state 62,the testing accuracy is:- 0.9695804073394412\n",
      "\n",
      "\n",
      "At random state 63,the training accuracy is:- 0.9701006890503433\n",
      "At random state 63,the testing accuracy is:- 0.976587206200167\n",
      "\n",
      "\n",
      "At random state 64,the training accuracy is:- 0.9714988877624138\n",
      "At random state 64,the testing accuracy is:- 0.9710737445886634\n",
      "\n",
      "\n",
      "At random state 65,the training accuracy is:- 0.9712452492136145\n",
      "At random state 65,the testing accuracy is:- 0.9718752009283136\n",
      "\n",
      "\n",
      "At random state 66,the training accuracy is:- 0.9714265089874514\n",
      "At random state 66,the testing accuracy is:- 0.9713729746004536\n",
      "\n",
      "\n",
      "At random state 67,the training accuracy is:- 0.9713355075174629\n",
      "At random state 67,the testing accuracy is:- 0.9715721879391769\n",
      "\n",
      "\n",
      "At random state 68,the training accuracy is:- 0.9721757862790136\n",
      "At random state 68,the testing accuracy is:- 0.9680465882101366\n",
      "\n",
      "\n",
      "At random state 69,the training accuracy is:- 0.972022905995941\n",
      "At random state 69,the testing accuracy is:- 0.9691529950352885\n",
      "\n",
      "\n",
      "At random state 70,the training accuracy is:- 0.9722120046672269\n",
      "At random state 70,the testing accuracy is:- 0.9681469323005615\n",
      "\n",
      "\n",
      "At random state 71,the training accuracy is:- 0.9713931046380485\n",
      "At random state 71,the testing accuracy is:- 0.9710352069085942\n",
      "\n",
      "\n",
      "At random state 72,the training accuracy is:- 0.9706506963924368\n",
      "At random state 72,the testing accuracy is:- 0.9744543419736307\n",
      "\n",
      "\n",
      "At random state 73,the training accuracy is:- 0.9714570722753355\n",
      "At random state 73,the testing accuracy is:- 0.9712257962387146\n",
      "\n",
      "\n",
      "At random state 74,the training accuracy is:- 0.9702524250724069\n",
      "At random state 74,the testing accuracy is:- 0.9756412654131819\n",
      "\n",
      "\n",
      "At random state 75,the training accuracy is:- 0.9731214575459581\n",
      "At random state 75,the testing accuracy is:- 0.9642843467877618\n",
      "\n",
      "\n",
      "At random state 76,the training accuracy is:- 0.9717659922885451\n",
      "At random state 76,the testing accuracy is:- 0.9699165804443644\n",
      "\n",
      "\n",
      "At random state 77,the training accuracy is:- 0.9708869924990435\n",
      "At random state 77,the testing accuracy is:- 0.9733009217337156\n",
      "\n",
      "\n",
      "At random state 78,the training accuracy is:- 0.971500131767906\n",
      "At random state 78,the testing accuracy is:- 0.9710146829804704\n",
      "\n",
      "\n",
      "At random state 79,the training accuracy is:- 0.9727459176614188\n",
      "At random state 79,the testing accuracy is:- 0.9663546275663372\n",
      "\n",
      "\n",
      "At random state 80,the training accuracy is:- 0.9711850606558573\n",
      "At random state 80,the testing accuracy is:- 0.9723903191412309\n",
      "\n",
      "\n",
      "At random state 81,the training accuracy is:- 0.9710475137414007\n",
      "At random state 81,the testing accuracy is:- 0.9727928193335887\n",
      "\n",
      "\n",
      "At random state 82,the training accuracy is:- 0.9704912919277445\n",
      "At random state 82,the testing accuracy is:- 0.9752017881595278\n",
      "\n",
      "\n",
      "At random state 83,the training accuracy is:- 0.9721035868958667\n",
      "At random state 83,the testing accuracy is:- 0.9685989458199892\n",
      "\n",
      "\n",
      "At random state 84,the training accuracy is:- 0.9704407911981968\n",
      "At random state 84,the testing accuracy is:- 0.9752229357751112\n",
      "\n",
      "\n",
      "At random state 85,the training accuracy is:- 0.9711465197865848\n",
      "At random state 85,the testing accuracy is:- 0.9723478095899298\n",
      "\n",
      "\n",
      "At random state 86,the training accuracy is:- 0.9703822324009752\n",
      "At random state 86,the testing accuracy is:- 0.9753030453423046\n",
      "\n",
      "\n",
      "At random state 87,the training accuracy is:- 0.9712314501630952\n",
      "At random state 87,the testing accuracy is:- 0.9720840946593003\n",
      "\n",
      "\n",
      "At random state 88,the training accuracy is:- 0.9703723649278392\n",
      "At random state 88,the testing accuracy is:- 0.9758532942621022\n",
      "\n",
      "\n",
      "At random state 89,the training accuracy is:- 0.9711170683559935\n",
      "At random state 89,the testing accuracy is:- 0.972698615168331\n",
      "\n",
      "\n",
      "At random state 90,the training accuracy is:- 0.9732434700363015\n",
      "At random state 90,the testing accuracy is:- 0.963213076654335\n",
      "\n",
      "\n",
      "At random state 91,the training accuracy is:- 0.9709937287972578\n",
      "At random state 91,the testing accuracy is:- 0.9723928146206994\n",
      "\n",
      "\n",
      "At random state 92,the training accuracy is:- 0.9707733653701008\n",
      "At random state 92,the testing accuracy is:- 0.9738025499210002\n",
      "\n",
      "\n",
      "At random state 93,the training accuracy is:- 0.970499117936711\n",
      "At random state 93,the testing accuracy is:- 0.9748464730131623\n",
      "\n",
      "\n",
      "At random state 94,the training accuracy is:- 0.9713041671357034\n",
      "At random state 94,the testing accuracy is:- 0.9718993230001131\n",
      "\n",
      "\n",
      "At random state 95,the training accuracy is:- 0.9709899932710224\n",
      "At random state 95,the testing accuracy is:- 0.9728560900616952\n",
      "\n",
      "\n",
      "At random state 96,the training accuracy is:- 0.9722749375000795\n",
      "At random state 96,the testing accuracy is:- 0.9678395238883238\n",
      "\n",
      "\n",
      "At random state 97,the training accuracy is:- 0.9711647182679437\n",
      "At random state 97,the testing accuracy is:- 0.9723324240307607\n",
      "\n",
      "\n",
      "At random state 98,the training accuracy is:- 0.9719904557813285\n",
      "At random state 98,the testing accuracy is:- 0.9690023524002449\n",
      "\n",
      "\n",
      "At random state 99,the training accuracy is:- 0.972279223822448\n",
      "At random state 99,the testing accuracy is:- 0.9682281625397926\n",
      "\n",
      "\n"
     ]
    }
   ],
   "source": [
    "for i in range (0,100):\n",
    "    features_train,features_test,target_train,target_test=train_test_split(features,target,test_size=0.2,random_state=i)\n",
    "    lr.fit(features_train,target_train)\n",
    "    pred_train=lr.predict(features_train)\n",
    "    pred_test=lr.predict(features_test)\n",
    "    print(f\"At random state {i},the training accuracy is:- {r2_score(target_train,pred_train)}\")\n",
    "    print(f\"At random state {i},the testing accuracy is:- {r2_score(target_test,pred_test)}\")\n",
    "    print(\"\\n\")"
   ]
  },
  {
   "cell_type": "code",
   "execution_count": 106,
   "id": "733f8de3",
   "metadata": {},
   "outputs": [],
   "source": [
    "features_train,features_train,target_train,target_test=train_test_split(features,target,test_size=0.2,random_state=12)"
   ]
  },
  {
   "cell_type": "code",
   "execution_count": 107,
   "id": "23fad3f9",
   "metadata": {},
   "outputs": [],
   "source": [
    "pred_test=lr.predict(features_test)"
   ]
  },
  {
   "cell_type": "code",
   "execution_count": 108,
   "id": "c16fcdff",
   "metadata": {},
   "outputs": [
    {
     "name": "stdout",
     "output_type": "stream",
     "text": [
      "-1.0670281058298987\n"
     ]
    }
   ],
   "source": [
    "print(r2_score(target_test,pred_test))"
   ]
  },
  {
   "cell_type": "markdown",
   "id": "af419393",
   "metadata": {},
   "source": [
    "# Cross-validation of the model"
   ]
  },
  {
   "cell_type": "code",
   "execution_count": 109,
   "id": "5050f728",
   "metadata": {},
   "outputs": [
    {
     "name": "stdout",
     "output_type": "stream",
     "text": [
      "At cross fold 2 the cv score is -0.5617490995799755 and accuracy score for training is -1.0472774003531908 and accuracy for the testing is -1.0670281058298987\n",
      "\n",
      "\n",
      "At cross fold 3 the cv score is -0.2069531799503229 and accuracy score for training is -1.0472774003531908 and accuracy for the testing is -1.0670281058298987\n",
      "\n",
      "\n",
      "At cross fold 4 the cv score is -0.2939317388025177 and accuracy score for training is -1.0472774003531908 and accuracy for the testing is -1.0670281058298987\n",
      "\n",
      "\n",
      "At cross fold 5 the cv score is -0.5380015402339874 and accuracy score for training is -1.0472774003531908 and accuracy for the testing is -1.0670281058298987\n",
      "\n",
      "\n",
      "At cross fold 6 the cv score is -0.7059960534829273 and accuracy score for training is -1.0472774003531908 and accuracy for the testing is -1.0670281058298987\n",
      "\n",
      "\n",
      "At cross fold 7 the cv score is -0.7775393904516247 and accuracy score for training is -1.0472774003531908 and accuracy for the testing is -1.0670281058298987\n",
      "\n",
      "\n",
      "At cross fold 8 the cv score is -1.018194322299298 and accuracy score for training is -1.0472774003531908 and accuracy for the testing is -1.0670281058298987\n",
      "\n",
      "\n",
      "At cross fold 9 the cv score is -1.3900092141871485 and accuracy score for training is -1.0472774003531908 and accuracy for the testing is -1.0670281058298987\n",
      "\n",
      "\n"
     ]
    }
   ],
   "source": [
    "Train_accuracy=r2_score(target_train,pred_train)\n",
    "Test_accuracy=r2_score(target_test,pred_test)\n",
    "\n",
    "from sklearn.model_selection import cross_val_score\n",
    "for j in range(2,10):\n",
    "    cv_score=cross_val_score(lr,features,target,cv=j)\n",
    "    cv_mean=cv_score.mean()\n",
    "    print(f\"At cross fold {j} the cv score is {cv_mean} and accuracy score for training is {Train_accuracy} and accuracy for the testing is {Test_accuracy}\")\n",
    "    print(\"\\n\")"
   ]
  },
  {
   "cell_type": "code",
   "execution_count": 110,
   "id": "4a012708",
   "metadata": {},
   "outputs": [
    {
     "data": {
      "image/png": "[encoded data removed]",
      "text/plain": [
       "<Figure size 576x432 with 1 Axes>"
      ]
     },
     "metadata": {
      "needs_background": "light"
     },
     "output_type": "display_data"
    }
   ],
   "source": [
    "import matplotlib.pyplot as plt\n",
    "plt.figure(figsize=(8,6))\n",
    "plt.scatter(x=target_test,y=pred_test,color='r')\n",
    "plt.plot(target_test,target_test,color=\"r\")\n",
    "plt.xlabel('Actual charges',fontsize=14)\n",
    "plt.ylabel('predicted charges',fontsize=14)\n",
    "plt.title('Linear Regression',fontsize=18)\n",
    "plt.savefig('lr.png')\n",
    "plt.show()"
   ]
  },
  {
   "cell_type": "markdown",
   "id": "059200ce",
   "metadata": {},
   "source": [
    "best fit line is covering most of the datapoints which shows good fit of our model"
   ]
  },
  {
   "cell_type": "code",
   "execution_count": 114,
   "id": "079751d5",
   "metadata": {},
   "outputs": [],
   "source": [
    "X=df.drop(columns=['id', 'price', 'mark', 'model', 'year', 'mileage', 'engine_capacity',\n",
    "       'transmission', 'drive', 'hand_drive', 'fuel'],axis=1)\n",
    "Y=df['model']"
   ]
  },
  {
   "cell_type": "code",
   "execution_count": 115,
   "id": "bead7d63",
   "metadata": {},
   "outputs": [
    {
     "name": "stdout",
     "output_type": "stream",
     "text": [
      "Empty DataFrame\n",
      "Columns: []\n",
      "Index: [0, 1, 2, 3, 4, 5, 6, 7, 8, 9, 10, 11, 12, 13, 14, 15, 16, 17, 18, 19, 20, 21, 22, 23, 24, 25, 26, 27, 28, 29, 30, 31, 32, 33, 34, 35, 36, 37, 38, 39, 40, 41, 42, 43, 44, 45, 46, 47, 48, 49, 50, 51, 52, 53, 54, 55, 56, 57, 58, 59, 60, 61, 62, 63, 64, 65, 66, 67, 68, 69, 70, 71, 72, 73, 74, 75, 76, 77, 78, 79, 80, 81, 82, 83, 84, 85, 86, 87, 88, 89, 90, 91, 92, 93, 94, 95, 96, 97, 98, 99, ...]\n",
      "\n",
      "[2318 rows x 0 columns]\n"
     ]
    }
   ],
   "source": [
    "print(X)"
   ]
  },
  {
   "cell_type": "code",
   "execution_count": 116,
   "id": "89c47d49",
   "metadata": {},
   "outputs": [
    {
     "name": "stdout",
     "output_type": "stream",
     "text": [
      "0       143.0\n",
      "1       143.0\n",
      "2       134.0\n",
      "3        29.0\n",
      "4       155.0\n",
      "        ...  \n",
      "2313    242.0\n",
      "2314    100.0\n",
      "2315    195.0\n",
      "2316    256.0\n",
      "2317    101.0\n",
      "Name: model, Length: 2318, dtype: float64\n"
     ]
    }
   ],
   "source": [
    "print(Y)"
   ]
  },
  {
   "cell_type": "code",
   "execution_count": 117,
   "id": "e74cb109",
   "metadata": {},
   "outputs": [],
   "source": [
    "X_train, X_test, Y_train,Y_test=train_test_split(X,Y,test_size=0.2,random_state=2)"
   ]
  },
  {
   "cell_type": "code",
   "execution_count": 118,
   "id": "68d27f6c",
   "metadata": {},
   "outputs": [
    {
     "name": "stdout",
     "output_type": "stream",
     "text": [
      "(2318, 0) (1854, 0) (464, 0)\n"
     ]
    }
   ],
   "source": [
    "print(X.shape,X_train.shape,X_test.shape)"
   ]
  }
 ],
 "metadata": {
  "kernelspec": {
   "display_name": "Python 3 (ipykernel)",
   "language": "python",
   "name": "python3"
  },
  "language_info": {
   "codemirror_mode": {
    "name": "ipython",
    "version": 3
   },
   "file_extension": ".py",
   "mimetype": "text/x-python",
   "name": "python",
   "nbconvert_exporter": "python",
   "pygments_lexer": "ipython3",
   "version": "3.9.12"
  }
 },
 "nbformat": 4,
 "nbformat_minor": 5
}
