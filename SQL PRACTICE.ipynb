{
 "cells": [
  {
   "cell_type": "code",
   "execution_count": 1,
   "id": "6f6cf5bd",
   "metadata": {},
   "outputs": [],
   "source": [
    "import sqlite3\n",
    "db=sqlite3.connect(\"student_data.db\")\n",
    "cursor=db.cursor()"
   ]
  },
  {
   "cell_type": "code",
   "execution_count": 3,
   "id": "5ba2c612",
   "metadata": {},
   "outputs": [
    {
     "data": {
      "text/plain": [
       "<sqlite3.Cursor at 0x240f5a451f0>"
      ]
     },
     "execution_count": 3,
     "metadata": {},
     "output_type": "execute_result"
    }
   ],
   "source": [
    "cursor.execute(\"create table student_data(phone_number int primary key ,email_id text,course_name text,fee_paid int)\")"
   ]
  },
  {
   "cell_type": "code",
   "execution_count": 7,
   "id": "c7934503",
   "metadata": {},
   "outputs": [
    {
     "name": "stdout",
     "output_type": "stream",
     "text": [
      "20 record(s)inserted\n"
     ]
    }
   ],
   "source": [
    "with open(r\"C:\\Users\\hp\\Downloads\\raw.githubusercontent.com_training-ml_Files_main_DT_Students.csv\")as file:\n",
    "    no_records=0\n",
    "    for row in file:\n",
    "        cursor.execute(\"insert into student_data values(?,?,?,?)\",row.split(\",\"))\n",
    "        db.commit()\n",
    "        no_records+=1\n",
    "print(no_records ,\"record(s)inserted\")"
   ]
  },
  {
   "cell_type": "code",
   "execution_count": 8,
   "id": "80feba08",
   "metadata": {},
   "outputs": [
    {
     "name": "stdout",
     "output_type": "stream",
     "text": [
      "(9988776604, 'student4@gmail.com', 'Digital Marketing', 38000)\n",
      "(9988776605, 'student5@gmail.com', 'Data Science', 133000)\n",
      "(9988776606, 'student6@gmail.com', 'Data Science', 34000)\n",
      "(9988776607, 'student7@gmail.com', 'Data Science', 33000)\n",
      "(9988776608, 'student8@gmail.com', 'Data Science', 129000)\n",
      "(9988776609, 'student9@gmail.com', 'Data Science', 40000)\n",
      "(9988776610, 'student10@gmail.com', 'Data Analytics', 32500)\n",
      "(9988776611, 'student11@gmail.com', 'Data Science', 41500)\n",
      "(9988776612, 'student12@gmail.com', 'Digital Marketing', 31000)\n",
      "(9988776613, 'student13@gmail.com', 'Digital Marketing', 23000)\n",
      "(9988776614, 'student14@gmail.com', 'Data Science', 24000)\n",
      "(9988776615, 'student15@gmail.com', 'Data Science', 23000)\n",
      "(9988776616, 'student16@gmail.com', 'Data Science', 122500)\n",
      "(9988776617, 'student17@gmail.com', 'Data Science', 29000)\n",
      "(9988776618, 'student18@gmail.com', 'Data Science', 140000)\n",
      "(9988776619, 'student19@gmail.com', 'Data Analytics', 32500)\n",
      "(9988776620, 'student20@gmail.com', 'Inv Banking', 41500)\n",
      "(9988776621, 'student21@gmail.com', 'Data Science', 131000)\n",
      "(9988776622, 'student22@gmail.com', 'Data Science', 23000)\n",
      "(9988776623, 'student23@gmail.com', 'Data Science', 24000)\n"
     ]
    }
   ],
   "source": [
    "result=cursor.execute(\"select*from student_data\")\n",
    "for row in result:\n",
    "    print(row)"
   ]
  },
  {
   "cell_type": "code",
   "execution_count": 12,
   "id": "e0486dba",
   "metadata": {},
   "outputs": [
    {
     "data": {
      "text/plain": [
       "<sqlite3.Cursor at 0x240f5a451f0>"
      ]
     },
     "execution_count": 12,
     "metadata": {},
     "output_type": "execute_result"
    }
   ],
   "source": [
    "sql=\"delete from student_data where phone_number=9988776623\"\n",
    "cursor.execute(sql)"
   ]
  },
  {
   "cell_type": "code",
   "execution_count": 13,
   "id": "06b58ff8",
   "metadata": {},
   "outputs": [
    {
     "name": "stdout",
     "output_type": "stream",
     "text": [
      "(9988776604, 'student4@gmail.com', 'Digital Marketing', 38000)\n",
      "(9988776605, 'student5@gmail.com', 'Data Science', 133000)\n",
      "(9988776606, 'student6@gmail.com', 'Data Science', 34000)\n",
      "(9988776607, 'student7@gmail.com', 'Data Science', 33000)\n",
      "(9988776608, 'student8@gmail.com', 'Data Science', 129000)\n",
      "(9988776609, 'student9@gmail.com', 'Data Science', 40000)\n",
      "(9988776610, 'student10@gmail.com', 'Data Analytics', 32500)\n",
      "(9988776611, 'student11@gmail.com', 'Data Science', 41500)\n",
      "(9988776612, 'student12@gmail.com', 'Digital Marketing', 31000)\n",
      "(9988776613, 'student13@gmail.com', 'Digital Marketing', 23000)\n",
      "(9988776614, 'student14@gmail.com', 'Data Science', 24000)\n",
      "(9988776615, 'student15@gmail.com', 'Data Science', 23000)\n",
      "(9988776616, 'student16@gmail.com', 'Data Science', 122500)\n",
      "(9988776617, 'student17@gmail.com', 'Data Science', 29000)\n",
      "(9988776618, 'student18@gmail.com', 'Data Science', 140000)\n",
      "(9988776619, 'student19@gmail.com', 'Data Analytics', 32500)\n",
      "(9988776620, 'student20@gmail.com', 'Inv Banking', 41500)\n",
      "(9988776621, 'student21@gmail.com', 'Data Science', 131000)\n",
      "(9988776622, 'student22@gmail.com', 'Data Science', 23000)\n"
     ]
    }
   ],
   "source": [
    "result=cursor.execute(\"select*from student_data\")\n",
    "for row in result:\n",
    "    print(row)"
   ]
  },
  {
   "cell_type": "code",
   "execution_count": 27,
   "id": "d01bdb20",
   "metadata": {},
   "outputs": [],
   "source": [
    "sql=\"update student_data set course_name='python' where course_name='Data_Science'\"\n",
    "cursor.execute(sql)\n",
    "db.commit()"
   ]
  },
  {
   "cell_type": "code",
   "execution_count": 28,
   "id": "dd186fe9",
   "metadata": {},
   "outputs": [
    {
     "name": "stdout",
     "output_type": "stream",
     "text": [
      "(9988776604, 'student4@gmail.com', 'Digital Marketing', 38000)\n",
      "(9988776605, 'student5@gmail.com', 'Data Science', 133000)\n",
      "(9988776606, 'student6@gmail.com', 'Data Science', 34000)\n",
      "(9988776607, 'student7@gmail.com', 'Data Science', 33000)\n",
      "(9988776608, 'student8@gmail.com', 'Data Science', 129000)\n",
      "(9988776609, 'student9@gmail.com', 'Data Science', 40000)\n",
      "(9988776610, 'student10@gmail.com', 'Data Analytics', 32500)\n",
      "(9988776611, 'student11@gmail.com', 'Data Science', 41500)\n",
      "(9988776612, 'student12@gmail.com', 'Digital Marketing', 31000)\n",
      "(9988776613, 'student13@gmail.com', 'Digital Marketing', 23000)\n",
      "(9988776614, 'student14@gmail.com', 'Data Science', 24000)\n",
      "(9988776615, 'student15@gmail.com', 'Data Science', 23000)\n",
      "(9988776616, 'student16@gmail.com', 'Data Science', 122500)\n",
      "(9988776617, 'student17@gmail.com', 'Data Science', 29000)\n",
      "(9988776618, 'student18@gmail.com', 'Data Science', 140000)\n",
      "(9988776619, 'student19@gmail.com', 'Data Analytics', 32500)\n",
      "(9988776620, 'student20@gmail.com', 'Inv Banking', 41500)\n",
      "(9988776621, 'student21@gmail.com', 'Data Science', 131000)\n",
      "(9988776622, 'student22@gmail.com', 'python', 23000)\n"
     ]
    }
   ],
   "source": [
    "result=cursor.execute(\"select * from student_data\")\n",
    "for row in result:\n",
    "    print(row)"
   ]
  },
  {
   "cell_type": "code",
   "execution_count": null,
   "id": "54c96d77",
   "metadata": {},
   "outputs": [],
   "source": []
  }
 ],
 "metadata": {
  "kernelspec": {
   "display_name": "Python 3 (ipykernel)",
   "language": "python",
   "name": "python3"
  },
  "language_info": {
   "codemirror_mode": {
    "name": "ipython",
    "version": 3
   },
   "file_extension": ".py",
   "mimetype": "text/x-python",
   "name": "python",
   "nbconvert_exporter": "python",
   "pygments_lexer": "ipython3",
   "version": "3.9.12"
  }
 },
 "nbformat": 4,
 "nbformat_minor": 5
}
