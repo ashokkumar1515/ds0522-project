{
 "cells": [
  {
   "cell_type": "markdown",
   "id": "85de6e27",
   "metadata": {},
   "source": [
    "# Importing the dataset:-"
   ]
  },
  {
   "cell_type": "code",
   "execution_count": 1,
   "id": "0b6e86ca",
   "metadata": {},
   "outputs": [],
   "source": [
    "import pandas as pd\n",
    "import numpy as np"
   ]
  },
  {
   "cell_type": "code",
   "execution_count": 2,
   "id": "3c2ccc42",
   "metadata": {},
   "outputs": [],
   "source": [
    "df=pd.read_csv(\"https://raw.githubusercontent.com/dsrscientist/dataset3/main/glass.csv\")"
   ]
  },
  {
   "cell_type": "code",
   "execution_count": 3,
   "id": "0ac18a33",
   "metadata": {},
   "outputs": [
    {
     "data": {
      "text/html": [
       "<div>\n",
       "<style scoped>\n",
       "    .dataframe tbody tr th:only-of-type {\n",
       "        vertical-align: middle;\n",
       "    }\n",
       "\n",
       "    .dataframe tbody tr th {\n",
       "        vertical-align: top;\n",
       "    }\n",
       "\n",
       "    .dataframe thead th {\n",
       "        text-align: right;\n",
       "    }\n",
       "</style>\n",
       "<table border=\"1\" class=\"dataframe\">\n",
       "  <thead>\n",
       "    <tr style=\"text-align: right;\">\n",
       "      <th></th>\n",
       "      <th>1</th>\n",
       "      <th>1.52101</th>\n",
       "      <th>13.64</th>\n",
       "      <th>4.49</th>\n",
       "      <th>1.10</th>\n",
       "      <th>71.78</th>\n",
       "      <th>0.06</th>\n",
       "      <th>8.75</th>\n",
       "      <th>0.00</th>\n",
       "      <th>0.00.1</th>\n",
       "      <th>1.1</th>\n",
       "    </tr>\n",
       "  </thead>\n",
       "  <tbody>\n",
       "    <tr>\n",
       "      <th>0</th>\n",
       "      <td>2</td>\n",
       "      <td>1.51761</td>\n",
       "      <td>13.89</td>\n",
       "      <td>3.60</td>\n",
       "      <td>1.36</td>\n",
       "      <td>72.73</td>\n",
       "      <td>0.48</td>\n",
       "      <td>7.83</td>\n",
       "      <td>0.00</td>\n",
       "      <td>0.00</td>\n",
       "      <td>1</td>\n",
       "    </tr>\n",
       "    <tr>\n",
       "      <th>1</th>\n",
       "      <td>3</td>\n",
       "      <td>1.51618</td>\n",
       "      <td>13.53</td>\n",
       "      <td>3.55</td>\n",
       "      <td>1.54</td>\n",
       "      <td>72.99</td>\n",
       "      <td>0.39</td>\n",
       "      <td>7.78</td>\n",
       "      <td>0.00</td>\n",
       "      <td>0.00</td>\n",
       "      <td>1</td>\n",
       "    </tr>\n",
       "    <tr>\n",
       "      <th>2</th>\n",
       "      <td>4</td>\n",
       "      <td>1.51766</td>\n",
       "      <td>13.21</td>\n",
       "      <td>3.69</td>\n",
       "      <td>1.29</td>\n",
       "      <td>72.61</td>\n",
       "      <td>0.57</td>\n",
       "      <td>8.22</td>\n",
       "      <td>0.00</td>\n",
       "      <td>0.00</td>\n",
       "      <td>1</td>\n",
       "    </tr>\n",
       "    <tr>\n",
       "      <th>3</th>\n",
       "      <td>5</td>\n",
       "      <td>1.51742</td>\n",
       "      <td>13.27</td>\n",
       "      <td>3.62</td>\n",
       "      <td>1.24</td>\n",
       "      <td>73.08</td>\n",
       "      <td>0.55</td>\n",
       "      <td>8.07</td>\n",
       "      <td>0.00</td>\n",
       "      <td>0.00</td>\n",
       "      <td>1</td>\n",
       "    </tr>\n",
       "    <tr>\n",
       "      <th>4</th>\n",
       "      <td>6</td>\n",
       "      <td>1.51596</td>\n",
       "      <td>12.79</td>\n",
       "      <td>3.61</td>\n",
       "      <td>1.62</td>\n",
       "      <td>72.97</td>\n",
       "      <td>0.64</td>\n",
       "      <td>8.07</td>\n",
       "      <td>0.00</td>\n",
       "      <td>0.26</td>\n",
       "      <td>1</td>\n",
       "    </tr>\n",
       "    <tr>\n",
       "      <th>...</th>\n",
       "      <td>...</td>\n",
       "      <td>...</td>\n",
       "      <td>...</td>\n",
       "      <td>...</td>\n",
       "      <td>...</td>\n",
       "      <td>...</td>\n",
       "      <td>...</td>\n",
       "      <td>...</td>\n",
       "      <td>...</td>\n",
       "      <td>...</td>\n",
       "      <td>...</td>\n",
       "    </tr>\n",
       "    <tr>\n",
       "      <th>208</th>\n",
       "      <td>210</td>\n",
       "      <td>1.51623</td>\n",
       "      <td>14.14</td>\n",
       "      <td>0.00</td>\n",
       "      <td>2.88</td>\n",
       "      <td>72.61</td>\n",
       "      <td>0.08</td>\n",
       "      <td>9.18</td>\n",
       "      <td>1.06</td>\n",
       "      <td>0.00</td>\n",
       "      <td>7</td>\n",
       "    </tr>\n",
       "    <tr>\n",
       "      <th>209</th>\n",
       "      <td>211</td>\n",
       "      <td>1.51685</td>\n",
       "      <td>14.92</td>\n",
       "      <td>0.00</td>\n",
       "      <td>1.99</td>\n",
       "      <td>73.06</td>\n",
       "      <td>0.00</td>\n",
       "      <td>8.40</td>\n",
       "      <td>1.59</td>\n",
       "      <td>0.00</td>\n",
       "      <td>7</td>\n",
       "    </tr>\n",
       "    <tr>\n",
       "      <th>210</th>\n",
       "      <td>212</td>\n",
       "      <td>1.52065</td>\n",
       "      <td>14.36</td>\n",
       "      <td>0.00</td>\n",
       "      <td>2.02</td>\n",
       "      <td>73.42</td>\n",
       "      <td>0.00</td>\n",
       "      <td>8.44</td>\n",
       "      <td>1.64</td>\n",
       "      <td>0.00</td>\n",
       "      <td>7</td>\n",
       "    </tr>\n",
       "    <tr>\n",
       "      <th>211</th>\n",
       "      <td>213</td>\n",
       "      <td>1.51651</td>\n",
       "      <td>14.38</td>\n",
       "      <td>0.00</td>\n",
       "      <td>1.94</td>\n",
       "      <td>73.61</td>\n",
       "      <td>0.00</td>\n",
       "      <td>8.48</td>\n",
       "      <td>1.57</td>\n",
       "      <td>0.00</td>\n",
       "      <td>7</td>\n",
       "    </tr>\n",
       "    <tr>\n",
       "      <th>212</th>\n",
       "      <td>214</td>\n",
       "      <td>1.51711</td>\n",
       "      <td>14.23</td>\n",
       "      <td>0.00</td>\n",
       "      <td>2.08</td>\n",
       "      <td>73.36</td>\n",
       "      <td>0.00</td>\n",
       "      <td>8.62</td>\n",
       "      <td>1.67</td>\n",
       "      <td>0.00</td>\n",
       "      <td>7</td>\n",
       "    </tr>\n",
       "  </tbody>\n",
       "</table>\n",
       "<p>213 rows × 11 columns</p>\n",
       "</div>"
      ],
      "text/plain": [
       "       1  1.52101  13.64  4.49  1.10  71.78  0.06  8.75  0.00  0.00.1  1.1\n",
       "0      2  1.51761  13.89  3.60  1.36  72.73  0.48  7.83  0.00    0.00    1\n",
       "1      3  1.51618  13.53  3.55  1.54  72.99  0.39  7.78  0.00    0.00    1\n",
       "2      4  1.51766  13.21  3.69  1.29  72.61  0.57  8.22  0.00    0.00    1\n",
       "3      5  1.51742  13.27  3.62  1.24  73.08  0.55  8.07  0.00    0.00    1\n",
       "4      6  1.51596  12.79  3.61  1.62  72.97  0.64  8.07  0.00    0.26    1\n",
       "..   ...      ...    ...   ...   ...    ...   ...   ...   ...     ...  ...\n",
       "208  210  1.51623  14.14  0.00  2.88  72.61  0.08  9.18  1.06    0.00    7\n",
       "209  211  1.51685  14.92  0.00  1.99  73.06  0.00  8.40  1.59    0.00    7\n",
       "210  212  1.52065  14.36  0.00  2.02  73.42  0.00  8.44  1.64    0.00    7\n",
       "211  213  1.51651  14.38  0.00  1.94  73.61  0.00  8.48  1.57    0.00    7\n",
       "212  214  1.51711  14.23  0.00  2.08  73.36  0.00  8.62  1.67    0.00    7\n",
       "\n",
       "[213 rows x 11 columns]"
      ]
     },
     "execution_count": 3,
     "metadata": {},
     "output_type": "execute_result"
    }
   ],
   "source": [
    "df"
   ]
  },
  {
   "cell_type": "code",
   "execution_count": 4,
   "id": "f91bfceb",
   "metadata": {},
   "outputs": [
    {
     "data": {
      "text/plain": [
       "Index(['1', '1.52101', '13.64', '4.49', '1.10', '71.78', '0.06', '8.75',\n",
       "       '0.00', '0.00.1', '1.1'],\n",
       "      dtype='object')"
      ]
     },
     "execution_count": 4,
     "metadata": {},
     "output_type": "execute_result"
    }
   ],
   "source": [
    "df.columns"
   ]
  },
  {
   "cell_type": "code",
   "execution_count": 5,
   "id": "57d860f3",
   "metadata": {},
   "outputs": [
    {
     "data": {
      "text/html": [
       "<div>\n",
       "<style scoped>\n",
       "    .dataframe tbody tr th:only-of-type {\n",
       "        vertical-align: middle;\n",
       "    }\n",
       "\n",
       "    .dataframe tbody tr th {\n",
       "        vertical-align: top;\n",
       "    }\n",
       "\n",
       "    .dataframe thead th {\n",
       "        text-align: right;\n",
       "    }\n",
       "</style>\n",
       "<table border=\"1\" class=\"dataframe\">\n",
       "  <thead>\n",
       "    <tr style=\"text-align: right;\">\n",
       "      <th></th>\n",
       "      <th>1</th>\n",
       "      <th>1.52101</th>\n",
       "      <th>13.64</th>\n",
       "      <th>4.49</th>\n",
       "      <th>1.10</th>\n",
       "      <th>71.78</th>\n",
       "      <th>0.06</th>\n",
       "      <th>8.75</th>\n",
       "      <th>0.00</th>\n",
       "      <th>0.00.1</th>\n",
       "      <th>1.1</th>\n",
       "    </tr>\n",
       "  </thead>\n",
       "  <tbody>\n",
       "    <tr>\n",
       "      <th>0</th>\n",
       "      <td>2</td>\n",
       "      <td>1.51761</td>\n",
       "      <td>13.89</td>\n",
       "      <td>3.60</td>\n",
       "      <td>1.36</td>\n",
       "      <td>72.73</td>\n",
       "      <td>0.48</td>\n",
       "      <td>7.83</td>\n",
       "      <td>0.0</td>\n",
       "      <td>0.00</td>\n",
       "      <td>1</td>\n",
       "    </tr>\n",
       "    <tr>\n",
       "      <th>1</th>\n",
       "      <td>3</td>\n",
       "      <td>1.51618</td>\n",
       "      <td>13.53</td>\n",
       "      <td>3.55</td>\n",
       "      <td>1.54</td>\n",
       "      <td>72.99</td>\n",
       "      <td>0.39</td>\n",
       "      <td>7.78</td>\n",
       "      <td>0.0</td>\n",
       "      <td>0.00</td>\n",
       "      <td>1</td>\n",
       "    </tr>\n",
       "    <tr>\n",
       "      <th>2</th>\n",
       "      <td>4</td>\n",
       "      <td>1.51766</td>\n",
       "      <td>13.21</td>\n",
       "      <td>3.69</td>\n",
       "      <td>1.29</td>\n",
       "      <td>72.61</td>\n",
       "      <td>0.57</td>\n",
       "      <td>8.22</td>\n",
       "      <td>0.0</td>\n",
       "      <td>0.00</td>\n",
       "      <td>1</td>\n",
       "    </tr>\n",
       "    <tr>\n",
       "      <th>3</th>\n",
       "      <td>5</td>\n",
       "      <td>1.51742</td>\n",
       "      <td>13.27</td>\n",
       "      <td>3.62</td>\n",
       "      <td>1.24</td>\n",
       "      <td>73.08</td>\n",
       "      <td>0.55</td>\n",
       "      <td>8.07</td>\n",
       "      <td>0.0</td>\n",
       "      <td>0.00</td>\n",
       "      <td>1</td>\n",
       "    </tr>\n",
       "    <tr>\n",
       "      <th>4</th>\n",
       "      <td>6</td>\n",
       "      <td>1.51596</td>\n",
       "      <td>12.79</td>\n",
       "      <td>3.61</td>\n",
       "      <td>1.62</td>\n",
       "      <td>72.97</td>\n",
       "      <td>0.64</td>\n",
       "      <td>8.07</td>\n",
       "      <td>0.0</td>\n",
       "      <td>0.26</td>\n",
       "      <td>1</td>\n",
       "    </tr>\n",
       "  </tbody>\n",
       "</table>\n",
       "</div>"
      ],
      "text/plain": [
       "   1  1.52101  13.64  4.49  1.10  71.78  0.06  8.75  0.00  0.00.1  1.1\n",
       "0  2  1.51761  13.89  3.60  1.36  72.73  0.48  7.83   0.0    0.00    1\n",
       "1  3  1.51618  13.53  3.55  1.54  72.99  0.39  7.78   0.0    0.00    1\n",
       "2  4  1.51766  13.21  3.69  1.29  72.61  0.57  8.22   0.0    0.00    1\n",
       "3  5  1.51742  13.27  3.62  1.24  73.08  0.55  8.07   0.0    0.00    1\n",
       "4  6  1.51596  12.79  3.61  1.62  72.97  0.64  8.07   0.0    0.26    1"
      ]
     },
     "execution_count": 5,
     "metadata": {},
     "output_type": "execute_result"
    }
   ],
   "source": [
    "df.head()"
   ]
  },
  {
   "cell_type": "markdown",
   "id": "3c634cb8",
   "metadata": {},
   "source": [
    "# Checking the null values in dataset:-"
   ]
  },
  {
   "cell_type": "code",
   "execution_count": 6,
   "id": "a2d7e59f",
   "metadata": {},
   "outputs": [
    {
     "data": {
      "text/plain": [
       "1          0\n",
       "1.52101    0\n",
       "13.64      0\n",
       "4.49       0\n",
       "1.10       0\n",
       "71.78      0\n",
       "0.06       0\n",
       "8.75       0\n",
       "0.00       0\n",
       "0.00.1     0\n",
       "1.1        0\n",
       "dtype: int64"
      ]
     },
     "execution_count": 6,
     "metadata": {},
     "output_type": "execute_result"
    }
   ],
   "source": [
    "df.isnull().sum()"
   ]
  },
  {
   "cell_type": "markdown",
   "id": "86d5ff7d",
   "metadata": {},
   "source": [
    "there is no null value in given data set."
   ]
  },
  {
   "cell_type": "markdown",
   "id": "18b7853a",
   "metadata": {},
   "source": [
    "# Non graphical analysis"
   ]
  },
  {
   "cell_type": "markdown",
   "id": "7157eb81",
   "metadata": {},
   "source": [
    "Checking the data type of the column"
   ]
  },
  {
   "cell_type": "code",
   "execution_count": 7,
   "id": "6ea7f11d",
   "metadata": {},
   "outputs": [
    {
     "data": {
      "text/plain": [
       "1            int64\n",
       "1.52101    float64\n",
       "13.64      float64\n",
       "4.49       float64\n",
       "1.10       float64\n",
       "71.78      float64\n",
       "0.06       float64\n",
       "8.75       float64\n",
       "0.00       float64\n",
       "0.00.1     float64\n",
       "1.1          int64\n",
       "dtype: object"
      ]
     },
     "execution_count": 7,
     "metadata": {},
     "output_type": "execute_result"
    }
   ],
   "source": [
    "df.dtypes"
   ]
  },
  {
   "cell_type": "markdown",
   "id": "e362675d",
   "metadata": {},
   "source": [
    "we observe that \"1.1\" has continuous data but is object type.let's handle this column."
   ]
  },
  {
   "cell_type": "code",
   "execution_count": 8,
   "id": "4a73d5eb",
   "metadata": {},
   "outputs": [
    {
     "data": {
      "text/plain": [
       "array([1, 2, 3, 5, 6, 7], dtype=int64)"
      ]
     },
     "execution_count": 8,
     "metadata": {},
     "output_type": "execute_result"
    }
   ],
   "source": [
    "df[\"1.1\"].unique()"
   ]
  },
  {
   "cell_type": "code",
   "execution_count": 9,
   "id": "884dbd9b",
   "metadata": {},
   "outputs": [
    {
     "data": {
      "text/plain": [
       "array([ 7.83,  7.78,  8.22,  8.07,  8.17,  8.24,  8.3 ,  8.4 ,  8.09,\n",
       "        8.56,  8.05,  8.38,  8.5 ,  8.39,  8.7 ,  9.15,  8.89,  8.44,\n",
       "        8.52,  9.  ,  8.59,  8.43,  8.53,  8.54,  8.49,  8.69,  8.55,\n",
       "        8.75,  8.57,  8.78,  8.68,  9.57,  8.77,  8.64,  9.74,  8.76,\n",
       "        8.83,  9.82, 10.02,  8.91, 10.06,  9.14,  9.03,  9.07,  9.02,\n",
       "        9.06,  8.35,  8.03,  8.27,  8.67,  9.54,  9.69,  9.61,  9.4 ,\n",
       "        9.85, 10.17,  7.36,  8.32,  7.89,  7.9 ,  7.96,  8.04,  7.94,\n",
       "        7.97,  7.86,  8.1 ,  7.08,  8.21,  8.08,  8.12,  8.96,  8.6 ,\n",
       "        9.13,  8.9 ,  8.79,  9.23,  9.42, 11.64, 10.79, 13.24, 13.3 ,\n",
       "       16.19, 11.52, 10.99, 14.68, 14.96, 14.4 ,  8.28,  8.31,  7.88,\n",
       "        8.42,  7.99, 10.56, 11.14, 13.44,  8.15,  8.11,  8.41,  8.23,\n",
       "        8.18,  8.81,  8.33,  9.49,  8.93,  8.58,  8.65,  9.65,  8.99,\n",
       "        5.87, 10.09, 11.41, 11.62, 11.53, 11.32, 12.24,  6.96,  6.93,\n",
       "       12.5 ,  9.7 , 11.27,  9.77,  9.26,  9.32,  7.59,  9.95, 10.88,\n",
       "       11.22,  6.65,  5.43,  5.79,  9.76,  8.61,  9.04,  9.41,  8.95,\n",
       "        9.08,  8.34,  8.71,  6.47,  9.45,  9.18,  8.48,  8.62])"
      ]
     },
     "execution_count": 9,
     "metadata": {},
     "output_type": "execute_result"
    }
   ],
   "source": [
    "df[\"8.75\"].unique()"
   ]
  },
  {
   "cell_type": "code",
   "execution_count": 10,
   "id": "ed26b928",
   "metadata": {},
   "outputs": [
    {
     "data": {
      "text/plain": [
       "6"
      ]
     },
     "execution_count": 10,
     "metadata": {},
     "output_type": "execute_result"
    }
   ],
   "source": [
    "df[\"1.1\"].nunique()"
   ]
  },
  {
   "cell_type": "code",
   "execution_count": 11,
   "id": "23cc8280",
   "metadata": {},
   "outputs": [
    {
     "data": {
      "text/plain": [
       "213"
      ]
     },
     "execution_count": 11,
     "metadata": {},
     "output_type": "execute_result"
    }
   ],
   "source": [
    "df.shape[0]"
   ]
  },
  {
   "cell_type": "code",
   "execution_count": 12,
   "id": "35a83c0f",
   "metadata": {},
   "outputs": [
    {
     "data": {
      "text/html": [
       "<div>\n",
       "<style scoped>\n",
       "    .dataframe tbody tr th:only-of-type {\n",
       "        vertical-align: middle;\n",
       "    }\n",
       "\n",
       "    .dataframe tbody tr th {\n",
       "        vertical-align: top;\n",
       "    }\n",
       "\n",
       "    .dataframe thead th {\n",
       "        text-align: right;\n",
       "    }\n",
       "</style>\n",
       "<table border=\"1\" class=\"dataframe\">\n",
       "  <thead>\n",
       "    <tr style=\"text-align: right;\">\n",
       "      <th></th>\n",
       "      <th>1</th>\n",
       "      <th>1.52101</th>\n",
       "      <th>13.64</th>\n",
       "      <th>4.49</th>\n",
       "      <th>1.10</th>\n",
       "      <th>71.78</th>\n",
       "      <th>0.06</th>\n",
       "      <th>8.75</th>\n",
       "      <th>0.00</th>\n",
       "      <th>0.00.1</th>\n",
       "      <th>1.1</th>\n",
       "    </tr>\n",
       "  </thead>\n",
       "  <tbody>\n",
       "  </tbody>\n",
       "</table>\n",
       "</div>"
      ],
      "text/plain": [
       "Empty DataFrame\n",
       "Columns: [1, 1.52101, 13.64, 4.49, 1.10, 71.78, 0.06, 8.75, 0.00, 0.00.1, 1.1]\n",
       "Index: []"
      ]
     },
     "execution_count": 12,
     "metadata": {},
     "output_type": "execute_result"
    }
   ],
   "source": [
    "df.loc[df[\"1.1\"]==\" \"]"
   ]
  },
  {
   "cell_type": "code",
   "execution_count": 13,
   "id": "71b3ded8",
   "metadata": {},
   "outputs": [
    {
     "data": {
      "text/plain": [
       "1          0\n",
       "1.52101    0\n",
       "13.64      0\n",
       "4.49       0\n",
       "1.10       0\n",
       "71.78      0\n",
       "0.06       0\n",
       "8.75       0\n",
       "0.00       0\n",
       "0.00.1     0\n",
       "1.1        0\n",
       "dtype: int64"
      ]
     },
     "execution_count": 13,
     "metadata": {},
     "output_type": "execute_result"
    }
   ],
   "source": [
    "df.isnull().sum()"
   ]
  },
  {
   "cell_type": "markdown",
   "id": "46164f8f",
   "metadata": {},
   "source": [
    "it is seen that there is no null values"
   ]
  },
  {
   "cell_type": "code",
   "execution_count": 14,
   "id": "054e028f",
   "metadata": {},
   "outputs": [
    {
     "data": {
      "text/html": [
       "<div>\n",
       "<style scoped>\n",
       "    .dataframe tbody tr th:only-of-type {\n",
       "        vertical-align: middle;\n",
       "    }\n",
       "\n",
       "    .dataframe tbody tr th {\n",
       "        vertical-align: top;\n",
       "    }\n",
       "\n",
       "    .dataframe thead th {\n",
       "        text-align: right;\n",
       "    }\n",
       "</style>\n",
       "<table border=\"1\" class=\"dataframe\">\n",
       "  <thead>\n",
       "    <tr style=\"text-align: right;\">\n",
       "      <th></th>\n",
       "      <th>1</th>\n",
       "      <th>1.52101</th>\n",
       "      <th>13.64</th>\n",
       "      <th>4.49</th>\n",
       "      <th>1.10</th>\n",
       "      <th>71.78</th>\n",
       "      <th>0.06</th>\n",
       "      <th>8.75</th>\n",
       "      <th>0.00</th>\n",
       "      <th>0.00.1</th>\n",
       "      <th>1.1</th>\n",
       "    </tr>\n",
       "  </thead>\n",
       "  <tbody>\n",
       "    <tr>\n",
       "      <th>count</th>\n",
       "      <td>213.000000</td>\n",
       "      <td>213.000000</td>\n",
       "      <td>213.000000</td>\n",
       "      <td>213.000000</td>\n",
       "      <td>213.000000</td>\n",
       "      <td>213.000000</td>\n",
       "      <td>213.000000</td>\n",
       "      <td>213.000000</td>\n",
       "      <td>213.000000</td>\n",
       "      <td>213.000000</td>\n",
       "      <td>213.000000</td>\n",
       "    </tr>\n",
       "    <tr>\n",
       "      <th>mean</th>\n",
       "      <td>108.000000</td>\n",
       "      <td>1.518353</td>\n",
       "      <td>13.406761</td>\n",
       "      <td>2.676056</td>\n",
       "      <td>1.446526</td>\n",
       "      <td>72.655023</td>\n",
       "      <td>0.499108</td>\n",
       "      <td>8.957934</td>\n",
       "      <td>0.175869</td>\n",
       "      <td>0.057277</td>\n",
       "      <td>2.788732</td>\n",
       "    </tr>\n",
       "    <tr>\n",
       "      <th>std</th>\n",
       "      <td>61.631972</td>\n",
       "      <td>0.003039</td>\n",
       "      <td>0.818371</td>\n",
       "      <td>1.440453</td>\n",
       "      <td>0.499882</td>\n",
       "      <td>0.774052</td>\n",
       "      <td>0.653035</td>\n",
       "      <td>1.426435</td>\n",
       "      <td>0.498245</td>\n",
       "      <td>0.097589</td>\n",
       "      <td>2.105130</td>\n",
       "    </tr>\n",
       "    <tr>\n",
       "      <th>min</th>\n",
       "      <td>2.000000</td>\n",
       "      <td>1.511150</td>\n",
       "      <td>10.730000</td>\n",
       "      <td>0.000000</td>\n",
       "      <td>0.290000</td>\n",
       "      <td>69.810000</td>\n",
       "      <td>0.000000</td>\n",
       "      <td>5.430000</td>\n",
       "      <td>0.000000</td>\n",
       "      <td>0.000000</td>\n",
       "      <td>1.000000</td>\n",
       "    </tr>\n",
       "    <tr>\n",
       "      <th>25%</th>\n",
       "      <td>55.000000</td>\n",
       "      <td>1.516520</td>\n",
       "      <td>12.900000</td>\n",
       "      <td>2.090000</td>\n",
       "      <td>1.190000</td>\n",
       "      <td>72.280000</td>\n",
       "      <td>0.130000</td>\n",
       "      <td>8.240000</td>\n",
       "      <td>0.000000</td>\n",
       "      <td>0.000000</td>\n",
       "      <td>1.000000</td>\n",
       "    </tr>\n",
       "    <tr>\n",
       "      <th>50%</th>\n",
       "      <td>108.000000</td>\n",
       "      <td>1.517680</td>\n",
       "      <td>13.300000</td>\n",
       "      <td>3.480000</td>\n",
       "      <td>1.360000</td>\n",
       "      <td>72.790000</td>\n",
       "      <td>0.560000</td>\n",
       "      <td>8.600000</td>\n",
       "      <td>0.000000</td>\n",
       "      <td>0.000000</td>\n",
       "      <td>2.000000</td>\n",
       "    </tr>\n",
       "    <tr>\n",
       "      <th>75%</th>\n",
       "      <td>161.000000</td>\n",
       "      <td>1.519150</td>\n",
       "      <td>13.830000</td>\n",
       "      <td>3.600000</td>\n",
       "      <td>1.630000</td>\n",
       "      <td>73.090000</td>\n",
       "      <td>0.610000</td>\n",
       "      <td>9.180000</td>\n",
       "      <td>0.000000</td>\n",
       "      <td>0.100000</td>\n",
       "      <td>3.000000</td>\n",
       "    </tr>\n",
       "    <tr>\n",
       "      <th>max</th>\n",
       "      <td>214.000000</td>\n",
       "      <td>1.533930</td>\n",
       "      <td>17.380000</td>\n",
       "      <td>3.980000</td>\n",
       "      <td>3.500000</td>\n",
       "      <td>75.410000</td>\n",
       "      <td>6.210000</td>\n",
       "      <td>16.190000</td>\n",
       "      <td>3.150000</td>\n",
       "      <td>0.510000</td>\n",
       "      <td>7.000000</td>\n",
       "    </tr>\n",
       "  </tbody>\n",
       "</table>\n",
       "</div>"
      ],
      "text/plain": [
       "                1     1.52101       13.64        4.49        1.10       71.78  \\\n",
       "count  213.000000  213.000000  213.000000  213.000000  213.000000  213.000000   \n",
       "mean   108.000000    1.518353   13.406761    2.676056    1.446526   72.655023   \n",
       "std     61.631972    0.003039    0.818371    1.440453    0.499882    0.774052   \n",
       "min      2.000000    1.511150   10.730000    0.000000    0.290000   69.810000   \n",
       "25%     55.000000    1.516520   12.900000    2.090000    1.190000   72.280000   \n",
       "50%    108.000000    1.517680   13.300000    3.480000    1.360000   72.790000   \n",
       "75%    161.000000    1.519150   13.830000    3.600000    1.630000   73.090000   \n",
       "max    214.000000    1.533930   17.380000    3.980000    3.500000   75.410000   \n",
       "\n",
       "             0.06        8.75        0.00      0.00.1         1.1  \n",
       "count  213.000000  213.000000  213.000000  213.000000  213.000000  \n",
       "mean     0.499108    8.957934    0.175869    0.057277    2.788732  \n",
       "std      0.653035    1.426435    0.498245    0.097589    2.105130  \n",
       "min      0.000000    5.430000    0.000000    0.000000    1.000000  \n",
       "25%      0.130000    8.240000    0.000000    0.000000    1.000000  \n",
       "50%      0.560000    8.600000    0.000000    0.000000    2.000000  \n",
       "75%      0.610000    9.180000    0.000000    0.100000    3.000000  \n",
       "max      6.210000   16.190000    3.150000    0.510000    7.000000  "
      ]
     },
     "execution_count": 14,
     "metadata": {},
     "output_type": "execute_result"
    }
   ],
   "source": [
    "df.describe()"
   ]
  },
  {
   "cell_type": "markdown",
   "id": "b912d501",
   "metadata": {},
   "source": [
    "# making dataframe for the nominal data"
   ]
  },
  {
   "cell_type": "code",
   "execution_count": 15,
   "id": "fb953408",
   "metadata": {},
   "outputs": [],
   "source": [
    "import matplotlib.pyplot as plt"
   ]
  },
  {
   "cell_type": "code",
   "execution_count": 16,
   "id": "abf35f5d",
   "metadata": {},
   "outputs": [],
   "source": [
    "df_visualization_nominal=df[['1', '1.52101', '13.64', '4.49', '1.10', '71.78', '0.06', '8.75',\n",
    "       '0.00', '0.00.1', '1.1']].copy()"
   ]
  },
  {
   "cell_type": "code",
   "execution_count": 17,
   "id": "bf7ad005",
   "metadata": {},
   "outputs": [
    {
     "data": {
      "text/plain": [
       "Index(['1', '1.52101', '13.64', '4.49', '1.10', '71.78', '0.06', '8.75',\n",
       "       '0.00', '0.00.1', '1.1'],\n",
       "      dtype='object')"
      ]
     },
     "execution_count": 17,
     "metadata": {},
     "output_type": "execute_result"
    }
   ],
   "source": [
    "df_visualization_nominal.columns"
   ]
  },
  {
   "cell_type": "markdown",
   "id": "7d03a059",
   "metadata": {},
   "source": [
    "# Visualization of the Data"
   ]
  },
  {
   "cell_type": "code",
   "execution_count": 18,
   "id": "f11dc604",
   "metadata": {},
   "outputs": [],
   "source": [
    "import seaborn as sns"
   ]
  },
  {
   "cell_type": "code",
   "execution_count": 19,
   "id": "c33fbe85",
   "metadata": {},
   "outputs": [
    {
     "name": "stdout",
     "output_type": "stream",
     "text": [
      "2    76\n",
      "1    69\n",
      "7    29\n",
      "3    17\n",
      "5    13\n",
      "6     9\n",
      "Name: 1.1, dtype: int64\n"
     ]
    },
    {
     "data": {
      "image/png": "[encoded data removed]",
      "text/plain": [
       "<Figure size 432x288 with 1 Axes>"
      ]
     },
     "metadata": {
      "needs_background": "light"
     },
     "output_type": "display_data"
    }
   ],
   "source": [
    "ax=sns.countplot(x='1.1',data=df_visualization_nominal)\n",
    "print(df_visualization_nominal['1.1'].value_counts())"
   ]
  },
  {
   "cell_type": "code",
   "execution_count": 20,
   "id": "2e7b51cb",
   "metadata": {},
   "outputs": [
    {
     "name": "stdout",
     "output_type": "stream",
     "text": [
      "2      1\n",
      "136    1\n",
      "138    1\n",
      "139    1\n",
      "140    1\n",
      "      ..\n",
      "76     1\n",
      "77     1\n",
      "78     1\n",
      "79     1\n",
      "214    1\n",
      "Name: 1, Length: 213, dtype: int64\n"
     ]
    },
    {
     "data": {
      "image/png": "[encoded data removed]",
      "text/plain": [
       "<Figure size 432x288 with 1 Axes>"
      ]
     },
     "metadata": {
      "needs_background": "light"
     },
     "output_type": "display_data"
    }
   ],
   "source": [
    "ax=sns.countplot(x='1',data=df_visualization_nominal)\n",
    "print(df_visualization_nominal['1'].value_counts())"
   ]
  },
  {
   "cell_type": "code",
   "execution_count": 21,
   "id": "5181ff45",
   "metadata": {},
   "outputs": [
    {
     "name": "stdout",
     "output_type": "stream",
     "text": [
      "1.52152    3\n",
      "1.51590    3\n",
      "1.51645    3\n",
      "1.51761    2\n",
      "1.51613    2\n",
      "          ..\n",
      "1.51625    1\n",
      "1.51569    1\n",
      "1.51605    1\n",
      "1.51588    1\n",
      "1.51651    1\n",
      "Name: 1.52101, Length: 177, dtype: int64\n"
     ]
    },
    {
     "data": {
      "image/png": "[encoded data removed]",
      "text/plain": [
       "<Figure size 432x288 with 1 Axes>"
      ]
     },
     "metadata": {
      "needs_background": "light"
     },
     "output_type": "display_data"
    }
   ],
   "source": [
    "ax=sns.countplot(x='1.52101',data=df_visualization_nominal)\n",
    "print(df_visualization_nominal['1.52101'].value_counts())"
   ]
  },
  {
   "cell_type": "code",
   "execution_count": 22,
   "id": "fe781c93",
   "metadata": {},
   "outputs": [
    {
     "name": "stdout",
     "output_type": "stream",
     "text": [
      "13.21    5\n",
      "13.02    5\n",
      "13.00    5\n",
      "12.85    4\n",
      "12.86    4\n",
      "        ..\n",
      "13.34    1\n",
      "13.31    1\n",
      "14.17    1\n",
      "13.51    1\n",
      "14.23    1\n",
      "Name: 13.64, Length: 142, dtype: int64\n"
     ]
    },
    {
     "data": {
      "image/png": "[encoded data removed]",
      "text/plain": [
       "<Figure size 432x288 with 1 Axes>"
      ]
     },
     "metadata": {
      "needs_background": "light"
     },
     "output_type": "display_data"
    }
   ],
   "source": [
    "ax=sns.countplot(x='13.64',data=df_visualization_nominal)\n",
    "print(df_visualization_nominal['13.64'].value_counts())"
   ]
  },
  {
   "cell_type": "code",
   "execution_count": 23,
   "id": "676caa54",
   "metadata": {},
   "outputs": [
    {
     "name": "stdout",
     "output_type": "stream",
     "text": [
      "0.00    42\n",
      "3.48     8\n",
      "3.58     8\n",
      "3.54     8\n",
      "3.52     7\n",
      "        ..\n",
      "3.46     1\n",
      "3.73     1\n",
      "3.97     1\n",
      "3.89     1\n",
      "1.78     1\n",
      "Name: 4.49, Length: 93, dtype: int64\n"
     ]
    },
    {
     "data": {
      "image/png": "[encoded data removed]",
      "text/plain": [
       "<Figure size 432x288 with 1 Axes>"
      ]
     },
     "metadata": {
      "needs_background": "light"
     },
     "output_type": "display_data"
    }
   ],
   "source": [
    "ax=sns.countplot(x='4.49',data=df_visualization_nominal)\n",
    "print(df_visualization_nominal['4.49'].value_counts())"
   ]
  },
  {
   "cell_type": "code",
   "execution_count": 24,
   "id": "8c216934",
   "metadata": {},
   "outputs": [
    {
     "name": "stdout",
     "output_type": "stream",
     "text": [
      "1.54    8\n",
      "1.19    6\n",
      "1.56    5\n",
      "1.29    5\n",
      "1.43    5\n",
      "       ..\n",
      "1.61    1\n",
      "0.88    1\n",
      "1.05    1\n",
      "0.65    1\n",
      "1.94    1\n",
      "Name: 1.10, Length: 117, dtype: int64\n"
     ]
    },
    {
     "data": {
      "image/png": "[encoded data removed]",
      "text/plain": [
       "<Figure size 432x288 with 1 Axes>"
      ]
     },
     "metadata": {
      "needs_background": "light"
     },
     "output_type": "display_data"
    }
   ],
   "source": [
    "ax=sns.countplot(x='1.10',data=df_visualization_nominal)\n",
    "print(df_visualization_nominal['1.10'].value_counts())"
   ]
  },
  {
   "cell_type": "code",
   "execution_count": 25,
   "id": "ffc68b63",
   "metadata": {},
   "outputs": [
    {
     "name": "stdout",
     "output_type": "stream",
     "text": [
      "72.99    4\n",
      "73.10    4\n",
      "72.86    4\n",
      "73.28    4\n",
      "73.11    4\n",
      "        ..\n",
      "70.57    1\n",
      "73.81    1\n",
      "72.92    1\n",
      "73.55    1\n",
      "73.61    1\n",
      "Name: 71.78, Length: 132, dtype: int64\n"
     ]
    },
    {
     "data": {
      "image/png": "[encoded data removed]",
      "text/plain": [
       "<Figure size 432x288 with 1 Axes>"
      ]
     },
     "metadata": {
      "needs_background": "light"
     },
     "output_type": "display_data"
    }
   ],
   "source": [
    "ax=sns.countplot(x=\"71.78\",data=df_visualization_nominal)\n",
    "print(df_visualization_nominal['71.78'].value_counts())"
   ]
  },
  {
   "cell_type": "code",
   "execution_count": 26,
   "id": "ca1d1507",
   "metadata": {},
   "outputs": [
    {
     "name": "stdout",
     "output_type": "stream",
     "text": [
      "0.00    30\n",
      "0.57    12\n",
      "0.56    11\n",
      "0.60    11\n",
      "0.58    10\n",
      "        ..\n",
      "0.44     1\n",
      "0.07     1\n",
      "0.73     1\n",
      "0.70     1\n",
      "1.41     1\n",
      "Name: 0.06, Length: 65, dtype: int64\n"
     ]
    },
    {
     "data": {
      "image/png": "[encoded data removed]",
      "text/plain": [
       "<Figure size 432x288 with 1 Axes>"
      ]
     },
     "metadata": {
      "needs_background": "light"
     },
     "output_type": "display_data"
    }
   ],
   "source": [
    "ax=sns.countplot(x='0.06',data=df_visualization_nominal)\n",
    "print(df_visualization_nominal['0.06'].value_counts())"
   ]
  },
  {
   "cell_type": "code",
   "execution_count": 27,
   "id": "047d9cb7",
   "metadata": {},
   "outputs": [
    {
     "name": "stdout",
     "output_type": "stream",
     "text": [
      "8.03    5\n",
      "8.43    5\n",
      "8.44    4\n",
      "9.57    4\n",
      "8.79    4\n",
      "       ..\n",
      "8.90    1\n",
      "9.13    1\n",
      "7.78    1\n",
      "8.96    1\n",
      "8.62    1\n",
      "Name: 8.75, Length: 143, dtype: int64\n"
     ]
    },
    {
     "data": {
      "image/png": "[encoded data removed]",
      "text/plain": [
       "<Figure size 432x288 with 1 Axes>"
      ]
     },
     "metadata": {
      "needs_background": "light"
     },
     "output_type": "display_data"
    }
   ],
   "source": [
    "ax=sns.countplot(x='8.75',data=df_visualization_nominal)\n",
    "print(df_visualization_nominal['8.75'].value_counts())"
   ]
  },
  {
   "cell_type": "code",
   "execution_count": 28,
   "id": "fc6f29d9",
   "metadata": {},
   "outputs": [
    {
     "name": "stdout",
     "output_type": "stream",
     "text": [
      "0.00    175\n",
      "0.64      2\n",
      "1.57      2\n",
      "0.09      2\n",
      "1.59      2\n",
      "0.11      2\n",
      "3.15      1\n",
      "0.81      1\n",
      "1.64      1\n",
      "1.06      1\n",
      "0.54      1\n",
      "2.88      1\n",
      "1.38      1\n",
      "1.55      1\n",
      "0.67      1\n",
      "1.71      1\n",
      "0.56      1\n",
      "0.63      1\n",
      "0.53      1\n",
      "0.66      1\n",
      "0.61      1\n",
      "0.27      1\n",
      "0.69      1\n",
      "0.40      1\n",
      "0.14      1\n",
      "0.76      1\n",
      "1.68      1\n",
      "1.63      1\n",
      "1.19      1\n",
      "0.24      1\n",
      "2.20      1\n",
      "0.15      1\n",
      "0.06      1\n",
      "1.67      1\n",
      "Name: 0.00, dtype: int64\n"
     ]
    },
    {
     "data": {
      "image/png": "[encoded data removed]",
      "text/plain": [
       "<Figure size 432x288 with 1 Axes>"
      ]
     },
     "metadata": {
      "needs_background": "light"
     },
     "output_type": "display_data"
    }
   ],
   "source": [
    "ax=sns.countplot(x='0.00',data=df_visualization_nominal)\n",
    "print(df_visualization_nominal['0.00'].value_counts())"
   ]
  },
  {
   "cell_type": "code",
   "execution_count": 29,
   "id": "886d7d4a",
   "metadata": {},
   "outputs": [
    {
     "name": "stdout",
     "output_type": "stream",
     "text": [
      "0.00    143\n",
      "0.24      7\n",
      "0.17      7\n",
      "0.09      6\n",
      "0.10      5\n",
      "0.11      4\n",
      "0.16      3\n",
      "0.28      3\n",
      "0.12      3\n",
      "0.22      3\n",
      "0.14      3\n",
      "0.07      3\n",
      "0.19      2\n",
      "0.15      2\n",
      "0.08      2\n",
      "0.06      1\n",
      "0.21      1\n",
      "0.05      1\n",
      "0.51      1\n",
      "0.37      1\n",
      "0.35      1\n",
      "0.25      1\n",
      "0.18      1\n",
      "0.34      1\n",
      "0.29      1\n",
      "0.30      1\n",
      "0.20      1\n",
      "0.32      1\n",
      "0.26      1\n",
      "0.03      1\n",
      "0.31      1\n",
      "0.01      1\n",
      "Name: 0.00.1, dtype: int64\n"
     ]
    },
    {
     "data": {
      "image/png": "[encoded data removed]",
      "text/plain": [
       "<Figure size 432x288 with 1 Axes>"
      ]
     },
     "metadata": {
      "needs_background": "light"
     },
     "output_type": "display_data"
    }
   ],
   "source": [
    "ax=sns.countplot(x='0.00.1',data=df_visualization_nominal)\n",
    "print(df_visualization_nominal['0.00.1'].value_counts())"
   ]
  },
  {
   "cell_type": "markdown",
   "id": "9328b247",
   "metadata": {},
   "source": [
    "# Encoding of DataFrame"
   ]
  },
  {
   "cell_type": "code",
   "execution_count": 30,
   "id": "eeef0008",
   "metadata": {},
   "outputs": [],
   "source": [
    "from sklearn.preprocessing import OrdinalEncoder\n",
    "enc=OrdinalEncoder()"
   ]
  },
  {
   "cell_type": "code",
   "execution_count": 31,
   "id": "880b4fe3",
   "metadata": {},
   "outputs": [],
   "source": [
    "for i in df.columns:\n",
    "    if df[i].dtypes==\"object\":\n",
    "        df[i]=enc.fit_transform(df[i].values.reshape(-1,1))"
   ]
  },
  {
   "cell_type": "code",
   "execution_count": 32,
   "id": "86515320",
   "metadata": {},
   "outputs": [
    {
     "data": {
      "text/html": [
       "<div>\n",
       "<style scoped>\n",
       "    .dataframe tbody tr th:only-of-type {\n",
       "        vertical-align: middle;\n",
       "    }\n",
       "\n",
       "    .dataframe tbody tr th {\n",
       "        vertical-align: top;\n",
       "    }\n",
       "\n",
       "    .dataframe thead th {\n",
       "        text-align: right;\n",
       "    }\n",
       "</style>\n",
       "<table border=\"1\" class=\"dataframe\">\n",
       "  <thead>\n",
       "    <tr style=\"text-align: right;\">\n",
       "      <th></th>\n",
       "      <th>1</th>\n",
       "      <th>1.52101</th>\n",
       "      <th>13.64</th>\n",
       "      <th>4.49</th>\n",
       "      <th>1.10</th>\n",
       "      <th>71.78</th>\n",
       "      <th>0.06</th>\n",
       "      <th>8.75</th>\n",
       "      <th>0.00</th>\n",
       "      <th>0.00.1</th>\n",
       "      <th>1.1</th>\n",
       "    </tr>\n",
       "  </thead>\n",
       "  <tbody>\n",
       "    <tr>\n",
       "      <th>0</th>\n",
       "      <td>2</td>\n",
       "      <td>1.51761</td>\n",
       "      <td>13.89</td>\n",
       "      <td>3.60</td>\n",
       "      <td>1.36</td>\n",
       "      <td>72.73</td>\n",
       "      <td>0.48</td>\n",
       "      <td>7.83</td>\n",
       "      <td>0.00</td>\n",
       "      <td>0.00</td>\n",
       "      <td>1</td>\n",
       "    </tr>\n",
       "    <tr>\n",
       "      <th>1</th>\n",
       "      <td>3</td>\n",
       "      <td>1.51618</td>\n",
       "      <td>13.53</td>\n",
       "      <td>3.55</td>\n",
       "      <td>1.54</td>\n",
       "      <td>72.99</td>\n",
       "      <td>0.39</td>\n",
       "      <td>7.78</td>\n",
       "      <td>0.00</td>\n",
       "      <td>0.00</td>\n",
       "      <td>1</td>\n",
       "    </tr>\n",
       "    <tr>\n",
       "      <th>2</th>\n",
       "      <td>4</td>\n",
       "      <td>1.51766</td>\n",
       "      <td>13.21</td>\n",
       "      <td>3.69</td>\n",
       "      <td>1.29</td>\n",
       "      <td>72.61</td>\n",
       "      <td>0.57</td>\n",
       "      <td>8.22</td>\n",
       "      <td>0.00</td>\n",
       "      <td>0.00</td>\n",
       "      <td>1</td>\n",
       "    </tr>\n",
       "    <tr>\n",
       "      <th>3</th>\n",
       "      <td>5</td>\n",
       "      <td>1.51742</td>\n",
       "      <td>13.27</td>\n",
       "      <td>3.62</td>\n",
       "      <td>1.24</td>\n",
       "      <td>73.08</td>\n",
       "      <td>0.55</td>\n",
       "      <td>8.07</td>\n",
       "      <td>0.00</td>\n",
       "      <td>0.00</td>\n",
       "      <td>1</td>\n",
       "    </tr>\n",
       "    <tr>\n",
       "      <th>4</th>\n",
       "      <td>6</td>\n",
       "      <td>1.51596</td>\n",
       "      <td>12.79</td>\n",
       "      <td>3.61</td>\n",
       "      <td>1.62</td>\n",
       "      <td>72.97</td>\n",
       "      <td>0.64</td>\n",
       "      <td>8.07</td>\n",
       "      <td>0.00</td>\n",
       "      <td>0.26</td>\n",
       "      <td>1</td>\n",
       "    </tr>\n",
       "    <tr>\n",
       "      <th>...</th>\n",
       "      <td>...</td>\n",
       "      <td>...</td>\n",
       "      <td>...</td>\n",
       "      <td>...</td>\n",
       "      <td>...</td>\n",
       "      <td>...</td>\n",
       "      <td>...</td>\n",
       "      <td>...</td>\n",
       "      <td>...</td>\n",
       "      <td>...</td>\n",
       "      <td>...</td>\n",
       "    </tr>\n",
       "    <tr>\n",
       "      <th>208</th>\n",
       "      <td>210</td>\n",
       "      <td>1.51623</td>\n",
       "      <td>14.14</td>\n",
       "      <td>0.00</td>\n",
       "      <td>2.88</td>\n",
       "      <td>72.61</td>\n",
       "      <td>0.08</td>\n",
       "      <td>9.18</td>\n",
       "      <td>1.06</td>\n",
       "      <td>0.00</td>\n",
       "      <td>7</td>\n",
       "    </tr>\n",
       "    <tr>\n",
       "      <th>209</th>\n",
       "      <td>211</td>\n",
       "      <td>1.51685</td>\n",
       "      <td>14.92</td>\n",
       "      <td>0.00</td>\n",
       "      <td>1.99</td>\n",
       "      <td>73.06</td>\n",
       "      <td>0.00</td>\n",
       "      <td>8.40</td>\n",
       "      <td>1.59</td>\n",
       "      <td>0.00</td>\n",
       "      <td>7</td>\n",
       "    </tr>\n",
       "    <tr>\n",
       "      <th>210</th>\n",
       "      <td>212</td>\n",
       "      <td>1.52065</td>\n",
       "      <td>14.36</td>\n",
       "      <td>0.00</td>\n",
       "      <td>2.02</td>\n",
       "      <td>73.42</td>\n",
       "      <td>0.00</td>\n",
       "      <td>8.44</td>\n",
       "      <td>1.64</td>\n",
       "      <td>0.00</td>\n",
       "      <td>7</td>\n",
       "    </tr>\n",
       "    <tr>\n",
       "      <th>211</th>\n",
       "      <td>213</td>\n",
       "      <td>1.51651</td>\n",
       "      <td>14.38</td>\n",
       "      <td>0.00</td>\n",
       "      <td>1.94</td>\n",
       "      <td>73.61</td>\n",
       "      <td>0.00</td>\n",
       "      <td>8.48</td>\n",
       "      <td>1.57</td>\n",
       "      <td>0.00</td>\n",
       "      <td>7</td>\n",
       "    </tr>\n",
       "    <tr>\n",
       "      <th>212</th>\n",
       "      <td>214</td>\n",
       "      <td>1.51711</td>\n",
       "      <td>14.23</td>\n",
       "      <td>0.00</td>\n",
       "      <td>2.08</td>\n",
       "      <td>73.36</td>\n",
       "      <td>0.00</td>\n",
       "      <td>8.62</td>\n",
       "      <td>1.67</td>\n",
       "      <td>0.00</td>\n",
       "      <td>7</td>\n",
       "    </tr>\n",
       "  </tbody>\n",
       "</table>\n",
       "<p>213 rows × 11 columns</p>\n",
       "</div>"
      ],
      "text/plain": [
       "       1  1.52101  13.64  4.49  1.10  71.78  0.06  8.75  0.00  0.00.1  1.1\n",
       "0      2  1.51761  13.89  3.60  1.36  72.73  0.48  7.83  0.00    0.00    1\n",
       "1      3  1.51618  13.53  3.55  1.54  72.99  0.39  7.78  0.00    0.00    1\n",
       "2      4  1.51766  13.21  3.69  1.29  72.61  0.57  8.22  0.00    0.00    1\n",
       "3      5  1.51742  13.27  3.62  1.24  73.08  0.55  8.07  0.00    0.00    1\n",
       "4      6  1.51596  12.79  3.61  1.62  72.97  0.64  8.07  0.00    0.26    1\n",
       "..   ...      ...    ...   ...   ...    ...   ...   ...   ...     ...  ...\n",
       "208  210  1.51623  14.14  0.00  2.88  72.61  0.08  9.18  1.06    0.00    7\n",
       "209  211  1.51685  14.92  0.00  1.99  73.06  0.00  8.40  1.59    0.00    7\n",
       "210  212  1.52065  14.36  0.00  2.02  73.42  0.00  8.44  1.64    0.00    7\n",
       "211  213  1.51651  14.38  0.00  1.94  73.61  0.00  8.48  1.57    0.00    7\n",
       "212  214  1.51711  14.23  0.00  2.08  73.36  0.00  8.62  1.67    0.00    7\n",
       "\n",
       "[213 rows x 11 columns]"
      ]
     },
     "execution_count": 32,
     "metadata": {},
     "output_type": "execute_result"
    }
   ],
   "source": [
    "df"
   ]
  },
  {
   "cell_type": "markdown",
   "id": "fa21fe12",
   "metadata": {},
   "source": [
    "# Describe the dataset"
   ]
  },
  {
   "cell_type": "code",
   "execution_count": 33,
   "id": "32b8123f",
   "metadata": {},
   "outputs": [
    {
     "data": {
      "text/html": [
       "<div>\n",
       "<style scoped>\n",
       "    .dataframe tbody tr th:only-of-type {\n",
       "        vertical-align: middle;\n",
       "    }\n",
       "\n",
       "    .dataframe tbody tr th {\n",
       "        vertical-align: top;\n",
       "    }\n",
       "\n",
       "    .dataframe thead th {\n",
       "        text-align: right;\n",
       "    }\n",
       "</style>\n",
       "<table border=\"1\" class=\"dataframe\">\n",
       "  <thead>\n",
       "    <tr style=\"text-align: right;\">\n",
       "      <th></th>\n",
       "      <th>1</th>\n",
       "      <th>1.52101</th>\n",
       "      <th>13.64</th>\n",
       "      <th>4.49</th>\n",
       "      <th>1.10</th>\n",
       "      <th>71.78</th>\n",
       "      <th>0.06</th>\n",
       "      <th>8.75</th>\n",
       "      <th>0.00</th>\n",
       "      <th>0.00.1</th>\n",
       "      <th>1.1</th>\n",
       "    </tr>\n",
       "  </thead>\n",
       "  <tbody>\n",
       "    <tr>\n",
       "      <th>count</th>\n",
       "      <td>213.000000</td>\n",
       "      <td>213.000000</td>\n",
       "      <td>213.000000</td>\n",
       "      <td>213.000000</td>\n",
       "      <td>213.000000</td>\n",
       "      <td>213.000000</td>\n",
       "      <td>213.000000</td>\n",
       "      <td>213.000000</td>\n",
       "      <td>213.000000</td>\n",
       "      <td>213.000000</td>\n",
       "      <td>213.000000</td>\n",
       "    </tr>\n",
       "    <tr>\n",
       "      <th>mean</th>\n",
       "      <td>108.000000</td>\n",
       "      <td>1.518353</td>\n",
       "      <td>13.406761</td>\n",
       "      <td>2.676056</td>\n",
       "      <td>1.446526</td>\n",
       "      <td>72.655023</td>\n",
       "      <td>0.499108</td>\n",
       "      <td>8.957934</td>\n",
       "      <td>0.175869</td>\n",
       "      <td>0.057277</td>\n",
       "      <td>2.788732</td>\n",
       "    </tr>\n",
       "    <tr>\n",
       "      <th>std</th>\n",
       "      <td>61.631972</td>\n",
       "      <td>0.003039</td>\n",
       "      <td>0.818371</td>\n",
       "      <td>1.440453</td>\n",
       "      <td>0.499882</td>\n",
       "      <td>0.774052</td>\n",
       "      <td>0.653035</td>\n",
       "      <td>1.426435</td>\n",
       "      <td>0.498245</td>\n",
       "      <td>0.097589</td>\n",
       "      <td>2.105130</td>\n",
       "    </tr>\n",
       "    <tr>\n",
       "      <th>min</th>\n",
       "      <td>2.000000</td>\n",
       "      <td>1.511150</td>\n",
       "      <td>10.730000</td>\n",
       "      <td>0.000000</td>\n",
       "      <td>0.290000</td>\n",
       "      <td>69.810000</td>\n",
       "      <td>0.000000</td>\n",
       "      <td>5.430000</td>\n",
       "      <td>0.000000</td>\n",
       "      <td>0.000000</td>\n",
       "      <td>1.000000</td>\n",
       "    </tr>\n",
       "    <tr>\n",
       "      <th>25%</th>\n",
       "      <td>55.000000</td>\n",
       "      <td>1.516520</td>\n",
       "      <td>12.900000</td>\n",
       "      <td>2.090000</td>\n",
       "      <td>1.190000</td>\n",
       "      <td>72.280000</td>\n",
       "      <td>0.130000</td>\n",
       "      <td>8.240000</td>\n",
       "      <td>0.000000</td>\n",
       "      <td>0.000000</td>\n",
       "      <td>1.000000</td>\n",
       "    </tr>\n",
       "    <tr>\n",
       "      <th>50%</th>\n",
       "      <td>108.000000</td>\n",
       "      <td>1.517680</td>\n",
       "      <td>13.300000</td>\n",
       "      <td>3.480000</td>\n",
       "      <td>1.360000</td>\n",
       "      <td>72.790000</td>\n",
       "      <td>0.560000</td>\n",
       "      <td>8.600000</td>\n",
       "      <td>0.000000</td>\n",
       "      <td>0.000000</td>\n",
       "      <td>2.000000</td>\n",
       "    </tr>\n",
       "    <tr>\n",
       "      <th>75%</th>\n",
       "      <td>161.000000</td>\n",
       "      <td>1.519150</td>\n",
       "      <td>13.830000</td>\n",
       "      <td>3.600000</td>\n",
       "      <td>1.630000</td>\n",
       "      <td>73.090000</td>\n",
       "      <td>0.610000</td>\n",
       "      <td>9.180000</td>\n",
       "      <td>0.000000</td>\n",
       "      <td>0.100000</td>\n",
       "      <td>3.000000</td>\n",
       "    </tr>\n",
       "    <tr>\n",
       "      <th>max</th>\n",
       "      <td>214.000000</td>\n",
       "      <td>1.533930</td>\n",
       "      <td>17.380000</td>\n",
       "      <td>3.980000</td>\n",
       "      <td>3.500000</td>\n",
       "      <td>75.410000</td>\n",
       "      <td>6.210000</td>\n",
       "      <td>16.190000</td>\n",
       "      <td>3.150000</td>\n",
       "      <td>0.510000</td>\n",
       "      <td>7.000000</td>\n",
       "    </tr>\n",
       "  </tbody>\n",
       "</table>\n",
       "</div>"
      ],
      "text/plain": [
       "                1     1.52101       13.64        4.49        1.10       71.78  \\\n",
       "count  213.000000  213.000000  213.000000  213.000000  213.000000  213.000000   \n",
       "mean   108.000000    1.518353   13.406761    2.676056    1.446526   72.655023   \n",
       "std     61.631972    0.003039    0.818371    1.440453    0.499882    0.774052   \n",
       "min      2.000000    1.511150   10.730000    0.000000    0.290000   69.810000   \n",
       "25%     55.000000    1.516520   12.900000    2.090000    1.190000   72.280000   \n",
       "50%    108.000000    1.517680   13.300000    3.480000    1.360000   72.790000   \n",
       "75%    161.000000    1.519150   13.830000    3.600000    1.630000   73.090000   \n",
       "max    214.000000    1.533930   17.380000    3.980000    3.500000   75.410000   \n",
       "\n",
       "             0.06        8.75        0.00      0.00.1         1.1  \n",
       "count  213.000000  213.000000  213.000000  213.000000  213.000000  \n",
       "mean     0.499108    8.957934    0.175869    0.057277    2.788732  \n",
       "std      0.653035    1.426435    0.498245    0.097589    2.105130  \n",
       "min      0.000000    5.430000    0.000000    0.000000    1.000000  \n",
       "25%      0.130000    8.240000    0.000000    0.000000    1.000000  \n",
       "50%      0.560000    8.600000    0.000000    0.000000    2.000000  \n",
       "75%      0.610000    9.180000    0.000000    0.100000    3.000000  \n",
       "max      6.210000   16.190000    3.150000    0.510000    7.000000  "
      ]
     },
     "execution_count": 33,
     "metadata": {},
     "output_type": "execute_result"
    }
   ],
   "source": [
    "#only continuous columns\n",
    "df.describe()"
   ]
  },
  {
   "cell_type": "code",
   "execution_count": null,
   "id": "46b0a43e",
   "metadata": {},
   "outputs": [],
   "source": []
  },
  {
   "cell_type": "markdown",
   "id": "8cd7d46a",
   "metadata": {},
   "source": [
    "# Correlation of the columns with the target columns:"
   ]
  },
  {
   "cell_type": "code",
   "execution_count": 34,
   "id": "d688a7ec",
   "metadata": {},
   "outputs": [
    {
     "data": {
      "text/plain": [
       "4.49      -0.647082\n",
       "0.00.1    -0.078151\n",
       "1.52101   -0.065721\n",
       "0.06      -0.002306\n",
       "71.78      0.052634\n",
       "8.75       0.090257\n",
       "13.64      0.380767\n",
       "0.00       0.451437\n",
       "1.10       0.488475\n",
       "1.1        0.878113\n",
       "1          1.000000\n",
       "Name: 1, dtype: float64"
      ]
     },
     "execution_count": 34,
     "metadata": {},
     "output_type": "execute_result"
    }
   ],
   "source": [
    "df.corr()['1'].sort_values()"
   ]
  },
  {
   "cell_type": "code",
   "execution_count": 35,
   "id": "8048c37d",
   "metadata": {},
   "outputs": [
    {
     "data": {
      "text/plain": [
       "<AxesSubplot:>"
      ]
     },
     "execution_count": 35,
     "metadata": {},
     "output_type": "execute_result"
    },
    {
     "data": {
      "image/png": "[encoded data removed]",
      "text/plain": [
       "<Figure size 1584x504 with 2 Axes>"
      ]
     },
     "metadata": {
      "needs_background": "light"
     },
     "output_type": "display_data"
    }
   ],
   "source": [
    "plt.figure(figsize=(22,7))\n",
    "sns.heatmap(df.corr(),annot=True,linewidths=0.1,linecolor='black',fmt=\"0.2f\")"
   ]
  },
  {
   "cell_type": "markdown",
   "id": "765dd806",
   "metadata": {},
   "source": [
    "# Checking the columns which are positive and negative corrlelated with the target columns:"
   ]
  },
  {
   "cell_type": "code",
   "execution_count": 36,
   "id": "be87d9d2",
   "metadata": {},
   "outputs": [
    {
     "data": {
      "image/png": "[encoded data removed]",
      "text/plain": [
       "<Figure size 1584x504 with 1 Axes>"
      ]
     },
     "metadata": {
      "needs_background": "light"
     },
     "output_type": "display_data"
    }
   ],
   "source": [
    "plt.figure(figsize=(22,7))\n",
    "df.corr()['1'].sort_values(ascending=False).drop(['1']).plot(kind='bar',color='c')\n",
    "plt.xlabel('feature',fontsize=14)\n",
    "plt.ylabel('column with target names',fontsize=14)\n",
    "plt.title('correlation',fontsize=18)\n",
    "plt.show()"
   ]
  },
  {
   "cell_type": "code",
   "execution_count": 37,
   "id": "ac6eec6e",
   "metadata": {},
   "outputs": [
    {
     "data": {
      "text/plain": [
       "1          0.000000\n",
       "1.52101    1.639658\n",
       "13.64      0.457318\n",
       "4.49      -1.154323\n",
       "1.10       0.900017\n",
       "71.78     -0.744546\n",
       "0.06       6.549276\n",
       "8.75       2.040591\n",
       "0.00       3.406749\n",
       "0.00.1     1.747173\n",
       "1.1        1.108861\n",
       "dtype: float64"
      ]
     },
     "execution_count": 37,
     "metadata": {},
     "output_type": "execute_result"
    }
   ],
   "source": [
    "df.skew()"
   ]
  },
  {
   "cell_type": "markdown",
   "id": "719b2820",
   "metadata": {},
   "source": [
    "Keeping +/-1 as the range for skewness,here are the columns which does not lie within this range -residual sugar - categorical -chlorides - categorical\n",
    "-free sulfur dioxide - categorical -total sulfur dioxide- categorical sulphates - categorical quality - target variable\n",
    "\n",
    "since,no column has skewness,we will not treat that"
   ]
  },
  {
   "cell_type": "markdown",
   "id": "8cdfba10",
   "metadata": {},
   "source": [
    "# outliers check:"
   ]
  },
  {
   "cell_type": "code",
   "execution_count": 38,
   "id": "7158a893",
   "metadata": {},
   "outputs": [
    {
     "data": {
      "text/plain": [
       "1            int64\n",
       "1.52101    float64\n",
       "13.64      float64\n",
       "4.49       float64\n",
       "1.10       float64\n",
       "71.78      float64\n",
       "0.06       float64\n",
       "8.75       float64\n",
       "0.00       float64\n",
       "0.00.1     float64\n",
       "1.1          int64\n",
       "dtype: object"
      ]
     },
     "execution_count": 38,
     "metadata": {},
     "output_type": "execute_result"
    }
   ],
   "source": [
    "df.dtypes"
   ]
  },
  {
   "cell_type": "markdown",
   "id": "d81ada4b",
   "metadata": {},
   "source": [
    "checking the outliers on the int and float type of columns"
   ]
  },
  {
   "cell_type": "code",
   "execution_count": 39,
   "id": "5858ed25",
   "metadata": {},
   "outputs": [
    {
     "data": {
      "text/plain": [
       "<AxesSubplot:>"
      ]
     },
     "execution_count": 39,
     "metadata": {},
     "output_type": "execute_result"
    },
    {
     "data": {
      "image/png": "[encoded data removed]",
      "text/plain": [
       "<Figure size 432x288 with 1 Axes>"
      ]
     },
     "metadata": {
      "needs_background": "light"
     },
     "output_type": "display_data"
    }
   ],
   "source": [
    "df['1'].plot.box()"
   ]
  },
  {
   "cell_type": "code",
   "execution_count": 40,
   "id": "4bb21c70",
   "metadata": {},
   "outputs": [
    {
     "data": {
      "text/plain": [
       "<AxesSubplot:>"
      ]
     },
     "execution_count": 40,
     "metadata": {},
     "output_type": "execute_result"
    },
    {
     "data": {
      "image/png": "[encoded data removed]",
      "text/plain": [
       "<Figure size 432x288 with 1 Axes>"
      ]
     },
     "metadata": {
      "needs_background": "light"
     },
     "output_type": "display_data"
    }
   ],
   "source": [
    "df['1.10'].plot.box()"
   ]
  },
  {
   "cell_type": "code",
   "execution_count": 41,
   "id": "22a02986",
   "metadata": {},
   "outputs": [
    {
     "data": {
      "text/plain": [
       "<AxesSubplot:>"
      ]
     },
     "execution_count": 41,
     "metadata": {},
     "output_type": "execute_result"
    },
    {
     "data": {
      "image/png": "[encoded data removed]",
      "text/plain": [
       "<Figure size 432x288 with 1 Axes>"
      ]
     },
     "metadata": {
      "needs_background": "light"
     },
     "output_type": "display_data"
    }
   ],
   "source": [
    "df['0.00'].plot.box()"
   ]
  },
  {
   "cell_type": "code",
   "execution_count": 42,
   "id": "d13fbd2d",
   "metadata": {},
   "outputs": [
    {
     "data": {
      "text/plain": [
       "<AxesSubplot:>"
      ]
     },
     "execution_count": 42,
     "metadata": {},
     "output_type": "execute_result"
    },
    {
     "data": {
      "image/png": "[encoded data removed]",
      "text/plain": [
       "<Figure size 432x288 with 1 Axes>"
      ]
     },
     "metadata": {
      "needs_background": "light"
     },
     "output_type": "display_data"
    }
   ],
   "source": [
    "df['13.64'].plot.box()"
   ]
  },
  {
   "cell_type": "code",
   "execution_count": 43,
   "id": "b263d04e",
   "metadata": {},
   "outputs": [
    {
     "data": {
      "text/plain": [
       "<AxesSubplot:>"
      ]
     },
     "execution_count": 43,
     "metadata": {},
     "output_type": "execute_result"
    },
    {
     "data": {
      "image/png": "[encoded data removed]",
      "text/plain": [
       "<Figure size 432x288 with 1 Axes>"
      ]
     },
     "metadata": {
      "needs_background": "light"
     },
     "output_type": "display_data"
    }
   ],
   "source": [
    "df['8.75'].plot.box()"
   ]
  },
  {
   "cell_type": "code",
   "execution_count": 44,
   "id": "e80e3e60",
   "metadata": {},
   "outputs": [
    {
     "data": {
      "text/plain": [
       "<AxesSubplot:>"
      ]
     },
     "execution_count": 44,
     "metadata": {},
     "output_type": "execute_result"
    },
    {
     "data": {
      "image/png": "[encoded data removed]",
      "text/plain": [
       "<Figure size 432x288 with 1 Axes>"
      ]
     },
     "metadata": {
      "needs_background": "light"
     },
     "output_type": "display_data"
    }
   ],
   "source": [
    "df['71.78'].plot.box()"
   ]
  },
  {
   "cell_type": "code",
   "execution_count": 45,
   "id": "78e769f7",
   "metadata": {},
   "outputs": [
    {
     "data": {
      "text/plain": [
       "<AxesSubplot:>"
      ]
     },
     "execution_count": 45,
     "metadata": {},
     "output_type": "execute_result"
    },
    {
     "data": {
      "image/png": "[encoded data removed]",
      "text/plain": [
       "<Figure size 432x288 with 1 Axes>"
      ]
     },
     "metadata": {
      "needs_background": "light"
     },
     "output_type": "display_data"
    }
   ],
   "source": [
    "df['0.06'].plot.box()"
   ]
  },
  {
   "cell_type": "code",
   "execution_count": 46,
   "id": "c93fee55",
   "metadata": {},
   "outputs": [
    {
     "data": {
      "text/plain": [
       "<AxesSubplot:>"
      ]
     },
     "execution_count": 46,
     "metadata": {},
     "output_type": "execute_result"
    },
    {
     "data": {
      "image/png": "[encoded data removed]",
      "text/plain": [
       "<Figure size 432x288 with 1 Axes>"
      ]
     },
     "metadata": {
      "needs_background": "light"
     },
     "output_type": "display_data"
    }
   ],
   "source": [
    "df['1.52101'].plot.box()"
   ]
  },
  {
   "cell_type": "code",
   "execution_count": 47,
   "id": "d9b3ff3a",
   "metadata": {},
   "outputs": [
    {
     "data": {
      "text/plain": [
       "<AxesSubplot:>"
      ]
     },
     "execution_count": 47,
     "metadata": {},
     "output_type": "execute_result"
    },
    {
     "data": {
      "image/png": "[encoded data removed]",
      "text/plain": [
       "<Figure size 432x288 with 1 Axes>"
      ]
     },
     "metadata": {
      "needs_background": "light"
     },
     "output_type": "display_data"
    }
   ],
   "source": [
    "df['0.00.1'].plot.box()"
   ]
  },
  {
   "cell_type": "code",
   "execution_count": 48,
   "id": "6def1939",
   "metadata": {},
   "outputs": [
    {
     "data": {
      "text/plain": [
       "<AxesSubplot:>"
      ]
     },
     "execution_count": 48,
     "metadata": {},
     "output_type": "execute_result"
    },
    {
     "data": {
      "image/png": "[encoded data removed]",
      "text/plain": [
       "<Figure size 432x288 with 1 Axes>"
      ]
     },
     "metadata": {
      "needs_background": "light"
     },
     "output_type": "display_data"
    }
   ],
   "source": [
    "df['4.49'].plot.box()"
   ]
  },
  {
   "cell_type": "markdown",
   "id": "257940f4",
   "metadata": {},
   "source": [
    "# Considering the outlier removel"
   ]
  },
  {
   "cell_type": "code",
   "execution_count": 49,
   "id": "beceb1d9",
   "metadata": {},
   "outputs": [
    {
     "data": {
      "text/plain": [
       "(213, 11)"
      ]
     },
     "execution_count": 49,
     "metadata": {},
     "output_type": "execute_result"
    }
   ],
   "source": [
    "df.shape"
   ]
  },
  {
   "cell_type": "code",
   "execution_count": 50,
   "id": "6285a9bb",
   "metadata": {},
   "outputs": [
    {
     "data": {
      "text/plain": [
       "(array([104, 105, 105, 105, 105, 105, 106, 106, 106, 109, 110, 111, 111,\n",
       "        130, 144, 161, 162, 162, 162, 170, 170, 171, 171, 173, 183, 183,\n",
       "        187, 188, 200, 200, 202, 206, 212], dtype=int64),\n",
       " array([7, 1, 2, 5, 7, 8, 1, 5, 7, 7, 7, 1, 7, 7, 9, 9, 4, 5, 8, 4, 6, 4,\n",
       "        6, 9, 2, 5, 5, 8, 5, 6, 8, 8, 8], dtype=int64))"
      ]
     },
     "execution_count": 50,
     "metadata": {},
     "output_type": "execute_result"
    }
   ],
   "source": [
    "from scipy.stats import zscore\n",
    "import numpy as np\n",
    "z=np.abs(zscore(df))\n",
    "threshold=3\n",
    "np.where(z>3)"
   ]
  },
  {
   "cell_type": "code",
   "execution_count": 51,
   "id": "283e0668",
   "metadata": {},
   "outputs": [
    {
     "data": {
      "text/html": [
       "<div>\n",
       "<style scoped>\n",
       "    .dataframe tbody tr th:only-of-type {\n",
       "        vertical-align: middle;\n",
       "    }\n",
       "\n",
       "    .dataframe tbody tr th {\n",
       "        vertical-align: top;\n",
       "    }\n",
       "\n",
       "    .dataframe thead th {\n",
       "        text-align: right;\n",
       "    }\n",
       "</style>\n",
       "<table border=\"1\" class=\"dataframe\">\n",
       "  <thead>\n",
       "    <tr style=\"text-align: right;\">\n",
       "      <th></th>\n",
       "      <th>1</th>\n",
       "      <th>1.52101</th>\n",
       "      <th>13.64</th>\n",
       "      <th>4.49</th>\n",
       "      <th>1.10</th>\n",
       "      <th>71.78</th>\n",
       "      <th>0.06</th>\n",
       "      <th>8.75</th>\n",
       "      <th>0.00</th>\n",
       "      <th>0.00.1</th>\n",
       "      <th>1.1</th>\n",
       "    </tr>\n",
       "  </thead>\n",
       "  <tbody>\n",
       "    <tr>\n",
       "      <th>0</th>\n",
       "      <td>2</td>\n",
       "      <td>1.51761</td>\n",
       "      <td>13.89</td>\n",
       "      <td>3.60</td>\n",
       "      <td>1.36</td>\n",
       "      <td>72.73</td>\n",
       "      <td>0.48</td>\n",
       "      <td>7.83</td>\n",
       "      <td>0.00</td>\n",
       "      <td>0.00</td>\n",
       "      <td>1</td>\n",
       "    </tr>\n",
       "    <tr>\n",
       "      <th>1</th>\n",
       "      <td>3</td>\n",
       "      <td>1.51618</td>\n",
       "      <td>13.53</td>\n",
       "      <td>3.55</td>\n",
       "      <td>1.54</td>\n",
       "      <td>72.99</td>\n",
       "      <td>0.39</td>\n",
       "      <td>7.78</td>\n",
       "      <td>0.00</td>\n",
       "      <td>0.00</td>\n",
       "      <td>1</td>\n",
       "    </tr>\n",
       "    <tr>\n",
       "      <th>2</th>\n",
       "      <td>4</td>\n",
       "      <td>1.51766</td>\n",
       "      <td>13.21</td>\n",
       "      <td>3.69</td>\n",
       "      <td>1.29</td>\n",
       "      <td>72.61</td>\n",
       "      <td>0.57</td>\n",
       "      <td>8.22</td>\n",
       "      <td>0.00</td>\n",
       "      <td>0.00</td>\n",
       "      <td>1</td>\n",
       "    </tr>\n",
       "    <tr>\n",
       "      <th>3</th>\n",
       "      <td>5</td>\n",
       "      <td>1.51742</td>\n",
       "      <td>13.27</td>\n",
       "      <td>3.62</td>\n",
       "      <td>1.24</td>\n",
       "      <td>73.08</td>\n",
       "      <td>0.55</td>\n",
       "      <td>8.07</td>\n",
       "      <td>0.00</td>\n",
       "      <td>0.00</td>\n",
       "      <td>1</td>\n",
       "    </tr>\n",
       "    <tr>\n",
       "      <th>4</th>\n",
       "      <td>6</td>\n",
       "      <td>1.51596</td>\n",
       "      <td>12.79</td>\n",
       "      <td>3.61</td>\n",
       "      <td>1.62</td>\n",
       "      <td>72.97</td>\n",
       "      <td>0.64</td>\n",
       "      <td>8.07</td>\n",
       "      <td>0.00</td>\n",
       "      <td>0.26</td>\n",
       "      <td>1</td>\n",
       "    </tr>\n",
       "    <tr>\n",
       "      <th>...</th>\n",
       "      <td>...</td>\n",
       "      <td>...</td>\n",
       "      <td>...</td>\n",
       "      <td>...</td>\n",
       "      <td>...</td>\n",
       "      <td>...</td>\n",
       "      <td>...</td>\n",
       "      <td>...</td>\n",
       "      <td>...</td>\n",
       "      <td>...</td>\n",
       "      <td>...</td>\n",
       "    </tr>\n",
       "    <tr>\n",
       "      <th>207</th>\n",
       "      <td>209</td>\n",
       "      <td>1.51640</td>\n",
       "      <td>14.37</td>\n",
       "      <td>0.00</td>\n",
       "      <td>2.74</td>\n",
       "      <td>72.85</td>\n",
       "      <td>0.00</td>\n",
       "      <td>9.45</td>\n",
       "      <td>0.54</td>\n",
       "      <td>0.00</td>\n",
       "      <td>7</td>\n",
       "    </tr>\n",
       "    <tr>\n",
       "      <th>208</th>\n",
       "      <td>210</td>\n",
       "      <td>1.51623</td>\n",
       "      <td>14.14</td>\n",
       "      <td>0.00</td>\n",
       "      <td>2.88</td>\n",
       "      <td>72.61</td>\n",
       "      <td>0.08</td>\n",
       "      <td>9.18</td>\n",
       "      <td>1.06</td>\n",
       "      <td>0.00</td>\n",
       "      <td>7</td>\n",
       "    </tr>\n",
       "    <tr>\n",
       "      <th>209</th>\n",
       "      <td>211</td>\n",
       "      <td>1.51685</td>\n",
       "      <td>14.92</td>\n",
       "      <td>0.00</td>\n",
       "      <td>1.99</td>\n",
       "      <td>73.06</td>\n",
       "      <td>0.00</td>\n",
       "      <td>8.40</td>\n",
       "      <td>1.59</td>\n",
       "      <td>0.00</td>\n",
       "      <td>7</td>\n",
       "    </tr>\n",
       "    <tr>\n",
       "      <th>210</th>\n",
       "      <td>212</td>\n",
       "      <td>1.52065</td>\n",
       "      <td>14.36</td>\n",
       "      <td>0.00</td>\n",
       "      <td>2.02</td>\n",
       "      <td>73.42</td>\n",
       "      <td>0.00</td>\n",
       "      <td>8.44</td>\n",
       "      <td>1.64</td>\n",
       "      <td>0.00</td>\n",
       "      <td>7</td>\n",
       "    </tr>\n",
       "    <tr>\n",
       "      <th>211</th>\n",
       "      <td>213</td>\n",
       "      <td>1.51651</td>\n",
       "      <td>14.38</td>\n",
       "      <td>0.00</td>\n",
       "      <td>1.94</td>\n",
       "      <td>73.61</td>\n",
       "      <td>0.00</td>\n",
       "      <td>8.48</td>\n",
       "      <td>1.57</td>\n",
       "      <td>0.00</td>\n",
       "      <td>7</td>\n",
       "    </tr>\n",
       "  </tbody>\n",
       "</table>\n",
       "<p>193 rows × 11 columns</p>\n",
       "</div>"
      ],
      "text/plain": [
       "       1  1.52101  13.64  4.49  1.10  71.78  0.06  8.75  0.00  0.00.1  1.1\n",
       "0      2  1.51761  13.89  3.60  1.36  72.73  0.48  7.83  0.00    0.00    1\n",
       "1      3  1.51618  13.53  3.55  1.54  72.99  0.39  7.78  0.00    0.00    1\n",
       "2      4  1.51766  13.21  3.69  1.29  72.61  0.57  8.22  0.00    0.00    1\n",
       "3      5  1.51742  13.27  3.62  1.24  73.08  0.55  8.07  0.00    0.00    1\n",
       "4      6  1.51596  12.79  3.61  1.62  72.97  0.64  8.07  0.00    0.26    1\n",
       "..   ...      ...    ...   ...   ...    ...   ...   ...   ...     ...  ...\n",
       "207  209  1.51640  14.37  0.00  2.74  72.85  0.00  9.45  0.54    0.00    7\n",
       "208  210  1.51623  14.14  0.00  2.88  72.61  0.08  9.18  1.06    0.00    7\n",
       "209  211  1.51685  14.92  0.00  1.99  73.06  0.00  8.40  1.59    0.00    7\n",
       "210  212  1.52065  14.36  0.00  2.02  73.42  0.00  8.44  1.64    0.00    7\n",
       "211  213  1.51651  14.38  0.00  1.94  73.61  0.00  8.48  1.57    0.00    7\n",
       "\n",
       "[193 rows x 11 columns]"
      ]
     },
     "execution_count": 51,
     "metadata": {},
     "output_type": "execute_result"
    }
   ],
   "source": [
    "df_new_z=df[(z<3).all(axis=1)]\n",
    "df_new_z"
   ]
  },
  {
   "cell_type": "code",
   "execution_count": 52,
   "id": "0b8061ff",
   "metadata": {},
   "outputs": [
    {
     "data": {
      "text/plain": [
       "(193, 11)"
      ]
     },
     "execution_count": 52,
     "metadata": {},
     "output_type": "execute_result"
    }
   ],
   "source": [
    "df_new_z.shape"
   ]
  },
  {
   "cell_type": "markdown",
   "id": "cf858dd2",
   "metadata": {},
   "source": [
    "# percentage loss of data"
   ]
  },
  {
   "cell_type": "code",
   "execution_count": 53,
   "id": "b3d597e2",
   "metadata": {},
   "outputs": [],
   "source": [
    "data_loss=((213-193)/213)*100"
   ]
  },
  {
   "cell_type": "code",
   "execution_count": 54,
   "id": "cc5a51a3",
   "metadata": {},
   "outputs": [
    {
     "data": {
      "text/plain": [
       "9.389671361502346"
      ]
     },
     "execution_count": 54,
     "metadata": {},
     "output_type": "execute_result"
    }
   ],
   "source": [
    "data_loss"
   ]
  },
  {
   "cell_type": "markdown",
   "id": "b6e30bab",
   "metadata": {},
   "source": [
    "# Separating the columns into features and target"
   ]
  },
  {
   "cell_type": "code",
   "execution_count": 55,
   "id": "b5990cfb",
   "metadata": {},
   "outputs": [],
   "source": [
    "features=df.drop('1.1',axis=1)\n",
    "target=df['1.1']"
   ]
  },
  {
   "cell_type": "markdown",
   "id": "a5f19bba",
   "metadata": {},
   "source": [
    "# Scaling the data using Min=Max scaler:"
   ]
  },
  {
   "cell_type": "code",
   "execution_count": 56,
   "id": "9f9d9135",
   "metadata": {},
   "outputs": [],
   "source": [
    "from sklearn.preprocessing import MinMaxScaler\n",
    "nms=MinMaxScaler()\n",
    "from sklearn.linear_model import LinearRegression\n",
    "lr=LinearRegression()\n",
    "from sklearn.metrics import r2_score\n",
    "from sklearn.model_selection import train_test_split"
   ]
  },
  {
   "cell_type": "code",
   "execution_count": 57,
   "id": "93f39c6c",
   "metadata": {},
   "outputs": [],
   "source": [
    "import warnings\n",
    "warnings.filterwarnings('ignore')"
   ]
  },
  {
   "cell_type": "code",
   "execution_count": 58,
   "id": "f6e4e56d",
   "metadata": {},
   "outputs": [
    {
     "name": "stdout",
     "output_type": "stream",
     "text": [
      "At random state 0,the training accuracy is:- 0.8998003297298465\n",
      "At random state 0,the testing accuracy is:- 0.8991509248043446\n",
      "\n",
      "\n",
      "At random state 1,the training accuracy is:- 0.9038010201879023\n",
      "At random state 1,the testing accuracy is:- 0.8713715592636222\n",
      "\n",
      "\n",
      "At random state 2,the training accuracy is:- 0.9118943787941398\n",
      "At random state 2,the testing accuracy is:- 0.7961503965480293\n",
      "\n",
      "\n",
      "At random state 3,the training accuracy is:- 0.9035459323602095\n",
      "At random state 3,the testing accuracy is:- 0.8830242299717136\n",
      "\n",
      "\n",
      "At random state 4,the training accuracy is:- 0.9044952148150385\n",
      "At random state 4,the testing accuracy is:- 0.884423990670438\n",
      "\n",
      "\n",
      "At random state 5,the training accuracy is:- 0.9052146976656913\n",
      "At random state 5,the testing accuracy is:- 0.878749674947349\n",
      "\n",
      "\n",
      "At random state 6,the training accuracy is:- 0.9067909189931517\n",
      "At random state 6,the testing accuracy is:- 0.8508823432363289\n",
      "\n",
      "\n",
      "At random state 7,the training accuracy is:- 0.8992398913310473\n",
      "At random state 7,the testing accuracy is:- 0.906332582710494\n",
      "\n",
      "\n",
      "At random state 8,the training accuracy is:- 0.8976258106090904\n",
      "At random state 8,the testing accuracy is:- 0.9175012155654174\n",
      "\n",
      "\n",
      "At random state 9,the training accuracy is:- 0.8993667786526183\n",
      "At random state 9,the testing accuracy is:- 0.9071988946445986\n",
      "\n",
      "\n",
      "At random state 10,the training accuracy is:- 0.8962494227572368\n",
      "At random state 10,the testing accuracy is:- 0.9146780013468381\n",
      "\n",
      "\n",
      "At random state 11,the training accuracy is:- 0.9039961585195367\n",
      "At random state 11,the testing accuracy is:- 0.8885186538679359\n",
      "\n",
      "\n",
      "At random state 12,the training accuracy is:- 0.8931698852791684\n",
      "At random state 12,the testing accuracy is:- 0.9141963301057731\n",
      "\n",
      "\n",
      "At random state 13,the training accuracy is:- 0.8949191295002953\n",
      "At random state 13,the testing accuracy is:- 0.9009250101226426\n",
      "\n",
      "\n",
      "At random state 14,the training accuracy is:- 0.900803937703649\n",
      "At random state 14,the testing accuracy is:- 0.9007936217147401\n",
      "\n",
      "\n",
      "At random state 15,the training accuracy is:- 0.9053311001273807\n",
      "At random state 15,the testing accuracy is:- 0.8740023527326621\n",
      "\n",
      "\n",
      "At random state 16,the training accuracy is:- 0.906934797790046\n",
      "At random state 16,the testing accuracy is:- 0.8809372231753565\n",
      "\n",
      "\n",
      "At random state 17,the training accuracy is:- 0.9028127132002846\n",
      "At random state 17,the testing accuracy is:- 0.8894937155937014\n",
      "\n",
      "\n",
      "At random state 18,the training accuracy is:- 0.9102112801121296\n",
      "At random state 18,the testing accuracy is:- 0.8239924332924141\n",
      "\n",
      "\n",
      "At random state 19,the training accuracy is:- 0.8895022600332377\n",
      "At random state 19,the testing accuracy is:- 0.9261340751645816\n",
      "\n",
      "\n",
      "At random state 20,the training accuracy is:- 0.9026383556937905\n",
      "At random state 20,the testing accuracy is:- 0.8824367454107508\n",
      "\n",
      "\n",
      "At random state 21,the training accuracy is:- 0.9126392169934666\n",
      "At random state 21,the testing accuracy is:- 0.8239421077126865\n",
      "\n",
      "\n",
      "At random state 22,the training accuracy is:- 0.9013577145857832\n",
      "At random state 22,the testing accuracy is:- 0.8853249630761678\n",
      "\n",
      "\n",
      "At random state 23,the training accuracy is:- 0.9006494518871162\n",
      "At random state 23,the testing accuracy is:- 0.8872182407724202\n",
      "\n",
      "\n",
      "At random state 24,the training accuracy is:- 0.9134996653367475\n",
      "At random state 24,the testing accuracy is:- 0.8386315969879191\n",
      "\n",
      "\n",
      "At random state 25,the training accuracy is:- 0.8935694172875511\n",
      "At random state 25,the testing accuracy is:- 0.9243204238334499\n",
      "\n",
      "\n",
      "At random state 26,the training accuracy is:- 0.9044200655833097\n",
      "At random state 26,the testing accuracy is:- 0.8806673911530369\n",
      "\n",
      "\n",
      "At random state 27,the training accuracy is:- 0.8967378541728467\n",
      "At random state 27,the testing accuracy is:- 0.9143021399902775\n",
      "\n",
      "\n",
      "At random state 28,the training accuracy is:- 0.9062069420563638\n",
      "At random state 28,the testing accuracy is:- 0.8693728755415832\n",
      "\n",
      "\n",
      "At random state 29,the training accuracy is:- 0.8952225332646433\n",
      "At random state 29,the testing accuracy is:- 0.9122711940868531\n",
      "\n",
      "\n",
      "At random state 30,the training accuracy is:- 0.9047910224127428\n",
      "At random state 30,the testing accuracy is:- 0.8813406162097503\n",
      "\n",
      "\n",
      "At random state 31,the training accuracy is:- 0.901907442813467\n",
      "At random state 31,the testing accuracy is:- 0.884477904859877\n",
      "\n",
      "\n",
      "At random state 32,the training accuracy is:- 0.8943823492511797\n",
      "At random state 32,the testing accuracy is:- 0.9197973654198496\n",
      "\n",
      "\n",
      "At random state 33,the training accuracy is:- 0.9071581091246017\n",
      "At random state 33,the testing accuracy is:- 0.853806401564605\n",
      "\n",
      "\n",
      "At random state 34,the training accuracy is:- 0.9097277165284499\n",
      "At random state 34,the testing accuracy is:- 0.8465617016997\n",
      "\n",
      "\n",
      "At random state 35,the training accuracy is:- 0.9143061854389298\n",
      "At random state 35,the testing accuracy is:- 0.8310228139180849\n",
      "\n",
      "\n",
      "At random state 36,the training accuracy is:- 0.8941055227593675\n",
      "At random state 36,the testing accuracy is:- 0.9062193598753658\n",
      "\n",
      "\n",
      "At random state 37,the training accuracy is:- 0.8968291074845458\n",
      "At random state 37,the testing accuracy is:- 0.9101670892077958\n",
      "\n",
      "\n",
      "At random state 38,the training accuracy is:- 0.915411084940665\n",
      "At random state 38,the testing accuracy is:- 0.8190049723493003\n",
      "\n",
      "\n",
      "At random state 39,the training accuracy is:- 0.901966094652007\n",
      "At random state 39,the testing accuracy is:- 0.8900452603449088\n",
      "\n",
      "\n",
      "At random state 40,the training accuracy is:- 0.9126056494921004\n",
      "At random state 40,the testing accuracy is:- 0.8393660491014934\n",
      "\n",
      "\n",
      "At random state 41,the training accuracy is:- 0.8953639757793641\n",
      "At random state 41,the testing accuracy is:- 0.9218096294287805\n",
      "\n",
      "\n",
      "At random state 42,the training accuracy is:- 0.8956819500631735\n",
      "At random state 42,the testing accuracy is:- 0.8643532424381286\n",
      "\n",
      "\n",
      "At random state 43,the training accuracy is:- 0.9041720884696661\n",
      "At random state 43,the testing accuracy is:- 0.8754589871545688\n",
      "\n",
      "\n",
      "At random state 44,the training accuracy is:- 0.8901519914731033\n",
      "At random state 44,the testing accuracy is:- 0.9389802333301144\n",
      "\n",
      "\n",
      "At random state 45,the training accuracy is:- 0.9062992123213022\n",
      "At random state 45,the testing accuracy is:- 0.8735472180830428\n",
      "\n",
      "\n",
      "At random state 46,the training accuracy is:- 0.9109335438120338\n",
      "At random state 46,the testing accuracy is:- 0.8276154474495121\n",
      "\n",
      "\n",
      "At random state 47,the training accuracy is:- 0.9039854900294502\n",
      "At random state 47,the testing accuracy is:- 0.8648437960777825\n",
      "\n",
      "\n",
      "At random state 48,the training accuracy is:- 0.8987807962543166\n",
      "At random state 48,the testing accuracy is:- 0.9070250463231544\n",
      "\n",
      "\n",
      "At random state 49,the training accuracy is:- 0.9122183573287215\n",
      "At random state 49,the testing accuracy is:- 0.8143656363545793\n",
      "\n",
      "\n",
      "At random state 50,the training accuracy is:- 0.8998258769231132\n",
      "At random state 50,the testing accuracy is:- 0.9042417602735262\n",
      "\n",
      "\n",
      "At random state 51,the training accuracy is:- 0.9074924069391243\n",
      "At random state 51,the testing accuracy is:- 0.8066027270279552\n",
      "\n",
      "\n",
      "At random state 52,the training accuracy is:- 0.8975438265079378\n",
      "At random state 52,the testing accuracy is:- 0.9093834779516579\n",
      "\n",
      "\n",
      "At random state 53,the training accuracy is:- 0.9054402328346965\n",
      "At random state 53,the testing accuracy is:- 0.8648970988874816\n",
      "\n",
      "\n",
      "At random state 54,the training accuracy is:- 0.8988881110536253\n",
      "At random state 54,the testing accuracy is:- 0.9055206757032354\n",
      "\n",
      "\n",
      "At random state 55,the training accuracy is:- 0.8951817039806195\n",
      "At random state 55,the testing accuracy is:- 0.9165060206135802\n",
      "\n",
      "\n",
      "At random state 56,the training accuracy is:- 0.9065379473896016\n",
      "At random state 56,the testing accuracy is:- 0.8401616513181039\n",
      "\n",
      "\n",
      "At random state 57,the training accuracy is:- 0.8835037393995742\n",
      "At random state 57,the testing accuracy is:- 0.9426310268612346\n",
      "\n",
      "\n",
      "At random state 58,the training accuracy is:- 0.9061417670980698\n",
      "At random state 58,the testing accuracy is:- 0.8726422989448223\n",
      "\n",
      "\n",
      "At random state 59,the training accuracy is:- 0.8988275673249405\n",
      "At random state 59,the testing accuracy is:- 0.9018826579099797\n",
      "\n",
      "\n",
      "At random state 60,the training accuracy is:- 0.9055321212808465\n",
      "At random state 60,the testing accuracy is:- 0.8608663373058134\n",
      "\n",
      "\n",
      "At random state 61,the training accuracy is:- 0.8994772312516531\n",
      "At random state 61,the testing accuracy is:- 0.9050701133206875\n",
      "\n",
      "\n",
      "At random state 62,the training accuracy is:- 0.8985489019921309\n",
      "At random state 62,the testing accuracy is:- 0.9004543154413553\n",
      "\n",
      "\n",
      "At random state 63,the training accuracy is:- 0.8866840620927701\n",
      "At random state 63,the testing accuracy is:- 0.9410441068032515\n",
      "\n",
      "\n",
      "At random state 64,the training accuracy is:- 0.9102152117624883\n",
      "At random state 64,the testing accuracy is:- 0.832078831594187\n",
      "\n",
      "\n",
      "At random state 65,the training accuracy is:- 0.9066758356720298\n",
      "At random state 65,the testing accuracy is:- 0.8609799144667237\n",
      "\n",
      "\n",
      "At random state 66,the training accuracy is:- 0.9118249872635996\n",
      "At random state 66,the testing accuracy is:- 0.8227851741766646\n",
      "\n",
      "\n",
      "At random state 67,the training accuracy is:- 0.8964086393820312\n",
      "At random state 67,the testing accuracy is:- 0.9058389611360854\n",
      "\n",
      "\n",
      "At random state 68,the training accuracy is:- 0.8882455735200214\n",
      "At random state 68,the testing accuracy is:- 0.9301818509985701\n",
      "\n",
      "\n",
      "At random state 69,the training accuracy is:- 0.897125640185123\n",
      "At random state 69,the testing accuracy is:- 0.9142123088406313\n",
      "\n",
      "\n",
      "At random state 70,the training accuracy is:- 0.899108215244156\n",
      "At random state 70,the testing accuracy is:- 0.881828891149828\n",
      "\n",
      "\n",
      "At random state 71,the training accuracy is:- 0.8941235329625942\n",
      "At random state 71,the testing accuracy is:- 0.9072215887375455\n",
      "\n",
      "\n",
      "At random state 72,the training accuracy is:- 0.8841619630835246\n",
      "At random state 72,the testing accuracy is:- 0.9464935257351332\n",
      "\n",
      "\n",
      "At random state 73,the training accuracy is:- 0.9028141668099937\n",
      "At random state 73,the testing accuracy is:- 0.886533898937747\n",
      "\n",
      "\n",
      "At random state 74,the training accuracy is:- 0.9054972000726633\n",
      "At random state 74,the testing accuracy is:- 0.8561757952865447\n",
      "\n",
      "\n",
      "At random state 75,the training accuracy is:- 0.8925339286656309\n",
      "At random state 75,the testing accuracy is:- 0.9351396252605383\n",
      "\n",
      "\n",
      "At random state 76,the training accuracy is:- 0.892036109528334\n",
      "At random state 76,the testing accuracy is:- 0.9256544152530601\n",
      "\n",
      "\n",
      "At random state 77,the training accuracy is:- 0.9068629234095797\n",
      "At random state 77,the testing accuracy is:- 0.8779826488425907\n",
      "\n",
      "\n",
      "At random state 78,the training accuracy is:- 0.9052099626353884\n",
      "At random state 78,the testing accuracy is:- 0.8418455537431923\n",
      "\n",
      "\n",
      "At random state 79,the training accuracy is:- 0.9062174732749511\n",
      "At random state 79,the testing accuracy is:- 0.8776892644767819\n",
      "\n",
      "\n",
      "At random state 80,the training accuracy is:- 0.9036343661845805\n",
      "At random state 80,the testing accuracy is:- 0.8065185535721436\n",
      "\n",
      "\n",
      "At random state 81,the training accuracy is:- 0.9032331656123307\n",
      "At random state 81,the testing accuracy is:- 0.8826322627092753\n",
      "\n",
      "\n",
      "At random state 82,the training accuracy is:- 0.9073067389679937\n",
      "At random state 82,the testing accuracy is:- 0.8619536460139892\n",
      "\n",
      "\n",
      "At random state 83,the training accuracy is:- 0.900892705634462\n",
      "At random state 83,the testing accuracy is:- 0.8899245041026813\n",
      "\n",
      "\n",
      "At random state 84,the training accuracy is:- 0.9058179234492669\n",
      "At random state 84,the testing accuracy is:- 0.8771791938843312\n",
      "\n",
      "\n",
      "At random state 85,the training accuracy is:- 0.8955683434220303\n",
      "At random state 85,the testing accuracy is:- 0.9130971404159209\n",
      "\n",
      "\n",
      "At random state 86,the training accuracy is:- 0.8953250224047891\n",
      "At random state 86,the testing accuracy is:- 0.9219301221859405\n",
      "\n",
      "\n",
      "At random state 87,the training accuracy is:- 0.91424488311837\n",
      "At random state 87,the testing accuracy is:- 0.8106056391138587\n",
      "\n",
      "\n",
      "At random state 88,the training accuracy is:- 0.8995541614182678\n",
      "At random state 88,the testing accuracy is:- 0.8991468200569463\n",
      "\n",
      "\n",
      "At random state 89,the training accuracy is:- 0.8998230825364292\n",
      "At random state 89,the testing accuracy is:- 0.8755414459797878\n",
      "\n",
      "\n",
      "At random state 90,the training accuracy is:- 0.9008294233716756\n",
      "At random state 90,the testing accuracy is:- 0.8924883387729483\n",
      "\n",
      "\n",
      "At random state 91,the training accuracy is:- 0.9070261368163383\n",
      "At random state 91,the testing accuracy is:- 0.8677335353246266\n",
      "\n",
      "\n",
      "At random state 92,the training accuracy is:- 0.8931095753731214\n",
      "At random state 92,the testing accuracy is:- 0.9228771142788625\n",
      "\n",
      "\n",
      "At random state 93,the training accuracy is:- 0.9078244897598352\n",
      "At random state 93,the testing accuracy is:- 0.8569722162991752\n",
      "\n",
      "\n",
      "At random state 94,the training accuracy is:- 0.8963074765395913\n",
      "At random state 94,the testing accuracy is:- 0.9232570123119727\n",
      "\n",
      "\n",
      "At random state 95,the training accuracy is:- 0.9053933522996195\n",
      "At random state 95,the testing accuracy is:- 0.8754749910009231\n",
      "\n",
      "\n",
      "At random state 96,the training accuracy is:- 0.9096900986088643\n",
      "At random state 96,the testing accuracy is:- 0.8703945726322835\n",
      "\n",
      "\n",
      "At random state 97,the training accuracy is:- 0.907860411190831\n",
      "At random state 97,the testing accuracy is:- 0.7747841519073491\n",
      "\n",
      "\n",
      "At random state 98,the training accuracy is:- 0.9106559693187185\n",
      "At random state 98,the testing accuracy is:- 0.8411679917053205\n",
      "\n",
      "\n",
      "At random state 99,the training accuracy is:- 0.9014489048424306\n",
      "At random state 99,the testing accuracy is:- 0.8929294767916384\n",
      "\n",
      "\n"
     ]
    }
   ],
   "source": [
    "for i in range (0,100):\n",
    "    features_train,features_test,target_train,target_test=train_test_split(features,target,test_size=0.2,random_state=i)\n",
    "    lr.fit(features_train,target_train)\n",
    "    pred_train=lr.predict(features_train)\n",
    "    pred_test=lr.predict(features_test)\n",
    "    print(f\"At random state {i},the training accuracy is:- {r2_score(target_train,pred_train)}\")\n",
    "    print(f\"At random state {i},the testing accuracy is:- {r2_score(target_test,pred_test)}\")\n",
    "    print(\"\\n\")"
   ]
  },
  {
   "cell_type": "code",
   "execution_count": 59,
   "id": "9e51547f",
   "metadata": {},
   "outputs": [],
   "source": [
    "features_train,features_train,target_train,target_test=train_test_split(features,target,test_size=0.2,random_state=12)"
   ]
  },
  {
   "cell_type": "code",
   "execution_count": 60,
   "id": "706530bb",
   "metadata": {},
   "outputs": [],
   "source": [
    "pred_test=lr.predict(features_test)"
   ]
  },
  {
   "cell_type": "code",
   "execution_count": 61,
   "id": "eb99a10e",
   "metadata": {},
   "outputs": [
    {
     "name": "stdout",
     "output_type": "stream",
     "text": [
      "-0.4465925999522531\n"
     ]
    }
   ],
   "source": [
    "print(r2_score(target_test,pred_test))"
   ]
  },
  {
   "cell_type": "markdown",
   "id": "963f5c1a",
   "metadata": {},
   "source": [
    "# Cross-validation of the model"
   ]
  },
  {
   "cell_type": "code",
   "execution_count": 62,
   "id": "1d412039",
   "metadata": {},
   "outputs": [
    {
     "name": "stdout",
     "output_type": "stream",
     "text": [
      "At cross fold 2 the cv score is -27.09470298458416 and accuracy score for training is -0.9353487574716204 and accuracy for the testing is -0.4465925999522531\n",
      "\n",
      "\n",
      "At cross fold 3 the cv score is -20.830529398655028 and accuracy score for training is -0.9353487574716204 and accuracy for the testing is -0.4465925999522531\n",
      "\n",
      "\n",
      "At cross fold 4 the cv score is -3.964468218012607 and accuracy score for training is -0.9353487574716204 and accuracy for the testing is -0.4465925999522531\n",
      "\n",
      "\n",
      "At cross fold 5 the cv score is -2.4559262426675716 and accuracy score for training is -0.9353487574716204 and accuracy for the testing is -0.4465925999522531\n",
      "\n",
      "\n",
      "At cross fold 6 the cv score is -3.8118083412574966 and accuracy score for training is -0.9353487574716204 and accuracy for the testing is -0.4465925999522531\n",
      "\n",
      "\n",
      "At cross fold 7 the cv score is -8.898086870114673 and accuracy score for training is -0.9353487574716204 and accuracy for the testing is -0.4465925999522531\n",
      "\n",
      "\n",
      "At cross fold 8 the cv score is -0.5987578885081979 and accuracy score for training is -0.9353487574716204 and accuracy for the testing is -0.4465925999522531\n",
      "\n",
      "\n",
      "At cross fold 9 the cv score is -0.5075552097350378 and accuracy score for training is -0.9353487574716204 and accuracy for the testing is -0.4465925999522531\n",
      "\n",
      "\n"
     ]
    }
   ],
   "source": [
    "Train_accuracy=r2_score(target_train,pred_train)\n",
    "Test_accuracy=r2_score(target_test,pred_test)\n",
    "\n",
    "from sklearn.model_selection import cross_val_score\n",
    "for j in range(2,10):\n",
    "    cv_score=cross_val_score(lr,features,target,cv=j)\n",
    "    cv_mean=cv_score.mean()\n",
    "    print(f\"At cross fold {j} the cv score is {cv_mean} and accuracy score for training is {Train_accuracy} and accuracy for the testing is {Test_accuracy}\")\n",
    "    print(\"\\n\")"
   ]
  },
  {
   "cell_type": "code",
   "execution_count": 63,
   "id": "09875f78",
   "metadata": {
    "scrolled": true
   },
   "outputs": [
    {
     "data": {
      "image/png": "[encoded data removed]",
      "text/plain": [
       "<Figure size 576x432 with 1 Axes>"
      ]
     },
     "metadata": {
      "needs_background": "light"
     },
     "output_type": "display_data"
    }
   ],
   "source": [
    "import matplotlib.pyplot as plt\n",
    "plt.figure(figsize=(8,6))\n",
    "plt.scatter(x=target_test,y=pred_test,color='r')\n",
    "plt.plot(target_test,target_test,color=\"r\")\n",
    "plt.xlabel('Actual charges',fontsize=14)\n",
    "plt.ylabel('predicted charges',fontsize=14)\n",
    "plt.title('Linear Regression',fontsize=18)\n",
    "plt.savefig('lr.png')\n",
    "plt.show()"
   ]
  },
  {
   "cell_type": "markdown",
   "id": "b47de351",
   "metadata": {},
   "source": [
    "# scatter plot:-"
   ]
  },
  {
   "cell_type": "code",
   "execution_count": 64,
   "id": "d5790b6a",
   "metadata": {},
   "outputs": [],
   "source": [
    "import seaborn as sns"
   ]
  },
  {
   "cell_type": "code",
   "execution_count": 65,
   "id": "0a99f55b",
   "metadata": {},
   "outputs": [
    {
     "data": {
      "text/plain": [
       "<AxesSubplot:xlabel='1', ylabel='1.1'>"
      ]
     },
     "execution_count": 65,
     "metadata": {},
     "output_type": "execute_result"
    },
    {
     "data": {
      "image/png": "[encoded data removed]",
      "text/plain": [
       "<Figure size 432x288 with 1 Axes>"
      ]
     },
     "metadata": {
      "needs_background": "light"
     },
     "output_type": "display_data"
    }
   ],
   "source": [
    "sns.scatterplot(x='1',y='1.1',data=df)"
   ]
  },
  {
   "cell_type": "code",
   "execution_count": 66,
   "id": "0b063dd2",
   "metadata": {},
   "outputs": [
    {
     "data": {
      "text/plain": [
       "<AxesSubplot:xlabel='1.52101', ylabel='1.1'>"
      ]
     },
     "execution_count": 66,
     "metadata": {},
     "output_type": "execute_result"
    },
    {
     "data": {
      "image/png": "[encoded data removed]",
      "text/plain": [
       "<Figure size 432x288 with 1 Axes>"
      ]
     },
     "metadata": {
      "needs_background": "light"
     },
     "output_type": "display_data"
    }
   ],
   "source": [
    "sns.scatterplot(x= '1.52101',y='1.1',data=df)"
   ]
  },
  {
   "cell_type": "code",
   "execution_count": 67,
   "id": "cf1046b7",
   "metadata": {},
   "outputs": [
    {
     "data": {
      "text/plain": [
       "<AxesSubplot:xlabel='13.64', ylabel='1.1'>"
      ]
     },
     "execution_count": 67,
     "metadata": {},
     "output_type": "execute_result"
    },
    {
     "data": {
      "image/png": "[encoded data removed]",
      "text/plain": [
       "<Figure size 432x288 with 1 Axes>"
      ]
     },
     "metadata": {
      "needs_background": "light"
     },
     "output_type": "display_data"
    }
   ],
   "source": [
    "sns.scatterplot(x='13.64',y='1.1',data=df)"
   ]
  },
  {
   "cell_type": "code",
   "execution_count": 68,
   "id": "c6926b05",
   "metadata": {},
   "outputs": [
    {
     "data": {
      "text/plain": [
       "<AxesSubplot:xlabel='4.49', ylabel='1.1'>"
      ]
     },
     "execution_count": 68,
     "metadata": {},
     "output_type": "execute_result"
    },
    {
     "data": {
      "image/png": "[encoded data removed]",
      "text/plain": [
       "<Figure size 432x288 with 1 Axes>"
      ]
     },
     "metadata": {
      "needs_background": "light"
     },
     "output_type": "display_data"
    }
   ],
   "source": [
    "sns.scatterplot(x='4.49',y='1.1',data=df)"
   ]
  },
  {
   "cell_type": "code",
   "execution_count": 69,
   "id": "5b752e9e",
   "metadata": {},
   "outputs": [
    {
     "data": {
      "text/plain": [
       "<AxesSubplot:xlabel='1.10', ylabel='1.1'>"
      ]
     },
     "execution_count": 69,
     "metadata": {},
     "output_type": "execute_result"
    },
    {
     "data": {
      "image/png": "[encoded data removed]",
      "text/plain": [
       "<Figure size 432x288 with 1 Axes>"
      ]
     },
     "metadata": {
      "needs_background": "light"
     },
     "output_type": "display_data"
    }
   ],
   "source": [
    "sns.scatterplot(x='1.10',y='1.1',data=df)"
   ]
  },
  {
   "cell_type": "code",
   "execution_count": 70,
   "id": "f385a44c",
   "metadata": {},
   "outputs": [
    {
     "data": {
      "text/plain": [
       "<AxesSubplot:xlabel='71.78', ylabel='1.1'>"
      ]
     },
     "execution_count": 70,
     "metadata": {},
     "output_type": "execute_result"
    },
    {
     "data": {
      "image/png": "[encoded data removed]",
      "text/plain": [
       "<Figure size 432x288 with 1 Axes>"
      ]
     },
     "metadata": {
      "needs_background": "light"
     },
     "output_type": "display_data"
    }
   ],
   "source": [
    "sns.scatterplot(x='71.78',y='1.1',data=df)"
   ]
  },
  {
   "cell_type": "code",
   "execution_count": 71,
   "id": "49e40819",
   "metadata": {},
   "outputs": [
    {
     "data": {
      "text/plain": [
       "<AxesSubplot:xlabel='0.06', ylabel='1.1'>"
      ]
     },
     "execution_count": 71,
     "metadata": {},
     "output_type": "execute_result"
    },
    {
     "data": {
      "image/png": "[encoded data removed]",
      "text/plain": [
       "<Figure size 432x288 with 1 Axes>"
      ]
     },
     "metadata": {
      "needs_background": "light"
     },
     "output_type": "display_data"
    }
   ],
   "source": [
    "sns.scatterplot(x='0.06',y='1.1',data=df)"
   ]
  },
  {
   "cell_type": "code",
   "execution_count": 72,
   "id": "91ed442c",
   "metadata": {},
   "outputs": [
    {
     "data": {
      "text/plain": [
       "<AxesSubplot:xlabel='8.75', ylabel='1.1'>"
      ]
     },
     "execution_count": 72,
     "metadata": {},
     "output_type": "execute_result"
    },
    {
     "data": {
      "image/png": "[encoded data removed]",
      "text/plain": [
       "<Figure size 432x288 with 1 Axes>"
      ]
     },
     "metadata": {
      "needs_background": "light"
     },
     "output_type": "display_data"
    }
   ],
   "source": [
    "sns.scatterplot(x='8.75',y='1.1',data=df)"
   ]
  },
  {
   "cell_type": "code",
   "execution_count": 73,
   "id": "3cc2648a",
   "metadata": {},
   "outputs": [
    {
     "data": {
      "text/plain": [
       "<AxesSubplot:xlabel='0.00', ylabel='1.1'>"
      ]
     },
     "execution_count": 73,
     "metadata": {},
     "output_type": "execute_result"
    },
    {
     "data": {
      "image/png": "[encoded data removed]",
      "text/plain": [
       "<Figure size 432x288 with 1 Axes>"
      ]
     },
     "metadata": {
      "needs_background": "light"
     },
     "output_type": "display_data"
    }
   ],
   "source": [
    "sns.scatterplot(x='0.00',y='1.1',data=df)"
   ]
  },
  {
   "cell_type": "code",
   "execution_count": 74,
   "id": "3327499d",
   "metadata": {},
   "outputs": [
    {
     "data": {
      "text/plain": [
       "<AxesSubplot:xlabel='0.00.1', ylabel='1.1'>"
      ]
     },
     "execution_count": 74,
     "metadata": {},
     "output_type": "execute_result"
    },
    {
     "data": {
      "image/png": "[encoded data removed]",
      "text/plain": [
       "<Figure size 432x288 with 1 Axes>"
      ]
     },
     "metadata": {
      "needs_background": "light"
     },
     "output_type": "display_data"
    }
   ],
   "source": [
    "sns.scatterplot(x='0.00.1',y='1.1',data=df)"
   ]
  }
 ],
 "metadata": {
  "kernelspec": {
   "display_name": "Python 3 (ipykernel)",
   "language": "python",
   "name": "python3"
  },
  "language_info": {
   "codemirror_mode": {
    "name": "ipython",
    "version": 3
   },
   "file_extension": ".py",
   "mimetype": "text/x-python",
   "name": "python",
   "nbconvert_exporter": "python",
   "pygments_lexer": "ipython3",
   "version": "3.9.12"
  }
 },
 "nbformat": 4,
 "nbformat_minor": 5
}
